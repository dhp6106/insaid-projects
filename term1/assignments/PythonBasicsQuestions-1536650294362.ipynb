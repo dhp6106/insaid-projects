{
 "cells": [
  {
   "cell_type": "markdown",
   "metadata": {},
   "source": [
    "<img src='https://www.insaid.co/wp-content/uploads/2018/04/INSAID_Logo-1.png' height=\"240\" width=\"360\"/>\n",
    "<br/>\n",
    "# Python basics"
   ]
  },
  {
   "cell_type": "markdown",
   "metadata": {
    "collapsed": true
   },
   "source": [
    "### 1.Write a Python program to print the following string\n",
    "\n",
    "Sample String: \"Welcome to INSAID- International School of AI and Data Science\"\n",
    "\n"
   ]
  },
  {
   "cell_type": "code",
   "execution_count": 1,
   "metadata": {},
   "outputs": [
    {
     "name": "stdout",
     "output_type": "stream",
     "text": [
      "\"Welcome to INSAID- International School of AI and Data Science\"\n"
     ]
    }
   ],
   "source": [
    "print('\"Welcome to INSAID- International School of AI and Data Science\"')"
   ]
  },
  {
   "cell_type": "markdown",
   "metadata": {},
   "source": [
    "### 1.1 In a “Hello, World!” program, a comment may look like this:"
   ]
  },
  {
   "cell_type": "code",
   "execution_count": 2,
   "metadata": {},
   "outputs": [
    {
     "name": "stdout",
     "output_type": "stream",
     "text": [
      "Hello, World!\n"
     ]
    }
   ],
   "source": [
    "# Print “Hello, World!” to console\n",
    "print(\"Hello, World!\")"
   ]
  },
  {
   "cell_type": "code",
   "execution_count": 3,
   "metadata": {},
   "outputs": [
    {
     "name": "stdout",
     "output_type": "stream",
     "text": [
      "hammer\n",
      "white\n",
      "fish\n",
      "frilled\n",
      "bullhead\n",
      "requiem\n"
     ]
    }
   ],
   "source": [
    "# Define sharks variable as a list of strings ('hammer', 'white', 'fish', 'frilled', 'bullhead', 'requiem')\n",
    "sharks = ['hammer', 'white', 'fish', 'frilled', 'bullhead', 'requiem']\n",
    "\n",
    "# For loop that iterates over sharks list and prints each string item\n",
    "for shark in sharks:\n",
    "    print(shark)"
   ]
  },
  {
   "cell_type": "markdown",
   "metadata": {},
   "source": [
    "### 2.Write a Python Program to Add Two Numbers"
   ]
  },
  {
   "cell_type": "code",
   "execution_count": 4,
   "metadata": {},
   "outputs": [
    {
     "name": "stdout",
     "output_type": "stream",
     "text": [
      "Sum of numbers 23 and 30 is 53\n"
     ]
    }
   ],
   "source": [
    "# initialise two varaibles\n",
    "var1 = 23\n",
    "var2 = 30\n",
    "\n",
    "# Add two numbers\n",
    "sum1 = var1+var2\n",
    "\n",
    "# Display the sum\n",
    "print('Sum of numbers {0} and {1} is {2}'.format(var1,var2,sum1))"
   ]
  },
  {
   "cell_type": "markdown",
   "metadata": {},
   "source": [
    "### 3.Write a Python Program to Find the product of two numbers"
   ]
  },
  {
   "cell_type": "code",
   "execution_count": 5,
   "metadata": {},
   "outputs": [
    {
     "name": "stdout",
     "output_type": "stream",
     "text": [
      "product of numbers 23 and 30 is 690\n"
     ]
    }
   ],
   "source": [
    "# initialise two varaibles\n",
    "var1 = 23\n",
    "var2 = 30\n",
    "\n",
    "# multiply two numbers\n",
    "prod1 = var1*var2\n",
    "\n",
    "# Display the sum\n",
    "print('product of numbers {0} and {1} is {2}'.format(var1,var2,prod1))"
   ]
  },
  {
   "cell_type": "markdown",
   "metadata": {},
   "source": [
    "### 4.Write a python program to find the area of triangle given height and base of the triangle as 3 and 10."
   ]
  },
  {
   "cell_type": "code",
   "execution_count": 6,
   "metadata": {},
   "outputs": [
    {
     "name": "stdout",
     "output_type": "stream",
     "text": [
      "\n",
      "    This fnction returns area of a triangle given base and height\n",
      "    \n",
      "15.0\n"
     ]
    }
   ],
   "source": [
    "# Area of the triangle A= 1/2(base * height)\n",
    "\n",
    "#given height=3 and base =10\n",
    "\n",
    "height=3\n",
    "base =10\n",
    "\n",
    "\n",
    "def areaOfTriangle(base,height):\n",
    "    '''\n",
    "    This fnction returns area of a triangle given base and height\n",
    "    '''\n",
    "    area = (base*height)/2\n",
    "    return area\n",
    "\n",
    "print(areaOfTriangle.__doc__)\n",
    "\n",
    "area1 = areaOfTriangle(base,height)\n",
    "print(area1)"
   ]
  },
  {
   "cell_type": "markdown",
   "metadata": {},
   "source": [
    "### 5.Python Program to Swap Two Variables"
   ]
  },
  {
   "cell_type": "code",
   "execution_count": 7,
   "metadata": {},
   "outputs": [
    {
     "name": "stdout",
     "output_type": "stream",
     "text": [
      "height is 3 and base is 10\n",
      "height is 10 and base is 3\n",
      "Other way to do this is : height is 3 and base is 10\n"
     ]
    }
   ],
   "source": [
    "# initialise two varaibles\n",
    "height=3\n",
    "base =10\n",
    "print(\"height is {} and base is {}\".format(height, base))\n",
    "# create a temporary variable and swap the values\n",
    "temp = height\n",
    "height = base\n",
    "base = temp\n",
    "print(\"height is {} and base is {}\".format(height, base))\n",
    "\n",
    "# Other way to do this without Temp variable\n",
    "height, base = base, height\n",
    "print(\"Other way to do this is : height is {} and base is {}\".format(height, base))"
   ]
  },
  {
   "cell_type": "markdown",
   "metadata": {},
   "source": [
    "## Section"
   ]
  },
  {
   "cell_type": "markdown",
   "metadata": {
    "collapsed": true
   },
   "source": [
    "### 1.Write a python program to print datatype of a varaible"
   ]
  },
  {
   "cell_type": "code",
   "execution_count": 8,
   "metadata": {},
   "outputs": [
    {
     "name": "stdout",
     "output_type": "stream",
     "text": [
      "<class 'int'>\n",
      "<class 'float'>\n",
      "<class 'complex'>\n"
     ]
    }
   ],
   "source": [
    "a = 1\n",
    "print(type(a))\n",
    "\n",
    "b = 2.0\n",
    "print(type(b))\n",
    "\n",
    "c = 1+2j\n",
    "print(type(c))"
   ]
  },
  {
   "cell_type": "markdown",
   "metadata": {},
   "source": [
    "### 2.Write a python program to extract an item or a range of items from a list.\n",
    "\n"
   ]
  },
  {
   "cell_type": "code",
   "execution_count": 9,
   "metadata": {},
   "outputs": [
    {
     "name": "stdout",
     "output_type": "stream",
     "text": [
      "20\n",
      "[15, 20, 35]\n",
      "[30, 35, 60]\n",
      "[15, 20, 35, 40, 45]\n",
      "[60, 35, 30, 45, 40, 35, 20, 15]\n"
     ]
    }
   ],
   "source": [
    "a = [15,20,35,40,45,30,35,60]\n",
    "\n",
    "# Print the item at index 2\n",
    "print(a[1])\n",
    "# Print the first 3 items\n",
    "print(a[:3])\n",
    "# Print the last 3 items\n",
    "print(a[-3:])\n",
    "# Start to third last item\n",
    "print(a[:-3])\n",
    "# reversing the list using strides (third arg in the [] is the stride)\n",
    "print(a[::-1])"
   ]
  },
  {
   "cell_type": "markdown",
   "metadata": {},
   "source": [
    "### 3.Converting Floats to Integers\n"
   ]
  },
  {
   "cell_type": "code",
   "execution_count": 10,
   "metadata": {},
   "outputs": [
    {
     "name": "stdout",
     "output_type": "stream",
     "text": [
      "125\n",
      "390\n"
     ]
    }
   ],
   "source": [
    "b = 125.0\n",
    "c = 390.8\n",
    "\n",
    "# Print the Integer values\n",
    "print(int(b))\n",
    "print(int(c))\n"
   ]
  },
  {
   "cell_type": "markdown",
   "metadata": {},
   "source": [
    "### 4.Converting Numbers to Strings"
   ]
  },
  {
   "cell_type": "code",
   "execution_count": 11,
   "metadata": {},
   "outputs": [
    {
     "name": "stdout",
     "output_type": "stream",
     "text": [
      "10 is of type <class 'int'>\n",
      "10\n"
     ]
    }
   ],
   "source": [
    "a = 10\n",
    "\n",
    "print(a, \"is of type\", type(a))\n",
    "\n",
    "# Convert the value in a to a string and then print\n",
    "print(str(a))"
   ]
  },
  {
   "cell_type": "markdown",
   "metadata": {},
   "source": [
    "### 5.Converting Strings to Numbers"
   ]
  },
  {
   "cell_type": "code",
   "execution_count": 12,
   "metadata": {},
   "outputs": [
    {
     "name": "stdout",
     "output_type": "stream",
     "text": [
      "58\n"
     ]
    }
   ],
   "source": [
    "a = \"50\"\n",
    "b = \"108\"\n",
    "\n",
    "# Find the difference between a and b\n",
    "print(int(b)-int(a))\n"
   ]
  },
  {
   "cell_type": "markdown",
   "metadata": {},
   "source": [
    "### 6.Converting list to Tuples"
   ]
  },
  {
   "cell_type": "code",
   "execution_count": 13,
   "metadata": {},
   "outputs": [
    {
     "data": {
      "text/plain": [
       "('request', 'source', 'repository', 'branch')"
      ]
     },
     "execution_count": 13,
     "metadata": {},
     "output_type": "execute_result"
    }
   ],
   "source": [
    "myList = ['request', 'source', 'repository', 'branch']\n",
    "\n",
    "# Print myList to a Tuple\n",
    "tuple(myList)"
   ]
  },
  {
   "cell_type": "markdown",
   "metadata": {},
   "source": [
    "### 7.Converting tuple to Lists"
   ]
  },
  {
   "cell_type": "code",
   "execution_count": 14,
   "metadata": {},
   "outputs": [
    {
     "data": {
      "text/plain": [
       "['blue', 'red', 'white']"
      ]
     },
     "execution_count": 14,
     "metadata": {},
     "output_type": "execute_result"
    }
   ],
   "source": [
    "myTuple = ('blue', 'red', 'white')\n",
    "\n",
    "# Print myTuple to a List\n",
    "list(myTuple)"
   ]
  },
  {
   "cell_type": "markdown",
   "metadata": {
    "collapsed": true
   },
   "source": [
    "### 8.converting strings to lists:"
   ]
  },
  {
   "cell_type": "code",
   "execution_count": 15,
   "metadata": {},
   "outputs": [
    {
     "name": "stdout",
     "output_type": "stream",
     "text": [
      "['I', 'N', 'S', 'A', 'I', 'D']\n",
      "{'A', 'D', 'I', 'N', 'S'}\n"
     ]
    }
   ],
   "source": [
    "myString = 'INSAID'\n",
    "\n",
    "# Convert myString to List\n",
    "print(list(myString))\n",
    "print(set(myString))"
   ]
  },
  {
   "cell_type": "markdown",
   "metadata": {},
   "source": [
    "### 9.Assign different data types to a varibles"
   ]
  },
  {
   "cell_type": "code",
   "execution_count": 16,
   "metadata": {},
   "outputs": [],
   "source": [
    "# Try string, float, boolean, list, tuple, dictionary\n",
    "\n",
    "myString = 'This is my first string'\n",
    "myFloat = 23.2\n",
    "myBoolean = True\n",
    "myList=['as','as','sdc',12,234.42,'qweq']\n",
    "myTuple = (1,2,3,4,5,6)\n",
    "myDictionary = {'a':'abc','b':'bcd','c':'cde','d':'def'}\n"
   ]
  },
  {
   "cell_type": "markdown",
   "metadata": {},
   "source": [
    "## Section"
   ]
  },
  {
   "cell_type": "markdown",
   "metadata": {
    "collapsed": true
   },
   "source": [
    "### Print out a string that uses a formatter"
   ]
  },
  {
   "cell_type": "code",
   "execution_count": 17,
   "metadata": {},
   "outputs": [
    {
     "name": "stdout",
     "output_type": "stream",
     "text": [
      "John has 5 cars.\n"
     ]
    }
   ],
   "source": [
    "# Print \"john has 5 cars.\" using formatter\n",
    "cars = 5\n",
    "print('John has {cars} cars.'.format(cars=cars))"
   ]
  },
  {
   "cell_type": "markdown",
   "metadata": {},
   "source": [
    "### We can also assign a variable to be equal to the value of a string that has formatter placeholders:"
   ]
  },
  {
   "cell_type": "code",
   "execution_count": 18,
   "metadata": {},
   "outputs": [
    {
     "name": "stdout",
     "output_type": "stream",
     "text": [
      "John likes open source.\n"
     ]
    }
   ],
   "source": [
    "open_string = \"John likes {}.\"\n",
    "\n",
    "# Use format method to print the following output \"john likes open source.\"\n",
    "print(open_string.format('open source'))"
   ]
  },
  {
   "cell_type": "markdown",
   "metadata": {},
   "source": [
    "### Using Formatters with Multiple Placeholders"
   ]
  },
  {
   "cell_type": "code",
   "execution_count": 19,
   "metadata": {},
   "outputs": [
    {
     "data": {
      "text/plain": [
       "'john likes open source software.'"
      ]
     },
     "execution_count": 19,
     "metadata": {},
     "output_type": "execute_result"
    }
   ],
   "source": [
    "new_open_string = \"john likes {} {}.\"                      #2 {} placeholders\n",
    "# Pass 2 strings into format method, separated by a comma to get output \"john likes open-source software.\"\n",
    "new_open_string.format('open source', 'software')"
   ]
  },
  {
   "cell_type": "code",
   "execution_count": 20,
   "metadata": {},
   "outputs": [
    {
     "data": {
      "text/plain": [
       "'john loves open source software, and has 5 balloons.'"
      ]
     },
     "execution_count": 20,
     "metadata": {},
     "output_type": "execute_result"
    }
   ],
   "source": [
    "new_open_string = \"john loves {} {}, and has {} {}.\"                      #4 {} placeholders\n",
    "# Pass 4 strings into method to get output \"john loves open-source software, and has 5 balloons.\"\n",
    "\n",
    "new_open_string.format('open source', 'software',5, 'balloons')"
   ]
  },
  {
   "cell_type": "markdown",
   "metadata": {},
   "source": [
    "### Reordering Formatters with Positional and Keyword Arguments\n"
   ]
  },
  {
   "cell_type": "code",
   "execution_count": 21,
   "metadata": {},
   "outputs": [
    {
     "name": "stdout",
     "output_type": "stream",
     "text": [
      "john the shark has a pet pilot fish!\n"
     ]
    }
   ],
   "source": [
    "# Reference sample\n",
    "print(\"john the {} has a pet {}!\".format(\"shark\", \"pilot fish\"))"
   ]
  },
  {
   "cell_type": "markdown",
   "metadata": {},
   "source": [
    "### We can pass these index numbers into the curly braces that serve as the placeholders in the original string:"
   ]
  },
  {
   "cell_type": "code",
   "execution_count": 22,
   "metadata": {},
   "outputs": [
    {
     "name": "stdout",
     "output_type": "stream",
     "text": [
      "john the shark has a pet pilot fish!\n",
      "john is a smiling, happy, and blue shark!\n"
     ]
    }
   ],
   "source": [
    "# Reference Sample\n",
    "print(\"john the {0} has a pet {1}!\".format(\"shark\", \"pilot fish\"))\n",
    "\n",
    "print(\"john is a {1}, {0}, and {2} {3}!\".format(\"happy\", \"smiling\", \"blue\", \"shark\"))\n"
   ]
  },
  {
   "cell_type": "markdown",
   "metadata": {},
   "source": [
    "### Python Program to Get String Input from User\n"
   ]
  },
  {
   "cell_type": "code",
   "execution_count": 23,
   "metadata": {},
   "outputs": [
    {
     "name": "stdout",
     "output_type": "stream",
     "text": [
      "Please input a string:this is a test\n",
      "this is a test\n"
     ]
    }
   ],
   "source": [
    "#Enter any string and print it\n",
    "sampStr = input(\"Please input a string:\")\n",
    "print(sampStr)"
   ]
  },
  {
   "cell_type": "markdown",
   "metadata": {
    "collapsed": true
   },
   "source": [
    "### Python program for conditional statements\n",
    "\n",
    "### 1)If the student receives over 65% on her test, report that her grade passes; if not, report that her grade fails"
   ]
  },
  {
   "cell_type": "code",
   "execution_count": 24,
   "metadata": {},
   "outputs": [
    {
     "name": "stdout",
     "output_type": "stream",
     "text": [
      "Student student1 passed with 70% marks\n",
      "Student student2 failed with 65% marks\n",
      "Student student3 failed with 50% marks\n",
      "Student student4 passed with 90% marks\n",
      "Student student5 failed with 60% marks\n"
     ]
    }
   ],
   "source": [
    "grades = [70,65,50,90,60]\n",
    "for grade in grades:\n",
    "    if grade > 65:\n",
    "        print(\"Student student{} passed with {}% marks\".format(grades.index(grade)+1,grade))\n",
    "    else:\n",
    "        print(\"Student student{} failed with {}% marks\".format(grades.index(grade)+1,grade))"
   ]
  },
  {
   "cell_type": "code",
   "execution_count": 25,
   "metadata": {},
   "outputs": [
    {
     "name": "stdout",
     "output_type": "stream",
     "text": [
      "Student student5 failed with 60% marks\n"
     ]
    }
   ],
   "source": [
    "# Use only if\n",
    "grade = 60\n",
    "\n",
    "if grade > 65:\n",
    "    print(\"Student student{} passed with {}% marks\".format(grades.index(grade)+1,grade))\n",
    "else:\n",
    "    print(\"Student student{} failed with {}% marks\".format(grades.index(grade)+1,grade))"
   ]
  },
  {
   "cell_type": "markdown",
   "metadata": {},
   "source": [
    "### Write a python program calculate whether a bank account balance is below 0 and print appropriate message."
   ]
  },
  {
   "cell_type": "code",
   "execution_count": 26,
   "metadata": {},
   "outputs": [
    {
     "name": "stdout",
     "output_type": "stream",
     "text": [
      "You have Rs.522.00 in your account.\n"
     ]
    }
   ],
   "source": [
    "# Use if else\n",
    "balance = 522\n",
    "\n",
    "if balance < 0:\n",
    "    print('Account Balance is insufficient.')\n",
    "else:\n",
    "    print('You have Rs.{}.00 in your account.'.format(balance))"
   ]
  },
  {
   "cell_type": "markdown",
   "metadata": {},
   "source": [
    "### Using Else if statement"
   ]
  },
  {
   "cell_type": "code",
   "execution_count": 27,
   "metadata": {},
   "outputs": [
    {
     "name": "stdout",
     "output_type": "stream",
     "text": [
      "You have Rs.522.00 in your account.\n"
     ]
    }
   ],
   "source": [
    "balance = 522\n",
    "\n",
    "if balance < 0:\n",
    "    print('Account Balance is negative. Please deposite to avoid account suspention.')\n",
    "elif balance < 100:\n",
    "    print('Account Balance is insufficient.')\n",
    "else:\n",
    "    print('You have Rs.{}.00 in your account.'.format(balance))"
   ]
  },
  {
   "cell_type": "markdown",
   "metadata": {},
   "source": [
    "### Python program to print  Fibonacci series between 0 to 50."
   ]
  },
  {
   "cell_type": "code",
   "execution_count": 28,
   "metadata": {},
   "outputs": [
    {
     "name": "stdout",
     "output_type": "stream",
     "text": [
      "Input a positive integer  which you want fibonacci numbers :10\n",
      "0 1 1 , 1 1 0 , 1 2 1 , 2 3 1 , 3 5 2 , 5 8 3 , 8 13 5 , 13 21 8 , 21 34 13 , [0, 1, 1, 2, 3, 5, 8, 13, 21, 34]\n"
     ]
    }
   ],
   "source": [
    "maxNumTill = int(input('Input a positive integer  which you want fibonacci numbers :'))\n",
    "startNum = 1\n",
    "nextNum = 0\n",
    "tempNum = 0\n",
    "count =0\n",
    "fiboSeries = [0]\n",
    "while count < maxNumTill-1:\n",
    "    tempNum,startNum = startNum, nextNum\n",
    "    nextNum = tempNum+nextNum\n",
    "    print(startNum, nextNum, tempNum, end = ' , ')\n",
    "    fiboSeries.append(nextNum)\n",
    "    count += 1\n",
    "    \n",
    "print(fiboSeries)"
   ]
  },
  {
   "cell_type": "markdown",
   "metadata": {},
   "source": [
    "### Python program to find numbers which are divisible by 7 and multiple of 5 between a range 150 to 270"
   ]
  },
  {
   "cell_type": "code",
   "execution_count": 29,
   "metadata": {},
   "outputs": [
    {
     "name": "stdout",
     "output_type": "stream",
     "text": [
      "Input possitive Integer as start of range:150\n",
      "Input possitive Integer as start of range:270\n",
      "[175, 210, 245]\n",
      "Input possitive Integer as start of range:150\n",
      "Input possitive Integer as start of range:270\n",
      "[175, 210, 245]\n"
     ]
    }
   ],
   "source": [
    "startRange = int(input(\"Input possitive Integer as start of range:\"))\n",
    "endRange = int(input(\"Input possitive Integer as end of range:\"))\n",
    "\n",
    "rangeNums = range(startRange,endRange)\n",
    "nums=[]\n",
    "\n",
    "for i in rangeNums:\n",
    "    if (i%7 == 0) and (i%5 == 0):\n",
    "        nums.append(i)\n",
    "\n",
    "print(nums)\n",
    "\n",
    "\n",
    "startRange = int(input(\"Input possitive Integer as start of range:\"))\n",
    "endRange = int(input(\"Input possitive Integer as end of range:\"))\n",
    "\n",
    "rangeNums = range(startRange,endRange,5)\n",
    "nums=[]\n",
    "\n",
    "for i in rangeNums:\n",
    "    if (i%7 == 0):\n",
    "        nums.append(i)\n",
    "\n",
    "print(nums)\n"
   ]
  },
  {
   "cell_type": "markdown",
   "metadata": {},
   "source": [
    "### Python program to Sum all the items in a list"
   ]
  },
  {
   "cell_type": "code",
   "execution_count": null,
   "metadata": {},
   "outputs": [],
   "source": []
  },
  {
   "cell_type": "code",
   "execution_count": 30,
   "metadata": {},
   "outputs": [
    {
     "name": "stdout",
     "output_type": "stream",
     "text": [
      "74\n"
     ]
    }
   ],
   "source": [
    "def sum_list(items):\n",
    "    # Your code here\n",
    "    sumOfList = 0\n",
    "    for i in items:\n",
    "        sumOfList += i\n",
    "    return sumOfList # Your variable\n",
    "\n",
    "print(sum_list([20,12,20,22]))"
   ]
  },
  {
   "cell_type": "markdown",
   "metadata": {},
   "source": [
    "### Python program to Remove duplicates from a list."
   ]
  },
  {
   "cell_type": "code",
   "execution_count": 31,
   "metadata": {},
   "outputs": [
    {
     "name": "stdout",
     "output_type": "stream",
     "text": [
      "[10, 20, 30, 40, 50, 60, 70, 80]\n",
      "[70, 40, 10, 80, 50, 20, 60, 30]\n"
     ]
    }
   ],
   "source": [
    "a = [10,20,30,40,50,60,70,40,80,50,40]\n",
    "# Option 1 : if the order needs to be maintained.\n",
    "idx_a = 0\n",
    "for i in a:\n",
    "#     print('idx_a : ',idx_a)\n",
    "    idx_b = 0\n",
    "    for j in a:        \n",
    "        if i == j and idx_a != idx_b:  \n",
    "#             print('idx_b : ',idx_b, ' And Vales at idx_a and idx_b are {} and {}'.format(a[idx_a], a[idx_b]))\n",
    "            a.pop(idx_b)\n",
    "        idx_b += 1\n",
    "    idx_a += 1\n",
    "\n",
    "#Option 2 : if order is not important.\n",
    "\n",
    "a_noDups = list(set(a))\n",
    "    \n",
    "    \n",
    "\n",
    "print(a)\n",
    "print(a_noDups)"
   ]
  },
  {
   "cell_type": "markdown",
   "metadata": {},
   "source": [
    "### Python program to Get the largest number from a list."
   ]
  },
  {
   "cell_type": "code",
   "execution_count": 32,
   "metadata": {},
   "outputs": [
    {
     "name": "stdout",
     "output_type": "stream",
     "text": [
      "28\n"
     ]
    }
   ],
   "source": [
    "def max_num_in_list( list ):\n",
    "    # Your code\n",
    "    largestNum = list[0]\n",
    "    for i in list:\n",
    "        if i > largestNum:\n",
    "            largestNum = i   \n",
    "    return largestNum # Maximum value\n",
    "\n",
    "\n",
    "print(max_num_in_list([1, 12, 28, 0]))"
   ]
  },
  {
   "cell_type": "markdown",
   "metadata": {},
   "source": [
    "### Concatenation of Tuples."
   ]
  },
  {
   "cell_type": "code",
   "execution_count": 33,
   "metadata": {},
   "outputs": [
    {
     "name": "stdout",
     "output_type": "stream",
     "text": [
      "(0, 1, 2, 3, 'python', 'code')\n"
     ]
    }
   ],
   "source": [
    "# Code for concatenating 2 tuples\n",
    " \n",
    "tuple1 = (0, 1, 2, 3)\n",
    "tuple2 = ('python', 'code')\n",
    "\n",
    "tuple3 = tuple1 + tuple2\n",
    " \n",
    "# Concatenating above two\n",
    "print(tuple3)"
   ]
  },
  {
   "cell_type": "markdown",
   "metadata": {},
   "source": [
    "### Nesting of Tuples."
   ]
  },
  {
   "cell_type": "code",
   "execution_count": 34,
   "metadata": {},
   "outputs": [
    {
     "name": "stdout",
     "output_type": "stream",
     "text": [
      "((0, 1, 2, 3), ('python', 'code'))\n"
     ]
    }
   ],
   "source": [
    "# Code for creating nested tuples\n",
    " \n",
    "tuple1 = (0, 1, 2, 3)\n",
    "tuple2 = ('python', 'code')\n",
    "tuple3 = (tuple1,tuple2) # Your code goes here\n",
    "print(tuple3)\n"
   ]
  },
  {
   "cell_type": "markdown",
   "metadata": {},
   "source": [
    "### Write a Python program to add an item in a tuple."
   ]
  },
  {
   "cell_type": "code",
   "execution_count": 35,
   "metadata": {},
   "outputs": [
    {
     "name": "stdout",
     "output_type": "stream",
     "text": [
      "2333128106704\n",
      "(1, 2, 3, 4, 5, 6) (1, 2, 3)\n",
      "2333104952424 2333128106704\n"
     ]
    }
   ],
   "source": [
    "a= (1,2,3)\n",
    "print(id(a))\n",
    "b=a\n",
    "a=a+(4,5,6)\n",
    "print(a,b)\n",
    "print(id(a), id(b))"
   ]
  },
  {
   "cell_type": "code",
   "execution_count": 36,
   "metadata": {},
   "outputs": [
    {
     "name": "stdout",
     "output_type": "stream",
     "text": [
      "(1, 2, 3, 4, 5, 6, 7, 6, 5, 4, 3, 2, 1)\n",
      "(1, 2, 3, 4, 5, 6, 7, 6, 5, 4, 3, 2, 1, 0, 1, 2, 3, 4, 5, 6, 7)\n",
      "(1, 2, 3, 0, 1, 2, 3, 4, 5, 6, 7, 4, 5, 6, 7, 6, 5, 4, 3, 2, 1)\n"
     ]
    }
   ],
   "source": [
    "# Create a tuple & print\n",
    "myTup = (1,2,3,4,5,6,7,6,5,4,3,2,1)\n",
    "\n",
    "print(myTup)\n",
    "\n",
    "#tuples are immutable, so you can not add new elements\n",
    "#using merge of tuples with the + operator you can add an element and it will create a new tuple\n",
    "\n",
    "myTup1 = myTup + (0,1,2,3,4,5,6,7)\n",
    "print(myTup1)\n",
    "# Adding items in a specific index\n",
    "myTup2 = myTup[:3]+(0,1,2,3,4,5,6,7)+myTup[3:]\n",
    "print(myTup2)"
   ]
  },
  {
   "cell_type": "markdown",
   "metadata": {},
   "source": [
    "### Write a Python program to remove an item from a tuple."
   ]
  },
  {
   "cell_type": "code",
   "execution_count": 37,
   "metadata": {},
   "outputs": [
    {
     "name": "stdout",
     "output_type": "stream",
     "text": [
      "(1, 2, 3, 4, 5, 6, 6, 5, 4, 3, 2, 1)\n"
     ]
    }
   ],
   "source": [
    "# Create a tuple and print it\n",
    "myTup = (1,2,3,4,5,6,7,6,5,4,3,2,1)\n",
    "\n",
    "# Find a way to remove an item of the tuple (Hint: Use other data types)\n",
    "def removeElem(tup, idx):\n",
    "    tupList = list(tup)\n",
    "    tupList.pop(idx)\n",
    "    return tuple(tupList)\n",
    "\n",
    "\n",
    "print(removeElem(myTup,6))"
   ]
  },
  {
   "cell_type": "markdown",
   "metadata": {},
   "source": [
    "### Python Program to Check if a given key already exists in a dictionary."
   ]
  },
  {
   "cell_type": "code",
   "execution_count": 38,
   "metadata": {},
   "outputs": [
    {
     "name": "stdout",
     "output_type": "stream",
     "text": [
      "True\n",
      "False\n"
     ]
    }
   ],
   "source": [
    "d = {1: 10, 2: 20, 3: 30, 4: 40, 5: 50, 6: 60}\n",
    "def is_key_present(x):\n",
    "    # Your code goes here\n",
    "    if x in d.keys():\n",
    "        return True\n",
    "    else:\n",
    "        return False\n",
    "#     return # Your observation\n",
    "print(is_key_present(5))\n",
    "print(is_key_present(9))"
   ]
  },
  {
   "cell_type": "markdown",
   "metadata": {},
   "source": [
    "### Write a Python script to merge two Python dictionaries."
   ]
  },
  {
   "cell_type": "code",
   "execution_count": 39,
   "metadata": {},
   "outputs": [
    {
     "name": "stdout",
     "output_type": "stream",
     "text": [
      "{'a': 100, 'b': 200, 'x': 300, 'y': 200}\n"
     ]
    }
   ],
   "source": [
    "d1 = {'a': 100, 'b': 200}\n",
    "d2 = {'x': 300, 'y': 200}\n",
    "\n",
    "# Your code\n",
    "d = d1.copy()\n",
    "d.update(d2)\n",
    "\n",
    "print(d)\n"
   ]
  },
  {
   "cell_type": "markdown",
   "metadata": {},
   "source": [
    "### Write a Python function to find the Max of three numbers."
   ]
  },
  {
   "cell_type": "code",
   "execution_count": 40,
   "metadata": {},
   "outputs": [
    {
     "name": "stdout",
     "output_type": "stream",
     "text": [
      "26\n",
      "50\n",
      "-5\n",
      "1\n"
     ]
    }
   ],
   "source": [
    "def max_of_two( x, y ):\n",
    "    # Your code here\n",
    "    if x > y:\n",
    "        max = x\n",
    "    else:\n",
    "        max = y\n",
    "    return max # Your answer\n",
    "def max_of_three( x, y, z ):\n",
    "    # Your code here use max_of_two\n",
    "    max = max_of_two(max_of_two(x,y),z)\n",
    "    return max # Your answer\n",
    "print(max_of_three(13, 26, -5))\n",
    "print(max_of_three(13, 26, 50))\n",
    "print(max_of_three(-10, -26, -5))\n",
    "print(max_of_three(1, -26, -5))"
   ]
  },
  {
   "cell_type": "markdown",
   "metadata": {
    "collapsed": true
   },
   "source": [
    "### Write a Python program to reverse a string."
   ]
  },
  {
   "cell_type": "code",
   "execution_count": 43,
   "metadata": {},
   "outputs": [
    {
     "name": "stdout",
     "output_type": "stream",
     "text": [
      "DIASNI\n",
      "DIASNI morf si sihT\n"
     ]
    }
   ],
   "source": [
    "def string_reverse(str1):\n",
    "    # Your code goes here\n",
    "    rstr = ''\n",
    "    idx = len(str1)\n",
    "    while idx > 0:\n",
    "        rstr += str1[idx - 1]\n",
    "        idx -= 1\n",
    "    return rstr #Your answer\n",
    "print(string_reverse('INSAID'))\n",
    "\n",
    "print(string_reverse('This is from INSAID'))"
   ]
  },
  {
   "cell_type": "markdown",
   "metadata": {
    "collapsed": true
   },
   "source": [
    "### Write a Python function to calculate the factorial of a number "
   ]
  },
  {
   "cell_type": "code",
   "execution_count": 44,
   "metadata": {},
   "outputs": [
    {
     "name": "stdout",
     "output_type": "stream",
     "text": [
      "Input a number to compute the factiorial : 10\n",
      "3628800\n"
     ]
    }
   ],
   "source": [
    "def factorial(n):\n",
    "    # Your code here\n",
    "    # Either Option 1: \n",
    "    if n==0:\n",
    "        return 1\n",
    "    else:\n",
    "        return n*factorial(n-1)\n",
    "# Or Option 2 :     \n",
    "#     iterator = 1\n",
    "#     fact = 1\n",
    "#     while iterator <= n:\n",
    "#         fact *= iterator\n",
    "#         iterator += 1\n",
    "    return fact # The answer\n",
    "n=int(input(\"Input a number to compute the factiorial : \"))\n",
    "print(factorial(n))"
   ]
  },
  {
   "cell_type": "markdown",
   "metadata": {},
   "source": [
    "### Write a Python function to sum all the numbers in a list."
   ]
  },
  {
   "cell_type": "code",
   "execution_count": 45,
   "metadata": {},
   "outputs": [
    {
     "name": "stdout",
     "output_type": "stream",
     "text": [
      "20\n"
     ]
    }
   ],
   "source": [
    "def sum(numbers):\n",
    "    # Your code goes here\n",
    "    sumNums = 0\n",
    "    for i in numbers:\n",
    "        sumNums += i\n",
    "    return sumNums# Your Answer\n",
    "print(sum((8, 2, 3, 0, 7)))"
   ]
  },
  {
   "cell_type": "markdown",
   "metadata": {
    "collapsed": true
   },
   "source": [
    "### Write a Python function to check whether a number is in a given range."
   ]
  },
  {
   "cell_type": "code",
   "execution_count": 46,
   "metadata": {},
   "outputs": [
    {
     "name": "stdout",
     "output_type": "stream",
     "text": [
      "False\n",
      "True\n",
      "False\n",
      "False\n",
      "False\n",
      "True\n",
      "True\n"
     ]
    }
   ],
   "source": [
    "def test_range(n):\n",
    "    # Your code\n",
    "    if n in range(1,10):\n",
    "        return True\n",
    "    else:\n",
    "        return False\n",
    "#     return # Your answer \n",
    "print(test_range(15))\n",
    "print(test_range(5))\n",
    "print(test_range(50))\n",
    "print(test_range(-5))\n",
    "print(test_range(55))\n",
    "print(test_range(2))\n",
    "print(test_range(9))"
   ]
  },
  {
   "cell_type": "markdown",
   "metadata": {},
   "source": [
    "### Find the value of pi using math module."
   ]
  },
  {
   "cell_type": "code",
   "execution_count": 47,
   "metadata": {},
   "outputs": [
    {
     "name": "stdout",
     "output_type": "stream",
     "text": [
      "3.141592653589793\n"
     ]
    }
   ],
   "source": [
    "# import statement example\n",
    "# to import standard module math\n",
    "\n",
    "import math\n",
    "\n",
    "print(math.pi)"
   ]
  },
  {
   "cell_type": "markdown",
   "metadata": {},
   "source": [
    "### Write a Python program to read an entire text file.\n",
    "\n",
    "### Content of text.txt.\n",
    "\n",
    "### What is Python language?      \n",
    "\n",
    "#### Python is a widely used high-level, general-purpose, interpreted, dynamic programming language."
   ]
  },
  {
   "cell_type": "code",
   "execution_count": 48,
   "metadata": {},
   "outputs": [
    {
     "name": "stdout",
     "output_type": "stream",
     "text": [
      "this is a test file\n",
      "this is second line in the test.txt\n",
      "this is the last line in test.txt\n"
     ]
    }
   ],
   "source": [
    "def file_read(fname):\n",
    "    # Your code goes in here\n",
    "    txt = open(fname)\n",
    "    print(txt.read())\n",
    "    return\n",
    "\n",
    "file_read('test.txt')"
   ]
  },
  {
   "cell_type": "markdown",
   "metadata": {
    "collapsed": true
   },
   "source": [
    "### Write a Python program to read a file line by line and store it into a list."
   ]
  },
  {
   "cell_type": "code",
   "execution_count": 49,
   "metadata": {},
   "outputs": [
    {
     "name": "stdout",
     "output_type": "stream",
     "text": [
      "['this is a test file\\n', 'this is second line in the test.txt\\n', 'this is the last line in test.txt']\n"
     ]
    }
   ],
   "source": [
    "def file_read(fname):\n",
    "    # Your code goes in here\n",
    "    txt = open(fname)\n",
    "    with open(fname) as file:\n",
    "        contentlist = file.readlines()\n",
    "        print(contentlist)\n",
    "    return\n",
    "\n",
    "file_read('test.txt')"
   ]
  },
  {
   "cell_type": "markdown",
   "metadata": {},
   "source": [
    "### A python program to create user-defined exception."
   ]
  },
  {
   "cell_type": "code",
   "execution_count": 50,
   "metadata": {},
   "outputs": [
    {
     "name": "stdout",
     "output_type": "stream",
     "text": [
      "A new exception has occured 0.42857142857142855\n"
     ]
    }
   ],
   "source": [
    "class MyError(Exception):\n",
    " \n",
    "    # Constructor or Initializer\n",
    "    def __init__(self, value):\n",
    "        self.value = value\n",
    " \n",
    "    # __str__ is to print() the value\n",
    "    def __str__(self):\n",
    "        return 'A new exception has occured ' + repr(self.value)# Your code goes here to get -> 'A New Exception occured: 0.42857142857142855'\n",
    " \n",
    "try:\n",
    "    raise(MyError(3/7))\n",
    " \n",
    "except MyError as error:\n",
    "    print(error)\n"
   ]
  },
  {
   "cell_type": "markdown",
   "metadata": {},
   "source": [
    "### Write a Python program to calculate the discriminant value. (b <sup>2</sup> - 4ac)"
   ]
  },
  {
   "cell_type": "code",
   "execution_count": 52,
   "metadata": {},
   "outputs": [
    {
     "name": "stdout",
     "output_type": "stream",
     "text": [
      "The a value: 1\n",
      "The b value: 1\n",
      "The c value: 1\n",
      "No Real Solutions. Discriminant value is: -3.0\n"
     ]
    },
    {
     "data": {
      "text/plain": [
       "-3.0"
      ]
     },
     "execution_count": 52,
     "metadata": {},
     "output_type": "execute_result"
    }
   ],
   "source": [
    "def discriminant():\n",
    "    a_value = float(input('The a value: '))\n",
    "    b_value = float(input('The b value: '))\n",
    "    c_value = float(input('The c value: '))\n",
    "    \n",
    "    # Calculate the discriminant here\n",
    "    discrim = (b_value**2) - (4*a_value*c_value)\n",
    "    if discrim > 0:\n",
    "        print('Two Solutions. Discriminant value is:', discrim)\n",
    "    elif discrim == 0:\n",
    "        print('One Solution. Discriminant value is:', discrim)\n",
    "    elif discrim < 0:\n",
    "        print('No Real Solutions. Discriminant value is:', discrim)\n",
    "    return discrim# The value\n",
    "\n",
    "\n",
    "discriminant()\n"
   ]
  },
  {
   "cell_type": "code",
   "execution_count": null,
   "metadata": {},
   "outputs": [],
   "source": [
    "print('Hello World')"
   ]
  },
  {
   "cell_type": "code",
   "execution_count": null,
   "metadata": {},
   "outputs": [],
   "source": [
    "print('What am I typing are you able to see?')"
   ]
  }
 ],
 "metadata": {
  "kernelspec": {
   "display_name": "Python 3",
   "language": "python",
   "name": "python3"
  },
  "language_info": {
   "codemirror_mode": {
    "name": "ipython",
    "version": 3
   },
   "file_extension": ".py",
   "mimetype": "text/x-python",
   "name": "python",
   "nbconvert_exporter": "python",
   "pygments_lexer": "ipython3",
   "version": "3.6.5"
  }
 },
 "nbformat": 4,
 "nbformat_minor": 2
}
