{
 "cells": [
  {
   "cell_type": "markdown",
   "metadata": {},
   "source": [
    "<img src = 'https://github.com/insaid2018/Term-1/blob/master/Images/INSAID_Full%20Logo.png?raw=true' width=\"240\" height=\"360\">\n",
    "# __Assignment: Numpy and Pandas__\n",
    "### Level: 2"
   ]
  },
  {
   "cell_type": "markdown",
   "metadata": {},
   "source": [
    "### 1. Form a 1D array containing elements from -2(including) to 10(excluding) in arithmetic progression with common difference 1.5 , negate all elements which are between 2 and 7, in place. Print out this new array."
   ]
  },
  {
   "cell_type": "code",
   "execution_count": 1,
   "metadata": {},
   "outputs": [
    {
     "name": "stdout",
     "output_type": "stream",
     "text": [
      "[-2.  -0.5  1.  -2.5 -4.  -5.5  7.   8.5]\n"
     ]
    }
   ],
   "source": [
    "import numpy as np\n",
    "from numpy import array\n",
    "\n",
    "start = -2\n",
    "end = 10\n",
    "cd = 1.5\n",
    "\n",
    "def generate():\n",
    "    # your code here\n",
    "    aparr = np.arange(start, end, cd)\n",
    "    aparr[(aparr >= 2) & (aparr <7)] *= -1\n",
    "    return aparr # return modified array\n",
    "print(generate())"
   ]
  },
  {
   "cell_type": "markdown",
   "metadata": {},
   "source": [
    "### 2. Create random vector of size 7 and replace the maximum value by 2 and minimum by 7. Sort this array in reverse order. Return the modified vector."
   ]
  },
  {
   "cell_type": "code",
   "execution_count": 2,
   "metadata": {},
   "outputs": [
    {
     "name": "stdout",
     "output_type": "stream",
     "text": [
      "[ 0.48735416 -0.35302101 -0.50407934 -0.34997067  0.61221341 -1.56316198\n",
      " -1.80456467]\n"
     ]
    },
    {
     "data": {
      "text/plain": [
       "array([ 7.        ,  2.        ,  0.48735416, -0.34997067, -0.35302101,\n",
       "       -0.50407934, -1.56316198])"
      ]
     },
     "execution_count": 2,
     "metadata": {},
     "output_type": "execute_result"
    }
   ],
   "source": [
    "import numpy as np\n",
    "def generate():\n",
    "    # your code\n",
    "    vect = np.random.randn(7)\n",
    "    print(vect)\n",
    "    vect[vect == vect.max()] = 2\n",
    "    vect[vect == vect.min()] = 7\n",
    "    vect[::-1].sort()\n",
    "    return vect# your array\n",
    "generate()"
   ]
  },
  {
   "cell_type": "markdown",
   "metadata": {},
   "source": [
    "### 3. Convert a random 7x2 matrix representing cartesian coordinates to polar coordinates. Print out both.\n",
    "Hint: use arctan2()."
   ]
  },
  {
   "cell_type": "code",
   "execution_count": 3,
   "metadata": {},
   "outputs": [
    {
     "name": "stdout",
     "output_type": "stream",
     "text": [
      "[[16 11]\n",
      " [12 20]\n",
      " [15 10]\n",
      " [19 20]\n",
      " [20 19]\n",
      " [11 16]\n",
      " [20 12]]\n",
      "[[19.41648784 34.50852299]\n",
      " [23.32380758 59.03624347]\n",
      " [18.02775638 33.69006753]\n",
      " [27.58622845 46.46880071]\n",
      " [27.58622845 43.53119929]\n",
      " [19.41648784 55.49147701]\n",
      " [23.32380758 30.96375653]]\n"
     ]
    }
   ],
   "source": [
    "import numpy as np\n",
    "def generate():\n",
    "    # your code here\n",
    "    cartArr = np.random.randint(10,20+1,(7,2))\n",
    "    polArr = np.ones((7,2),dtype=float)\n",
    "    polArr[:,0] = (cartArr[:,0]**2+cartArr[:,1]**2)**.5\n",
    "    polArr[:,1] = (np.arctan2(cartArr[:,1],cartArr[:,0])*180)/np.pi\n",
    "    # print out both matrices\n",
    "    print(cartArr)\n",
    "    print(polArr)\n",
    "    return None\n",
    "generate()"
   ]
  },
  {
   "cell_type": "markdown",
   "metadata": {},
   "source": [
    "### 4. Create an numpy array sequence named num_seq when only the starting point, step size and length of sequence is given."
   ]
  },
  {
   "cell_type": "code",
   "execution_count": 4,
   "metadata": {},
   "outputs": [
    {
     "name": "stdout",
     "output_type": "stream",
     "text": [
      "30\n"
     ]
    },
    {
     "data": {
      "text/plain": [
       "array([ 5,  7,  9, 11, 13, 15, 17, 19, 21, 23, 25, 27, 29, 31, 33, 35, 37,\n",
       "       39, 41, 43, 45, 47, 49, 51, 53, 55, 57, 59, 61, 63])"
      ]
     },
     "execution_count": 4,
     "metadata": {},
     "output_type": "execute_result"
    }
   ],
   "source": [
    "import numpy as np\n",
    "\n",
    "length = 30\n",
    "start = 5\n",
    "step = 2\n",
    "\n",
    "def generate(start, length, step):\n",
    "    # your code here\n",
    "    num_seq = np.arange(start,(length*step+start), step)\n",
    "    print(len(num_seq))\n",
    "    return num_seq# array created by you, i.e. num_seq\n",
    "generate(start, length, step)"
   ]
  },
  {
   "cell_type": "markdown",
   "metadata": {},
   "source": [
    "### 5. Make a 3*3 array using a 1d array of evenly spaced numbers ranging from 0 to 9, name it arr1.<br/> \n",
    "### Then transpose it to obtain arr2.  From arr2 subtract a 1*3 array with all elements 1 to get arr4.\n",
    "HINT: Use reshape and transpose function."
   ]
  },
  {
   "cell_type": "code",
   "execution_count": 5,
   "metadata": {},
   "outputs": [
    {
     "name": "stdout",
     "output_type": "stream",
     "text": [
      "Original 3*3 array : \n",
      " [[0 1 2]\n",
      " [3 4 5]\n",
      " [6 7 8]]\n",
      "Transposed 3*3 array : \n",
      " [[0 3 6]\n",
      " [1 4 7]\n",
      " [2 5 8]]\n",
      "ones 1*3 array : \n",
      " [[1. 1. 1.]]\n"
     ]
    },
    {
     "data": {
      "text/plain": [
       "array([[-1.,  2.,  5.],\n",
       "       [ 0.,  3.,  6.],\n",
       "       [ 1.,  4.,  7.]])"
      ]
     },
     "execution_count": 5,
     "metadata": {},
     "output_type": "execute_result"
    }
   ],
   "source": [
    "import numpy as np\n",
    "def generate():\n",
    "    # your code here\n",
    "    arr1 = np.arange(0,9,1)\n",
    "    arr1 = arr1.reshape(3,3)\n",
    "    print('Original 3*3 array : \\n',arr1)\n",
    "    arr2 = arr1.T\n",
    "    print('Transposed 3*3 array : \\n',arr2)\n",
    "    arr3 = np.ones((1,3))\n",
    "    print('ones 1*3 array : \\n',arr3)\n",
    "    arr4 = arr2-arr3\n",
    "    return arr4# finally created array i.e arr4\n",
    "generate()"
   ]
  },
  {
   "cell_type": "markdown",
   "metadata": {},
   "source": [
    "### 6. Create a DatetimeIndex that contains each business day of 2016 and use it to index a Series of random numbers. Let's call this Series bus_2k16. Print it out. Hint: use pd.date_range."
   ]
  },
  {
   "cell_type": "code",
   "execution_count": 1,
   "metadata": {},
   "outputs": [
    {
     "name": "stdout",
     "output_type": "stream",
     "text": [
      "2016-01-01   -0.120152\n",
      "2016-01-04   -0.791982\n",
      "2016-01-05    1.135717\n",
      "2016-01-06   -1.813553\n",
      "2016-01-07    1.792878\n",
      "2016-01-08    0.803114\n",
      "2016-01-11   -1.054950\n",
      "2016-01-12    0.352019\n",
      "2016-01-13   -1.533352\n",
      "2016-01-14   -1.199496\n",
      "2016-01-15    1.067790\n",
      "2016-01-18    0.857432\n",
      "2016-01-19    0.012398\n",
      "2016-01-20    1.016046\n",
      "2016-01-21    0.041445\n",
      "2016-01-22   -0.042845\n",
      "2016-01-25   -0.761226\n",
      "2016-01-26    0.876615\n",
      "2016-01-27    0.047948\n",
      "2016-01-28    0.083540\n",
      "2016-01-29    0.243283\n",
      "2016-02-01   -0.306469\n",
      "2016-02-02   -1.538000\n",
      "2016-02-03   -0.345632\n",
      "2016-02-04   -0.156734\n",
      "2016-02-05    0.768560\n",
      "2016-02-08    2.088120\n",
      "2016-02-09    0.203972\n",
      "2016-02-10    1.068957\n",
      "2016-02-11    0.396654\n",
      "                ...   \n",
      "2016-11-21    0.783099\n",
      "2016-11-22   -0.781639\n",
      "2016-11-23    1.474147\n",
      "2016-11-24    0.717804\n",
      "2016-11-25   -1.294276\n",
      "2016-11-28   -1.052042\n",
      "2016-11-29    0.745686\n",
      "2016-11-30   -1.317917\n",
      "2016-12-01   -0.180128\n",
      "2016-12-02    0.202235\n",
      "2016-12-05    0.538478\n",
      "2016-12-06   -0.594738\n",
      "2016-12-07   -0.405277\n",
      "2016-12-08    0.275069\n",
      "2016-12-09    0.336006\n",
      "2016-12-12   -0.717698\n",
      "2016-12-13   -1.007095\n",
      "2016-12-14   -1.810236\n",
      "2016-12-15   -0.709043\n",
      "2016-12-16   -0.447218\n",
      "2016-12-19   -0.311842\n",
      "2016-12-20   -0.737586\n",
      "2016-12-21    0.418583\n",
      "2016-12-22   -0.286035\n",
      "2016-12-23    1.779862\n",
      "2016-12-26    0.996114\n",
      "2016-12-27   -2.000510\n",
      "2016-12-28   -0.585876\n",
      "2016-12-29   -0.609773\n",
      "2016-12-30   -0.273444\n",
      "Freq: B, Length: 261, dtype: float64\n"
     ]
    }
   ],
   "source": [
    "import pandas as pd\n",
    "import numpy as np\n",
    "pd.offsets.BDay()\n",
    "def generate():\n",
    "    # Your code here\n",
    "    indx = pd.date_range(start='2016-01-01',end='2016-12-31',freq=pd.offsets.BDay())\n",
    "    data = list(np.random.randn(len(indx)))\n",
    "    bus_2k16 = pd.Series(data,index=indx)\n",
    "    # print out bus_2k16\n",
    "    print(bus_2k16)\n",
    "    return None\n",
    "generate()"
   ]
  },
  {
   "cell_type": "markdown",
   "metadata": {},
   "source": [
    "###  7. For each calendar month in dataframe bus_2k16, from previous problem. Print out the mean of values also find the sum of the values in bus_2k16 for every Sunday."
   ]
  },
  {
   "cell_type": "code",
   "execution_count": 7,
   "metadata": {},
   "outputs": [
    {
     "name": "stdout",
     "output_type": "stream",
     "text": [
      "Mean values for each calendar month\n",
      "1    -0.145353\n",
      "2    -0.209150\n",
      "3    -0.067895\n",
      "4    -0.176896\n",
      "5     0.152142\n",
      "6     0.091166\n",
      "7     0.179533\n",
      "8    -0.126074\n",
      "9    -0.110868\n",
      "10    0.149763\n",
      "11   -0.225463\n",
      "12    0.028878\n",
      "Name: numbers, dtype: float64\n",
      "\n",
      "Sum of values for each day of the week\n",
      "0    10.966123\n",
      "1    -6.603986\n",
      "2     7.705801\n",
      "3   -12.025112\n",
      "4   -15.467642\n",
      "5     2.910978\n",
      "6    -0.912511\n",
      "Name: numbers, dtype: float64\n",
      "\n",
      "Sum of values for sundays in the year\n",
      "-0.9125108716280257\n"
     ]
    }
   ],
   "source": [
    "import pandas as pd\n",
    "def generate():\n",
    "    # Your code here\n",
    "#     indx = pd.date_range(start='01/01/2016',end='31/12/2016',freq=pd.offsets.BDay())\n",
    "    indx = pd.date_range(start='01/01/2016',end='31/12/2016')\n",
    "    data = {'numbers':list(np.random.randn(len(indx)))}\n",
    "    bus_2k16 = pd.DataFrame(data,index=indx)\n",
    "    means = bus_2k16.groupby(bus_2k16.index.month)['numbers'].mean()\n",
    "    sum_days = (bus_2k16.groupby(bus_2k16.index.dayofweek)['numbers'].sum())\n",
    "    sum_sundays = (bus_2k16.groupby(bus_2k16.index.dayofweek)['numbers'].sum())[6]\n",
    "#     print(bus_2k16)\n",
    "    # print out mean\n",
    "    print('Mean values for each calendar month')\n",
    "    print(means)\n",
    "    # print out sum of the values in bus_2k16 for every Sunday.\n",
    "    print('\\nSum of values for each day of the week')\n",
    "    print(sum_days)\n",
    "    print('\\nSum of values for sundays in the year')\n",
    "    print(sum_sundays)\n",
    "    return None\n",
    "generate()"
   ]
  },
  {
   "cell_type": "markdown",
   "metadata": {},
   "source": [
    "### 8.Given the dataframe df, In the From_To column split each string on the underscore delimiter _ to give a new temporary DataFrame with the correct values. Also standardise the strings so that only the first letter is uppercase (e.g. \"londON\" should become \"London\".) Assign the correct column names to this temporary DataFrame named as temp. Return temp."
   ]
  },
  {
   "cell_type": "code",
   "execution_count": 8,
   "metadata": {},
   "outputs": [
    {
     "data": {
      "text/html": [
       "<div>\n",
       "<style scoped>\n",
       "    .dataframe tbody tr th:only-of-type {\n",
       "        vertical-align: middle;\n",
       "    }\n",
       "\n",
       "    .dataframe tbody tr th {\n",
       "        vertical-align: top;\n",
       "    }\n",
       "\n",
       "    .dataframe thead th {\n",
       "        text-align: right;\n",
       "    }\n",
       "</style>\n",
       "<table border=\"1\" class=\"dataframe\">\n",
       "  <thead>\n",
       "    <tr style=\"text-align: right;\">\n",
       "      <th></th>\n",
       "      <th>From</th>\n",
       "      <th>To</th>\n",
       "      <th>FlightNumber</th>\n",
       "      <th>RecentDelays</th>\n",
       "      <th>Airline</th>\n",
       "    </tr>\n",
       "  </thead>\n",
       "  <tbody>\n",
       "    <tr>\n",
       "      <th>0</th>\n",
       "      <td>London</td>\n",
       "      <td>Paris</td>\n",
       "      <td>10045.0</td>\n",
       "      <td>[23, 47]</td>\n",
       "      <td>KLM(!)</td>\n",
       "    </tr>\n",
       "    <tr>\n",
       "      <th>1</th>\n",
       "      <td>Madrid</td>\n",
       "      <td>Milan</td>\n",
       "      <td>NaN</td>\n",
       "      <td>[]</td>\n",
       "      <td>&lt;Air France&gt; (12)</td>\n",
       "    </tr>\n",
       "    <tr>\n",
       "      <th>2</th>\n",
       "      <td>London</td>\n",
       "      <td>Stockholm</td>\n",
       "      <td>10065.0</td>\n",
       "      <td>[24, 43, 87]</td>\n",
       "      <td>(British Airways. )</td>\n",
       "    </tr>\n",
       "    <tr>\n",
       "      <th>3</th>\n",
       "      <td>Budapest</td>\n",
       "      <td>Paris</td>\n",
       "      <td>NaN</td>\n",
       "      <td>[13]</td>\n",
       "      <td>12. Air France</td>\n",
       "    </tr>\n",
       "    <tr>\n",
       "      <th>4</th>\n",
       "      <td>Brussels</td>\n",
       "      <td>London</td>\n",
       "      <td>10085.0</td>\n",
       "      <td>[67, 32]</td>\n",
       "      <td>\"Swiss Air\"</td>\n",
       "    </tr>\n",
       "  </tbody>\n",
       "</table>\n",
       "</div>"
      ],
      "text/plain": [
       "       From         To  FlightNumber  RecentDelays              Airline\n",
       "0    London      Paris       10045.0      [23, 47]               KLM(!)\n",
       "1    Madrid      Milan           NaN            []    <Air France> (12)\n",
       "2    London  Stockholm       10065.0  [24, 43, 87]  (British Airways. )\n",
       "3  Budapest      Paris           NaN          [13]       12. Air France\n",
       "4  Brussels     London       10085.0      [67, 32]          \"Swiss Air\""
      ]
     },
     "execution_count": 8,
     "metadata": {},
     "output_type": "execute_result"
    }
   ],
   "source": [
    "import numpy as np\n",
    "df = pd.DataFrame({'From_To': ['LoNDon_paris', 'MAdrid_miLAN', 'londON_StockhOlm', \n",
    "                               'Budapest_PaRis', 'Brussels_londOn'],\n",
    "              'FlightNumber': [10045, np.nan, 10065, np.nan, 10085],\n",
    "              'RecentDelays': [[23, 47], [], [24, 43, 87], [13], [67, 32]],\n",
    "                   'Airline': ['KLM(!)', '<Air France> (12)', '(British Airways. )', \n",
    "                               '12. Air France', '\"Swiss Air\"']})\n",
    "import pandas as pd\n",
    "def generate(df):\n",
    "    # write your code here\n",
    "    fs = lambda x : x.split('_')\n",
    "    fc = lambda x : x.capitalize()\n",
    "    fse = lambda x : pd.Series(x)\n",
    "    temp = pd.DataFrame((df['From_To'].apply(fc).apply(fs).apply(fse)))\n",
    "    temp.columns =['From','To']\n",
    "#     temp['From'] = temp['From'].apply(fc)\n",
    "    temp['To'] = temp['To'].apply(fc)\n",
    "    df = df.drop('From_To', axis=1)\n",
    "    temp = temp.join(df, how='left')\n",
    "    return temp# your temporary variable i.e temp.\n",
    "generate(df)"
   ]
  },
  {
   "cell_type": "markdown",
   "metadata": {},
   "source": [
    "### 9. Given a dataFrame with 10 columns of real numbers. Find that column's label which has the smallest sum? Also count the number of unique rows the dataframe has. \n",
    "Hint: use idxmin method."
   ]
  },
  {
   "cell_type": "code",
   "execution_count": 13,
   "metadata": {},
   "outputs": [
    {
     "name": "stdout",
     "output_type": "stream",
     "text": [
      "          q         r         s         t         u         v         w  \\\n",
      "0  0.443809  0.738470  0.944624  0.454187  0.678744  0.462028  0.929834   \n",
      "1  0.736657  0.719845  0.224513  0.968259  0.507672  0.608917  0.758537   \n",
      "2  0.701438  0.312765  0.573510  0.412552  0.498228  0.134333  0.149451   \n",
      "3  0.343741  0.358004  0.291508  0.198921  0.594308  0.066710  0.331939   \n",
      "\n",
      "          x         y         z  \n",
      "0  0.184814  0.309645  0.960772  \n",
      "1  0.181860  0.110551  0.858412  \n",
      "2  0.254931  0.335232  0.696285  \n",
      "3  0.384009  0.889780  0.016962  \n",
      "\n",
      "Sum of columns in the given DataFrame\n",
      " q    2.225645\n",
      "r    2.129085\n",
      "s    2.034156\n",
      "t    2.033919\n",
      "u    2.278953\n",
      "v    1.271988\n",
      "w    2.169762\n",
      "x    1.005613\n",
      "y    1.645208\n",
      "z    2.532432\n",
      "dtype: float64\n",
      "\n",
      "column 'x' has the smallest sum.\n",
      " And column'z' has largest sum.\n",
      "The DataFrame has 4 unique rows\n"
     ]
    }
   ],
   "source": [
    "import numpy as np\n",
    "import pandas as pd\n",
    "df = pd.DataFrame(np.random.random(size=(4, 10)), columns=list('qrstuvwxyz'))\n",
    "\n",
    "print(df)\n",
    "def generate():\n",
    "    # your code here\n",
    "    temp_min = df.sum(0).idxmin()\n",
    "    temp_max = df.sum(0).idxmax()\n",
    "    temp_sums = df.sum(0)\n",
    "    print('\\nSum of columns in the given DataFrame\\n',temp_sums)\n",
    "    uniq_rows = len(df.drop_duplicates())\n",
    "    # print out that column's label which has the smallest sum\n",
    "    print('\\ncolumn \\'{}\\' has the smallest sum.\\n And column\\'{}\\' has largest sum.'.format(temp_min, temp_max))\n",
    "    # Also count the number of unique rows the dataframe has.\n",
    "    print('The DataFrame has {} unique rows'.format(uniq_rows))\n",
    "    return None\n",
    "generate()"
   ]
  },
  {
   "cell_type": "markdown",
   "metadata": {},
   "source": [
    "### 10. Given a dataFrame df with a column 'int' of integers. Print out the dataframe with filtered out rows which contain the same integer as the row immediately above. Also print out the dataframe after subtracting the mean of all integers from each element .\n",
    "Hint: use drop_duplicates and sub methods"
   ]
  },
  {
   "cell_type": "code",
   "execution_count": 11,
   "metadata": {},
   "outputs": [
    {
     "name": "stdout",
     "output_type": "stream",
     "text": [
      "Dataframe after filtered out rows which contain the same integer as the row immediately above\n",
      "    int\n",
      "2     2\n",
      "6     5\n",
      "7     5\n",
      "10    7\n",
      "Dataframe after deleting mean 4.2727272727272725 from each element\n",
      "         int\n",
      "0  -3.272727\n",
      "1  -2.272727\n",
      "2  -2.272727\n",
      "3  -1.272727\n",
      "4  -0.272727\n",
      "5   0.727273\n",
      "6   0.727273\n",
      "7   0.727273\n",
      "8   1.727273\n",
      "9   2.727273\n",
      "10  2.727273\n"
     ]
    }
   ],
   "source": [
    "import pandas as pd\n",
    "df = pd.DataFrame({'int': [1, 2, 2, 3, 4, 5, 5, 5, 6, 7, 7]})\n",
    "def generate():\n",
    "    # your code here\n",
    "    meanVal = df.mean()\n",
    "    df2 = df - df.mean()\n",
    "    # Print out the dataframe with filtered out rows which contain the same integer as the row immediately above\n",
    "    print('Dataframe after filtered out rows which contain the same integer as the row immediately above')\n",
    "    print(df[df.duplicated()])\n",
    "    # Print out the dataframe after subtracting the mean of all integers from each element\n",
    "    print('Dataframe after deleting mean {} from each element'.format(meanVal[0]))\n",
    "    print(df2)\n",
    "    return None\n",
    "generate()"
   ]
  }
 ],
 "metadata": {
  "kernelspec": {
   "display_name": "Python 3",
   "language": "python",
   "name": "python3"
  },
  "language_info": {
   "codemirror_mode": {
    "name": "ipython",
    "version": 3
   },
   "file_extension": ".py",
   "mimetype": "text/x-python",
   "name": "python",
   "nbconvert_exporter": "python",
   "pygments_lexer": "ipython3",
   "version": "3.6.5"
  }
 },
 "nbformat": 4,
 "nbformat_minor": 2
}
