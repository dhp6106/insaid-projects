{
 "cells": [
  {
   "cell_type": "markdown",
   "metadata": {},
   "source": [
    "<img src = 'https://github.com/insaid2018/Term-1/blob/master/Images/INSAID_Full%20Logo.png?raw=true' width=\"240\" height=\"360\">\n",
    "# __Assignment: Numpy and Pandas__\n",
    "### Level: 1"
   ]
  },
  {
   "cell_type": "markdown",
   "metadata": {},
   "source": [
    "### 1. Create a null vector of size 7 but the third and last value as 2."
   ]
  },
  {
   "cell_type": "code",
   "execution_count": 1,
   "metadata": {},
   "outputs": [
    {
     "data": {
      "text/plain": [
       "array([0, 1, 2, 3, 4, 5, 2])"
      ]
     },
     "execution_count": 1,
     "metadata": {},
     "output_type": "execute_result"
    }
   ],
   "source": [
    "import numpy as np\n",
    "def generate():\n",
    "    # Write your code here\n",
    "    vect = np.arange(0,7)\n",
    "    vect[2] = 2\n",
    "    vect[6] = 2\n",
    "    return vect# your variable \n",
    "generate()"
   ]
  },
  {
   "cell_type": "markdown",
   "metadata": {},
   "source": [
    "### 2. Create a vector of size 9 with values ranging from 0 to 2, both excluded."
   ]
  },
  {
   "cell_type": "code",
   "execution_count": 2,
   "metadata": {},
   "outputs": [
    {
     "name": "stdout",
     "output_type": "stream",
     "text": [
      "[3.72274149 1.01474841 0.26677194 1.628413   1.08135349 0.42344034\n",
      " 3.97419788 0.27281584 3.09938881]\n",
      "[2.04745976 2.42066862 2.2642034  2.56719115 1.71593714 1.40514576\n",
      " 0.22939009 3.71829232 0.68844526]\n",
      "[3.72274149 1.01474841 0.26677194 1.628413   1.08135349 0.42344034\n",
      " 3.97419788 0.27281584 3.09938881]\n",
      "[2.04745976 2.42066862 2.2642034  2.56719115 1.71593714 1.40514576\n",
      " 0.22939009 3.71829232 0.68844526]\n"
     ]
    }
   ],
   "source": [
    "import numpy as np\n",
    "from numpy import random\n",
    "size = 9\n",
    "maxVal = 4\n",
    "def generate(s,m):\n",
    "    # Write your code here\n",
    "    vect1 = np.random.random((s))*m\n",
    "    print(vect1)\n",
    "    vect2 = np.random.rand(s)*m\n",
    "    print(vect2)\n",
    "    return vect1, vect2  # your variable\n",
    "v1, v2 = generate(size,maxVal)\n",
    "\n",
    "print(v1)\n",
    "print(v2)"
   ]
  },
  {
   "cell_type": "markdown",
   "metadata": {},
   "source": [
    "### 3. Convert the first character of each element in a series to uppercase? And return the new series."
   ]
  },
  {
   "cell_type": "code",
   "execution_count": 3,
   "metadata": {},
   "outputs": [
    {
     "name": "stdout",
     "output_type": "stream",
     "text": [
      "0              How\n",
      "1               To\n",
      "2            Learn\n",
      "3    Data science?\n",
      "dtype: object\n"
     ]
    }
   ],
   "source": [
    "import pandas as pd\n",
    "series = pd.Series(['how', 'to', 'learn', 'data science?'])\n",
    "def generate(series):\n",
    "    # your code\n",
    "    f = lambda x: x.capitalize()\n",
    "    series = series.apply(f)\n",
    "#     print(type(series))\n",
    "    return series# your variable for new series\n",
    "s = generate(series) \n",
    "print(s)"
   ]
  },
  {
   "cell_type": "markdown",
   "metadata": {},
   "source": [
    "### 4. Given a 3*3 matrix named matrix_fab, From each element of this matrix subtract the mean of that row, name this matrix as matrix_sub. Divide each element of this matrix by twice of the largest element to get matrix_norm. Print it out."
   ]
  },
  {
   "cell_type": "code",
   "execution_count": 4,
   "metadata": {},
   "outputs": [
    {
     "name": "stdout",
     "output_type": "stream",
     "text": [
      "[[0 1 2]\n",
      " [3 4 5]\n",
      " [6 7 8]]\n",
      "[[-1.  0.  1.]\n",
      " [-1.  0.  1.]\n",
      " [-1.  0.  1.]]\n",
      "[[-0.0625  0.      0.0625]\n",
      " [-0.0625  0.      0.0625]\n",
      " [-0.0625  0.      0.0625]]\n"
     ]
    }
   ],
   "source": [
    "import numpy as np\n",
    "arr = np.arange(0,9)                                \n",
    "matrix_fab = arr.reshape(3,3)\n",
    "print(matrix_fab)\n",
    "# row_mean = matrix_fab.mean(axis=1)\n",
    "# print(row_mean)\n",
    "def generate(m):\n",
    "    # Write your code here\n",
    "    matrix_sub = m-m.mean(axis=1).reshape((3,1))\n",
    "    print(matrix_sub)\n",
    "    matrix_norm = matrix_sub/(m.max()*2)\n",
    "    # print matrix_norm\n",
    "    print(matrix_norm)\n",
    "    return None\n",
    "generate(matrix_fab)"
   ]
  },
  {
   "cell_type": "markdown",
   "metadata": {},
   "source": [
    "### 5. Create a random vector of size 12 , sort it in decreasing order, make 4*3 array using it.\n",
    "Hint: use reshape and sort function."
   ]
  },
  {
   "cell_type": "code",
   "execution_count": 5,
   "metadata": {},
   "outputs": [
    {
     "name": "stdout",
     "output_type": "stream",
     "text": [
      "(4, 3) <class 'numpy.ndarray'>\n"
     ]
    },
    {
     "data": {
      "text/plain": [
       "array([[0.87363921, 0.9750563 , 1.37805147],\n",
       "       [0.96801832, 1.06434163, 1.07243795],\n",
       "       [0.1901465 , 1.52899305, 0.68940501],\n",
       "       [1.69405873, 0.21779204, 1.3289458 ]])"
      ]
     },
     "execution_count": 5,
     "metadata": {},
     "output_type": "execute_result"
    }
   ],
   "source": [
    "import numpy as np\n",
    "def generate():\n",
    "    # Write your code here\n",
    "    vect = np.random.random((1,12))*2\n",
    "    vect = vect.reshape(4,3)\n",
    "    print(vect.shape, type(vect))\n",
    "    return vect # your variable\n",
    "generate()"
   ]
  },
  {
   "cell_type": "markdown",
   "metadata": {},
   "source": [
    "### 6. Below is Python dictionary data and Python list labels. Create a DataFrame df from this dictionary data which has index as labels. Select the rows where the age is missing, i.e. is NaN."
   ]
  },
  {
   "cell_type": "code",
   "execution_count": null,
   "metadata": {},
   "outputs": [],
   "source": []
  },
  {
   "cell_type": "code",
   "execution_count": 6,
   "metadata": {},
   "outputs": [
    {
     "name": "stdout",
     "output_type": "stream",
     "text": [
      "  animal  age visits priority\n",
      "d    dog  NaN      3      yes\n",
      "h    cat  NaN      1      yes\n",
      "  animal  age  visits priority\n",
      "d    dog  NaN       3      yes\n",
      "h    cat  NaN       1      yes\n"
     ]
    },
    {
     "data": {
      "text/plain": [
       "[  animal  age visits priority\n",
       " d    dog  NaN      3      yes\n",
       " h    cat  NaN      1      yes,   animal  age  visits priority\n",
       " d    dog  NaN       3      yes\n",
       " h    cat  NaN       1      yes]"
      ]
     },
     "execution_count": 6,
     "metadata": {},
     "output_type": "execute_result"
    }
   ],
   "source": [
    "import numpy as np\n",
    "data = {'animal': ['cat', 'cat', 'snake', 'dog', 'dog', 'cat', 'snake', 'cat', 'dog', 'dog'],\n",
    "        'age': [2.5, 3, 0.5, np.nan, 5, 2, 4.5, np.nan, 7, 3],\n",
    "        'visits': [1, 3, 2, 3, 2, 3, 1, 1, 2, 1],\n",
    "        'priority': ['yes', 'yes', 'no', 'yes', 'no', 'no', 'no', 'yes', 'no', 'no']}\n",
    "\n",
    "labels = ['a', 'b', 'c', 'd', 'e', 'f', 'g', 'h', 'i', 'j']\n",
    "import pandas as pd\n",
    "def generate(d,l):\n",
    "    # Write your code here\n",
    "    df = pd.DataFrame(d,l)\n",
    "    # option 1 : Using transpose of DataFrame\n",
    "    dft = df.transpose()\n",
    "    nans1 = dft.loc[:,dft.isnull().any()].transpose()\n",
    "    print(nans1)\n",
    "    \n",
    "    #option 2 : using row axis for any() function\n",
    "    nans2 = df.loc[df.isnull().any(1),:]\n",
    "    print(nans2)\n",
    "\n",
    "    \n",
    "    return [nans1, nans2]   # your variable\n",
    "generate(data, labels)\n"
   ]
  },
  {
   "cell_type": "markdown",
   "metadata": {},
   "source": [
    "### 7. From the give dataframe df, in the 'animal' column change the 'dog' entries to 'Labrador', change the age in row 'd' to 2.7 and calculate the mean age (name it mean_age) for each different animal in df. Print df and return mean_age."
   ]
  },
  {
   "cell_type": "code",
   "execution_count": 7,
   "metadata": {},
   "outputs": [
    {
     "name": "stdout",
     "output_type": "stream",
     "text": [
      "     animal  age  visits priority\n",
      "a       cat  2.5       1      yes\n",
      "b       cat  3.0       3      yes\n",
      "c     snake  0.5       2       no\n",
      "d  Labrador  2.7       3      yes\n",
      "e  Labrador  5.0       2       no\n",
      "f       cat  2.0       3       no\n",
      "g     snake  4.5       1       no\n",
      "h       cat  NaN       1      yes\n",
      "i  Labrador  7.0       2       no\n",
      "j  Labrador  3.0       1       no\n",
      "animal\n",
      "Labrador    4.425\n",
      "cat         2.500\n",
      "snake       2.500\n",
      "Name: age, dtype: float64\n",
      "{'snake': 2.5, 'cat': 2.5, 'Labrador': 4.425}\n"
     ]
    }
   ],
   "source": [
    "import pandas as pd\n",
    "data = {'animal': ['cat', 'cat', 'snake', 'dog', 'dog', 'cat', 'snake', 'cat', 'dog', 'dog'],\n",
    "        'age': [2.5, 3, 0.5, np.nan, 5, 2, 4.5, np.nan, 7, 3],\n",
    "        'visits': [1, 3, 2, 3, 2, 3, 1, 1, 2, 1],\n",
    "        'priority': ['yes', 'yes', 'no', 'yes', 'no', 'no', 'no', 'yes', 'no', 'no']}\n",
    "\n",
    "labels = ['a', 'b', 'c', 'd', 'e', 'f', 'g', 'h', 'i', 'j']\n",
    "def generate(d,l):\n",
    "    # write your code here\n",
    "    df = pd.DataFrame(d,l)\n",
    "    f = lambda x: x == 'dog' and 'Labrador' or x\n",
    "    df['animal'] = df['animal'].apply(f)\n",
    "    df.loc[('d'),('age')] = 2.7\n",
    "#     option 1 : Using df.groupby()\n",
    "    mean_age1 = df.groupby('animal')['age'].mean()\n",
    "    \n",
    "#     option 2 : Using filter for df \n",
    "    mean_age2 = {'snake':df[df['animal'] == 'snake']['age'].mean(), \n",
    "               'cat': df[df['animal'] == 'cat']['age'].mean(),\n",
    "               'Labrador': df[df['animal'] == 'Labrador']['age'].mean()}\n",
    "    \n",
    "    # Also print df\n",
    "    print(df)\n",
    "    return mean_age1, mean_age2# your variable i.e mean_age\n",
    "mean_age1, mean_age2 = generate(data, labels)\n",
    "\n",
    "print(mean_age1)\n",
    "print(mean_age2)"
   ]
  },
  {
   "cell_type": "markdown",
   "metadata": {},
   "source": [
    "### 8.  From the given dataframe get the positions where values of two columns match?"
   ]
  },
  {
   "cell_type": "code",
   "execution_count": 8,
   "metadata": {},
   "outputs": [
    {
     "name": "stdout",
     "output_type": "stream",
     "text": [
      "   fruit1  fruit2\n",
      "0  orange  banana\n",
      "1  banana  banana\n",
      "2  banana  orange\n",
      "3  orange  banana\n",
      "4   apple  orange\n",
      "5  banana   apple\n",
      "6   apple  orange\n",
      "7   apple   apple\n",
      "8  orange  orange\n",
      "9  banana  orange\n",
      "Int64Index([1, 7, 8], dtype='int64')\n"
     ]
    }
   ],
   "source": [
    "import pandas as pd\n",
    "import numpy as np\n",
    "df = pd.DataFrame({'fruit1': np.random.choice(['apple', 'orange', 'banana'], 10),\n",
    "                    'fruit2': np.random.choice(['apple', 'orange', 'banana'], 10)})\n",
    "def generate(df):\n",
    "    # your code here\n",
    "    print(df)\n",
    "    matching = df[df['fruit1'] == df['fruit2']].index\n",
    "    print(matching)\n",
    "    return None\n",
    "generate(df)"
   ]
  },
  {
   "cell_type": "markdown",
   "metadata": {},
   "source": [
    "### 9. Find the positions of numbers that are multiples of 4 from a series? Print series and return position. Hint: use argwhere."
   ]
  },
  {
   "cell_type": "code",
   "execution_count": 9,
   "metadata": {},
   "outputs": [
    {
     "name": "stdout",
     "output_type": "stream",
     "text": [
      "0    5\n",
      "1    6\n",
      "2    7\n",
      "3    1\n",
      "4    2\n",
      "5    9\n",
      "6    5\n",
      "dtype: int32\n"
     ]
    },
    {
     "data": {
      "text/plain": [
       "Int64Index([], dtype='int64')"
      ]
     },
     "execution_count": 9,
     "metadata": {},
     "output_type": "execute_result"
    }
   ],
   "source": [
    "import pandas as pd\n",
    "import numpy as np\n",
    "series = pd.Series(np.random.randint(1, 10, 7))\n",
    "def generate(s):\n",
    "    # your code here\n",
    "    mulFour = s[s%4 == 0].index\n",
    "    # print(series)\n",
    "    print(s)\n",
    "    return mulFour# your variable\n",
    "generate(series)"
   ]
  },
  {
   "cell_type": "markdown",
   "metadata": {},
   "source": [
    "### 10. Stack two given series vertically and horizontally ? Print out both."
   ]
  },
  {
   "cell_type": "code",
   "execution_count": 10,
   "metadata": {},
   "outputs": [
    {
     "name": "stdout",
     "output_type": "stream",
     "text": [
      "0  s1    0\n",
      "   s2    a\n",
      "1  s1    1\n",
      "   s2    b\n",
      "2  s1    2\n",
      "   s2    c\n",
      "3  s1    3\n",
      "   s2    d\n",
      "4  s1    4\n",
      "   s2    e\n",
      "dtype: object\n",
      "s1  0    0\n",
      "    1    1\n",
      "    2    2\n",
      "    3    3\n",
      "    4    4\n",
      "s2  0    a\n",
      "    1    b\n",
      "    2    c\n",
      "    3    d\n",
      "    4    e\n",
      "dtype: object\n",
      "   s1 s2\n",
      "0   0  a\n",
      "1   1  b\n",
      "2   2  c\n",
      "3   3  d\n",
      "4   4  e\n"
     ]
    }
   ],
   "source": [
    "import pandas as pd\n",
    "import numpy as np\n",
    "series1 = pd.Series(range(5))\n",
    "series2 = pd.Series(list('abcde'))\n",
    "def generate(s1,s2):\n",
    "    # your code \n",
    "    df = pd.DataFrame({'s1':s1,'s2':s2},columns=['s1','s2'])\n",
    "    print(df.stack())\n",
    "    print(df.unstack())\n",
    "    print(df)\n",
    "    # print out both vertically and horizontally stacked series.\n",
    "    return None\n",
    "generate(series1, series2)"
   ]
  },
  {
   "cell_type": "code",
   "execution_count": null,
   "metadata": {},
   "outputs": [],
   "source": []
  }
 ],
 "metadata": {
  "kernelspec": {
   "display_name": "Python 3",
   "language": "python",
   "name": "python3"
  },
  "language_info": {
   "codemirror_mode": {
    "name": "ipython",
    "version": 3
   },
   "file_extension": ".py",
   "mimetype": "text/x-python",
   "name": "python",
   "nbconvert_exporter": "python",
   "pygments_lexer": "ipython3",
   "version": "3.6.5"
  }
 },
 "nbformat": 4,
 "nbformat_minor": 2
}
