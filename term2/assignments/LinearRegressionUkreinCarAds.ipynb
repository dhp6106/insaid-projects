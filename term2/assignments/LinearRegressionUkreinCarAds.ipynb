{
 "cells": [
  {
   "cell_type": "markdown",
   "metadata": {},
   "source": [
    "<img src=\"https://github.com/insaid2018/Term-1/blob/master/Images/INSAID_Full%20Logo.png?raw=true\" width=\"240\" height=\"360\" />\n",
    "\n",
    "# ASSIGNMENT\n",
    "\n",
    "###  This is a cars dataset having 156 observation and 16 different variables. You have to create a linear regression model using the provided predictor variables for the prediction of sales value of cars.\n",
    "\n",
    "#### Note: Please run your code step by step as provided in the sheet or else you may face challenges with the code."
   ]
  },
  {
   "cell_type": "markdown",
   "metadata": {},
   "source": [
    "### Import the dataset."
   ]
  },
  {
   "cell_type": "code",
   "execution_count": 1,
   "metadata": {
    "scrolled": true
   },
   "outputs": [
    {
     "data": {
      "text/html": [
       "<div>\n",
       "<style scoped>\n",
       "    .dataframe tbody tr th:only-of-type {\n",
       "        vertical-align: middle;\n",
       "    }\n",
       "\n",
       "    .dataframe tbody tr th {\n",
       "        vertical-align: top;\n",
       "    }\n",
       "\n",
       "    .dataframe thead th {\n",
       "        text-align: right;\n",
       "    }\n",
       "</style>\n",
       "<table border=\"1\" class=\"dataframe\">\n",
       "  <thead>\n",
       "    <tr style=\"text-align: right;\">\n",
       "      <th></th>\n",
       "      <th>car</th>\n",
       "      <th>price</th>\n",
       "      <th>body</th>\n",
       "      <th>mileage</th>\n",
       "      <th>engV</th>\n",
       "      <th>engType</th>\n",
       "      <th>registration</th>\n",
       "      <th>year</th>\n",
       "      <th>model</th>\n",
       "      <th>drive</th>\n",
       "      <th>engV_cat</th>\n",
       "      <th>age</th>\n",
       "      <th>age_Group</th>\n",
       "      <th>price_cat</th>\n",
       "      <th>mpy</th>\n",
       "      <th>mpy_cat</th>\n",
       "    </tr>\n",
       "  </thead>\n",
       "  <tbody>\n",
       "    <tr>\n",
       "      <th>0</th>\n",
       "      <td>Ford</td>\n",
       "      <td>15500.0</td>\n",
       "      <td>crossover</td>\n",
       "      <td>68.0</td>\n",
       "      <td>2.5</td>\n",
       "      <td>Gas</td>\n",
       "      <td>yes</td>\n",
       "      <td>2010</td>\n",
       "      <td>Kuga</td>\n",
       "      <td>full</td>\n",
       "      <td>Moderate</td>\n",
       "      <td>6</td>\n",
       "      <td>3-6</td>\n",
       "      <td>Moderate</td>\n",
       "      <td>11.33</td>\n",
       "      <td>Moderate</td>\n",
       "    </tr>\n",
       "    <tr>\n",
       "      <th>1</th>\n",
       "      <td>Mercedes-Benz</td>\n",
       "      <td>20500.0</td>\n",
       "      <td>sedan</td>\n",
       "      <td>173.0</td>\n",
       "      <td>1.8</td>\n",
       "      <td>Gas</td>\n",
       "      <td>yes</td>\n",
       "      <td>2011</td>\n",
       "      <td>E-Class</td>\n",
       "      <td>rear</td>\n",
       "      <td>Low</td>\n",
       "      <td>5</td>\n",
       "      <td>3-6</td>\n",
       "      <td>Moderate</td>\n",
       "      <td>34.60</td>\n",
       "      <td>Extreme</td>\n",
       "    </tr>\n",
       "    <tr>\n",
       "      <th>2</th>\n",
       "      <td>Mercedes-Benz</td>\n",
       "      <td>35000.0</td>\n",
       "      <td>other</td>\n",
       "      <td>135.0</td>\n",
       "      <td>5.5</td>\n",
       "      <td>Petrol</td>\n",
       "      <td>yes</td>\n",
       "      <td>2008</td>\n",
       "      <td>CL 550</td>\n",
       "      <td>rear</td>\n",
       "      <td>High</td>\n",
       "      <td>8</td>\n",
       "      <td>6-10</td>\n",
       "      <td>Moderate</td>\n",
       "      <td>16.88</td>\n",
       "      <td>High</td>\n",
       "    </tr>\n",
       "    <tr>\n",
       "      <th>3</th>\n",
       "      <td>Mercedes-Benz</td>\n",
       "      <td>17800.0</td>\n",
       "      <td>van</td>\n",
       "      <td>162.0</td>\n",
       "      <td>1.8</td>\n",
       "      <td>Diesel</td>\n",
       "      <td>yes</td>\n",
       "      <td>2012</td>\n",
       "      <td>B 180</td>\n",
       "      <td>front</td>\n",
       "      <td>Low</td>\n",
       "      <td>4</td>\n",
       "      <td>3-6</td>\n",
       "      <td>Moderate</td>\n",
       "      <td>40.50</td>\n",
       "      <td>Extreme</td>\n",
       "    </tr>\n",
       "    <tr>\n",
       "      <th>4</th>\n",
       "      <td>Mercedes-Benz</td>\n",
       "      <td>33000.0</td>\n",
       "      <td>vagon</td>\n",
       "      <td>91.0</td>\n",
       "      <td>1.9</td>\n",
       "      <td>Other</td>\n",
       "      <td>yes</td>\n",
       "      <td>2013</td>\n",
       "      <td>E-Class</td>\n",
       "      <td>rear</td>\n",
       "      <td>Low</td>\n",
       "      <td>3</td>\n",
       "      <td>1-3</td>\n",
       "      <td>Moderate</td>\n",
       "      <td>30.33</td>\n",
       "      <td>Extreme</td>\n",
       "    </tr>\n",
       "  </tbody>\n",
       "</table>\n",
       "</div>"
      ],
      "text/plain": [
       "             car    price       body  mileage  engV engType registration  \\\n",
       "0           Ford  15500.0  crossover     68.0   2.5     Gas          yes   \n",
       "1  Mercedes-Benz  20500.0      sedan    173.0   1.8     Gas          yes   \n",
       "2  Mercedes-Benz  35000.0      other    135.0   5.5  Petrol          yes   \n",
       "3  Mercedes-Benz  17800.0        van    162.0   1.8  Diesel          yes   \n",
       "4  Mercedes-Benz  33000.0      vagon     91.0   1.9   Other          yes   \n",
       "\n",
       "   year    model  drive  engV_cat  age age_Group price_cat    mpy   mpy_cat  \n",
       "0  2010     Kuga   full  Moderate    6       3-6  Moderate  11.33  Moderate  \n",
       "1  2011  E-Class   rear       Low    5       3-6  Moderate  34.60   Extreme  \n",
       "2  2008   CL 550   rear      High    8      6-10  Moderate  16.88      High  \n",
       "3  2012    B 180  front       Low    4       3-6  Moderate  40.50   Extreme  \n",
       "4  2013  E-Class   rear       Low    3       1-3  Moderate  30.33   Extreme  "
      ]
     },
     "execution_count": 1,
     "metadata": {},
     "output_type": "execute_result"
    }
   ],
   "source": [
    "import pandas as pd\n",
    "car = pd.read_csv(\"./car_sales_clean.csv\",encoding=\"latin_1\")\n",
    "car.drop('Unnamed: 0',axis=1,inplace=True)\n",
    "car.head()"
   ]
  },
  {
   "cell_type": "markdown",
   "metadata": {},
   "source": [
    "### Check the shape of the dataset."
   ]
  },
  {
   "cell_type": "code",
   "execution_count": 2,
   "metadata": {},
   "outputs": [
    {
     "data": {
      "text/plain": [
       "(9095, 16)"
      ]
     },
     "execution_count": 2,
     "metadata": {},
     "output_type": "execute_result"
    }
   ],
   "source": [
    "def lr():\n",
    "    return car.shape \n",
    "lr()"
   ]
  },
  {
   "cell_type": "markdown",
   "metadata": {},
   "source": [
    "### Check the descriptive stats of the dataset."
   ]
  },
  {
   "cell_type": "code",
   "execution_count": 3,
   "metadata": {},
   "outputs": [
    {
     "data": {
      "text/html": [
       "<div>\n",
       "<style scoped>\n",
       "    .dataframe tbody tr th:only-of-type {\n",
       "        vertical-align: middle;\n",
       "    }\n",
       "\n",
       "    .dataframe tbody tr th {\n",
       "        vertical-align: top;\n",
       "    }\n",
       "\n",
       "    .dataframe thead th {\n",
       "        text-align: right;\n",
       "    }\n",
       "</style>\n",
       "<table border=\"1\" class=\"dataframe\">\n",
       "  <thead>\n",
       "    <tr style=\"text-align: right;\">\n",
       "      <th></th>\n",
       "      <th>price</th>\n",
       "      <th>mileage</th>\n",
       "      <th>engV</th>\n",
       "      <th>year</th>\n",
       "      <th>age</th>\n",
       "      <th>mpy</th>\n",
       "    </tr>\n",
       "  </thead>\n",
       "  <tbody>\n",
       "    <tr>\n",
       "      <th>count</th>\n",
       "      <td>9095.000000</td>\n",
       "      <td>9095.000000</td>\n",
       "      <td>9095.000000</td>\n",
       "      <td>9095.000000</td>\n",
       "      <td>9095.000000</td>\n",
       "      <td>9095.000000</td>\n",
       "    </tr>\n",
       "    <tr>\n",
       "      <th>mean</th>\n",
       "      <td>16375.589933</td>\n",
       "      <td>141.662397</td>\n",
       "      <td>2.228299</td>\n",
       "      <td>2006.566245</td>\n",
       "      <td>9.433755</td>\n",
       "      <td>17.030325</td>\n",
       "    </tr>\n",
       "    <tr>\n",
       "      <th>std</th>\n",
       "      <td>24789.196724</td>\n",
       "      <td>97.715494</td>\n",
       "      <td>0.946221</td>\n",
       "      <td>6.887195</td>\n",
       "      <td>6.887195</td>\n",
       "      <td>12.948138</td>\n",
       "    </tr>\n",
       "    <tr>\n",
       "      <th>min</th>\n",
       "      <td>259.350000</td>\n",
       "      <td>0.000000</td>\n",
       "      <td>0.900000</td>\n",
       "      <td>1959.000000</td>\n",
       "      <td>0.000000</td>\n",
       "      <td>0.000000</td>\n",
       "    </tr>\n",
       "    <tr>\n",
       "      <th>25%</th>\n",
       "      <td>5500.000000</td>\n",
       "      <td>74.000000</td>\n",
       "      <td>1.600000</td>\n",
       "      <td>2004.000000</td>\n",
       "      <td>5.000000</td>\n",
       "      <td>11.250000</td>\n",
       "    </tr>\n",
       "    <tr>\n",
       "      <th>50%</th>\n",
       "      <td>9555.000000</td>\n",
       "      <td>130.000000</td>\n",
       "      <td>2.000000</td>\n",
       "      <td>2008.000000</td>\n",
       "      <td>8.000000</td>\n",
       "      <td>15.730000</td>\n",
       "    </tr>\n",
       "    <tr>\n",
       "      <th>75%</th>\n",
       "      <td>17000.000000</td>\n",
       "      <td>197.000000</td>\n",
       "      <td>2.500000</td>\n",
       "      <td>2011.000000</td>\n",
       "      <td>12.000000</td>\n",
       "      <td>21.000000</td>\n",
       "    </tr>\n",
       "    <tr>\n",
       "      <th>max</th>\n",
       "      <td>547800.000000</td>\n",
       "      <td>999.000000</td>\n",
       "      <td>6.750000</td>\n",
       "      <td>2016.000000</td>\n",
       "      <td>57.000000</td>\n",
       "      <td>410.000000</td>\n",
       "    </tr>\n",
       "  </tbody>\n",
       "</table>\n",
       "</div>"
      ],
      "text/plain": [
       "               price      mileage         engV         year          age  \\\n",
       "count    9095.000000  9095.000000  9095.000000  9095.000000  9095.000000   \n",
       "mean    16375.589933   141.662397     2.228299  2006.566245     9.433755   \n",
       "std     24789.196724    97.715494     0.946221     6.887195     6.887195   \n",
       "min       259.350000     0.000000     0.900000  1959.000000     0.000000   \n",
       "25%      5500.000000    74.000000     1.600000  2004.000000     5.000000   \n",
       "50%      9555.000000   130.000000     2.000000  2008.000000     8.000000   \n",
       "75%     17000.000000   197.000000     2.500000  2011.000000    12.000000   \n",
       "max    547800.000000   999.000000     6.750000  2016.000000    57.000000   \n",
       "\n",
       "               mpy  \n",
       "count  9095.000000  \n",
       "mean     17.030325  \n",
       "std      12.948138  \n",
       "min       0.000000  \n",
       "25%      11.250000  \n",
       "50%      15.730000  \n",
       "75%      21.000000  \n",
       "max     410.000000  "
      ]
     },
     "execution_count": 3,
     "metadata": {},
     "output_type": "execute_result"
    }
   ],
   "source": [
    "def lr():\n",
    "    return car.describe()\n",
    "lr()"
   ]
  },
  {
   "cell_type": "markdown",
   "metadata": {},
   "source": [
    "### Q 1. Write a code to understand the total count and percentage of missing values."
   ]
  },
  {
   "cell_type": "code",
   "execution_count": 4,
   "metadata": {
    "scrolled": true
   },
   "outputs": [
    {
     "name": "stdout",
     "output_type": "stream",
     "text": [
      "              Total  Percent\n",
      "mpy_cat           0      0.0\n",
      "mpy               0      0.0\n",
      "price_cat         0      0.0\n",
      "age_Group         0      0.0\n",
      "age               0      0.0\n",
      "engV_cat          0      0.0\n",
      "drive             0      0.0\n",
      "model             0      0.0\n",
      "year              0      0.0\n",
      "registration      0      0.0\n",
      "engType           0      0.0\n",
      "engV              0      0.0\n",
      "mileage           0      0.0\n",
      "body              0      0.0\n",
      "price             0      0.0\n",
      "car               0      0.0\n"
     ]
    }
   ],
   "source": [
    "def lr():\n",
    "    total = car.isnull().sum().sort_values(ascending=False)\n",
    "    percent = (car.isnull().sum()/car.isnull().count()).sort_values(ascending=False)\n",
    "    missing_data = pd.concat([total, percent], axis=1, keys=['Total', 'Percent'])\n",
    "    missing_data.head(20)\n",
    "    miss = print(missing_data)\n",
    "    return miss\n",
    "lr()"
   ]
  },
  {
   "cell_type": "markdown",
   "metadata": {},
   "source": [
    "### Q 2. Impute the missing value using \"median\" groupby Manufacturer. "
   ]
  },
  {
   "cell_type": "code",
   "execution_count": 5,
   "metadata": {},
   "outputs": [],
   "source": [
    "\n",
    "# def lr():\n",
    "#     car[\"Sales_in_thousands\"].fillna(car.groupby(\"Manufacturer\")[\"Sales_in_thousands\"].transform(\"median\"), inplace=True)\n",
    "#     return\n",
    "# lr()\n",
    "# print (car.isnull().sum())"
   ]
  },
  {
   "cell_type": "markdown",
   "metadata": {},
   "source": [
    "### Q 3. Create a dummy variable for \"body\",  \"drive\" & \"engType\" and  drop the original variable."
   ]
  },
  {
   "cell_type": "code",
   "execution_count": 6,
   "metadata": {},
   "outputs": [
    {
     "name": "stdout",
     "output_type": "stream",
     "text": [
      "             car    price  mileage  engV  year    model  engV_cat  age  \\\n",
      "0           Ford  15500.0     68.0   2.5  2010     Kuga  Moderate    6   \n",
      "1  Mercedes-Benz  20500.0    173.0   1.8  2011  E-Class       Low    5   \n",
      "2  Mercedes-Benz  35000.0    135.0   5.5  2008   CL 550      High    8   \n",
      "3  Mercedes-Benz  17800.0    162.0   1.8  2012    B 180       Low    4   \n",
      "4  Mercedes-Benz  33000.0     91.0   1.9  2013  E-Class       Low    3   \n",
      "\n",
      "  age_Group price_cat        ...         body_other body_sedan  body_vagon  \\\n",
      "0       3-6  Moderate        ...                  0          0           0   \n",
      "1       3-6  Moderate        ...                  0          1           0   \n",
      "2      6-10  Moderate        ...                  1          0           0   \n",
      "3       3-6  Moderate        ...                  0          0           0   \n",
      "4       1-3  Moderate        ...                  0          0           1   \n",
      "\n",
      "   body_van  drive_full  drive_rear  engType_Gas  engType_Other  \\\n",
      "0         0           1           0            1              0   \n",
      "1         0           0           1            1              0   \n",
      "2         0           0           1            0              0   \n",
      "3         1           0           0            0              0   \n",
      "4         0           0           1            0              1   \n",
      "\n",
      "   engType_Petrol  registration_yes  \n",
      "0               0                 1  \n",
      "1               0                 1  \n",
      "2               1                 1  \n",
      "3               0                 1  \n",
      "4               0                 1  \n",
      "\n",
      "[5 rows x 23 columns]\n",
      "Index(['car', 'price', 'mileage', 'engV', 'year', 'model', 'engV_cat', 'age',\n",
      "       'age_Group', 'price_cat', 'mpy', 'mpy_cat', 'body_hatch', 'body_other',\n",
      "       'body_sedan', 'body_vagon', 'body_van', 'drive_full', 'drive_rear',\n",
      "       'engType_Gas', 'engType_Other', 'engType_Petrol', 'registration_yes'],\n",
      "      dtype='object')\n"
     ]
    }
   ],
   "source": [
    "car_dummy =pd.DataFrame()                                             # Creating an empty data frame\n",
    "def lr(car):\n",
    "    dummies = pd.get_dummies(car, columns=['body','drive','engType','registration'], drop_first=True)\n",
    "    return dummies\n",
    "car_dummy = lr(car)\n",
    "print(car_dummy.head())\n",
    "print(car_dummy.columns)"
   ]
  },
  {
   "cell_type": "markdown",
   "metadata": {},
   "source": [
    "### Q 4. Drop the below mentioned variables which will not help in prediction of sales.\n",
    "``` ['car', 'model', 'engV_cat','age_Group','price_cat','mpy_cat' ] ```"
   ]
  },
  {
   "cell_type": "code",
   "execution_count": 7,
   "metadata": {},
   "outputs": [
    {
     "name": "stdout",
     "output_type": "stream",
     "text": [
      "           price  mileage  engV  year  age    mpy  body_hatch  body_other  \\\n",
      "0      15500.000     68.0  2.50  2010    6  11.33           0           0   \n",
      "1      20500.000    173.0  1.80  2011    5  34.60           0           0   \n",
      "2      35000.000    135.0  5.50  2008    8  16.88           0           1   \n",
      "3      17800.000    162.0  1.80  2012    4  40.50           0           0   \n",
      "4      33000.000     91.0  1.90  2013    3  30.33           0           0   \n",
      "5      16600.000     83.0  2.00  2013    3  27.67           0           0   \n",
      "6       6500.000    199.0  2.00  2003   13  15.31           0           0   \n",
      "7      10500.000    185.0  1.50  2011    5  37.00           0           0   \n",
      "8      21500.000    146.0  1.80  2012    4  36.50           0           0   \n",
      "9      22700.000    125.0  2.20  2010    6  20.83           0           0   \n",
      "10     20447.154      0.0  1.20  2016    0   0.00           0           0   \n",
      "11     20400.000    190.0  1.80  2011    5  38.00           0           0   \n",
      "12     22500.000    164.0  1.80  2012    4  41.00           0           0   \n",
      "13      4700.000    200.0  1.60  1996   20  10.00           0           0   \n",
      "14     21500.000    159.0  1.80  2012    4  39.75           0           0   \n",
      "15     19999.000    290.0  4.80  2006   10  29.00           0           0   \n",
      "16    129222.000      2.0  5.00  2016    0   0.00           0           0   \n",
      "17     99999.000      0.0  3.00  2016    0   0.00           0           0   \n",
      "18     73900.000     57.0  4.40  2013    3  19.00           0           0   \n",
      "19    167449.500      0.0  4.40  2016    0   0.00           0           0   \n",
      "20     26033.553      0.0  1.60  2016    0   0.00           0           0   \n",
      "21    104999.000      2.0  3.00  2016    0   0.00           0           0   \n",
      "22     66500.000      1.0  2.00  2016    0   0.00           0           0   \n",
      "23     65099.000      0.0  2.00  2016    0   0.00           0           0   \n",
      "24     23900.000    235.0  3.00  2007    9  26.11           0           0   \n",
      "25     69999.000      0.0  2.20  2016    0   0.00           0           0   \n",
      "26     66200.000     70.0  3.00  2014    2  35.00           0           0   \n",
      "27     63000.000     33.0  2.00  2015    1  33.00           0           0   \n",
      "28    105999.000      0.0  2.98  2016    0   0.00           0           0   \n",
      "29     13980.000     31.0  1.00  2013    3  10.33           1           0   \n",
      "...          ...      ...   ...   ...  ...    ...         ...         ...   \n",
      "9065    1200.000    242.0  2.90  1976   40   6.05           0           0   \n",
      "9066     907.725      1.0  1.30  1986   30   0.03           0           0   \n",
      "9067   12900.000     40.0  2.00  2013    3  13.33           0           0   \n",
      "9068   34600.000     31.0  2.50  2014    2  15.50           0           0   \n",
      "9069    9899.000    174.0  1.60  2012    4  43.50           0           0   \n",
      "9070   44800.000     63.0  4.40  2012    4  15.75           0           0   \n",
      "9071   10450.000     98.0  2.00  2013    3  32.67           0           0   \n",
      "9072    4500.000    190.0  1.90  2001   15  12.67           0           0   \n",
      "9073    2750.000    130.0  1.50  2007    9  14.44           0           0   \n",
      "9074    2100.000     68.0  1.20  2006   10   6.80           0           0   \n",
      "9075    2499.000    201.0  1.70  2001   15  13.40           1           0   \n",
      "9076   12700.000     86.0  1.60  2012    4  21.50           0           1   \n",
      "9077    9900.000    178.0  2.50  2007    9  19.78           0           1   \n",
      "9078    5600.000    159.0  1.60  2008    8  19.88           1           0   \n",
      "9079   21900.000     88.0  2.50  2012    4  22.00           0           0   \n",
      "9080    7900.000    168.0  1.90  2006   10  16.80           0           1   \n",
      "9081    5200.000    250.0  2.50  2005   11  22.73           0           1   \n",
      "9082    3250.000    200.0  1.60  2007    9  22.22           0           0   \n",
      "9083    6100.000     84.0  1.20  2007    9   9.33           0           0   \n",
      "9084    9300.000    176.0  1.90  2005   11  16.00           0           0   \n",
      "9085    8900.000    155.0  1.50  2005   11  14.09           1           0   \n",
      "9086   13990.000    210.0  3.00  2006   10  21.00           0           0   \n",
      "9087    5000.000    248.0  2.00  1996   20  12.40           0           0   \n",
      "9088   18000.000    155.0  2.00  2011    5  31.00           0           0   \n",
      "9089   14474.000    115.0  2.00  2007    9  12.78           0           0   \n",
      "9090   14500.000    140.0  2.00  2011    5  28.00           0           0   \n",
      "9091    2200.000    150.0  1.60  1986   30   5.00           0           0   \n",
      "9092   18500.000    180.0  3.50  2008    8  22.50           0           0   \n",
      "9093   16999.000    150.0  3.50  2008    8  18.75           0           0   \n",
      "9094   22500.000     71.0  3.60  2007    9   7.89           0           1   \n",
      "\n",
      "      body_sedan  body_vagon  body_van  drive_full  drive_rear  engType_Gas  \\\n",
      "0              0           0         0           1           0            1   \n",
      "1              1           0         0           0           1            1   \n",
      "2              0           0         0           0           1            0   \n",
      "3              0           0         1           0           0            0   \n",
      "4              0           1         0           0           1            0   \n",
      "5              0           0         0           1           0            0   \n",
      "6              1           0         0           0           0            0   \n",
      "7              0           1         0           0           0            0   \n",
      "8              1           0         0           0           1            1   \n",
      "9              1           0         0           0           1            0   \n",
      "10             0           0         0           0           0            0   \n",
      "11             1           0         0           0           1            1   \n",
      "12             1           0         0           0           1            1   \n",
      "13             1           0         0           0           1            0   \n",
      "14             1           0         0           0           1            1   \n",
      "15             1           0         0           0           1            0   \n",
      "16             1           0         0           1           0            0   \n",
      "17             0           0         0           1           0            0   \n",
      "18             1           0         0           0           1            0   \n",
      "19             0           0         0           1           0            0   \n",
      "20             0           0         0           1           0            0   \n",
      "21             0           0         0           1           0            0   \n",
      "22             0           0         0           1           0            0   \n",
      "23             0           0         0           1           0            0   \n",
      "24             0           0         0           1           0            0   \n",
      "25             0           0         0           1           0            0   \n",
      "26             0           0         0           1           0            0   \n",
      "27             0           0         0           1           0            0   \n",
      "28             0           0         0           1           0            0   \n",
      "29             0           0         0           0           0            0   \n",
      "...          ...         ...       ...         ...         ...          ...   \n",
      "9065           0           1         0           0           1            0   \n",
      "9066           1           0         0           0           1            0   \n",
      "9067           1           0         0           1           0            0   \n",
      "9068           0           0         0           1           0            0   \n",
      "9069           0           1         0           0           0            0   \n",
      "9070           1           0         0           0           1            0   \n",
      "9071           0           0         1           0           0            0   \n",
      "9072           0           0         1           0           0            0   \n",
      "9073           1           0         0           0           0            1   \n",
      "9074           1           0         0           0           0            0   \n",
      "9075           0           0         0           0           0            0   \n",
      "9076           0           0         0           0           0            0   \n",
      "9077           0           0         0           0           0            0   \n",
      "9078           0           0         0           0           0            0   \n",
      "9079           1           0         0           0           0            0   \n",
      "9080           0           0         0           0           0            0   \n",
      "9081           0           0         0           0           1            0   \n",
      "9082           1           0         0           0           0            0   \n",
      "9083           0           1         0           0           0            0   \n",
      "9084           0           0         1           0           0            0   \n",
      "9085           0           0         0           0           0            0   \n",
      "9086           0           0         0           1           0            0   \n",
      "9087           0           1         0           0           1            1   \n",
      "9088           0           0         0           1           0            0   \n",
      "9089           0           0         0           1           0            0   \n",
      "9090           0           0         0           0           0            1   \n",
      "9091           0           1         0           0           0            0   \n",
      "9092           0           0         0           1           0            0   \n",
      "9093           1           0         0           0           0            1   \n",
      "9094           0           0         0           1           0            0   \n",
      "\n",
      "      engType_Other  engType_Petrol  registration_yes  \n",
      "0                 0               0                 1  \n",
      "1                 0               0                 1  \n",
      "2                 0               1                 1  \n",
      "3                 0               0                 1  \n",
      "4                 1               0                 1  \n",
      "5                 0               1                 1  \n",
      "6                 0               1                 1  \n",
      "7                 0               0                 1  \n",
      "8                 0               0                 1  \n",
      "9                 0               0                 1  \n",
      "10                0               1                 1  \n",
      "11                0               0                 1  \n",
      "12                0               0                 1  \n",
      "13                0               1                 1  \n",
      "14                0               0                 1  \n",
      "15                0               1                 1  \n",
      "16                0               1                 1  \n",
      "17                0               1                 1  \n",
      "18                0               1                 1  \n",
      "19                0               0                 1  \n",
      "20                0               0                 1  \n",
      "21                0               0                 1  \n",
      "22                0               0                 1  \n",
      "23                0               0                 1  \n",
      "24                0               0                 1  \n",
      "25                0               0                 1  \n",
      "26                0               0                 1  \n",
      "27                0               0                 1  \n",
      "28                0               0                 1  \n",
      "29                1               0                 1  \n",
      "...             ...             ...               ...  \n",
      "9065              0               1                 1  \n",
      "9066              1               0                 1  \n",
      "9067              0               1                 1  \n",
      "9068              0               1                 1  \n",
      "9069              0               0                 0  \n",
      "9070              0               1                 1  \n",
      "9071              0               0                 1  \n",
      "9072              0               0                 1  \n",
      "9073              0               0                 1  \n",
      "9074              0               1                 1  \n",
      "9075              0               0                 0  \n",
      "9076              0               1                 1  \n",
      "9077              0               0                 1  \n",
      "9078              0               1                 1  \n",
      "9079              0               1                 1  \n",
      "9080              0               0                 1  \n",
      "9081              0               0                 1  \n",
      "9082              0               1                 1  \n",
      "9083              0               1                 1  \n",
      "9084              0               0                 1  \n",
      "9085              0               1                 1  \n",
      "9086              0               0                 1  \n",
      "9087              0               0                 1  \n",
      "9088              0               0                 1  \n",
      "9089              0               1                 1  \n",
      "9090              0               0                 1  \n",
      "9091              0               1                 1  \n",
      "9092              0               1                 1  \n",
      "9093              0               0                 1  \n",
      "9094              0               1                 1  \n",
      "\n",
      "[9095 rows x 17 columns]\n"
     ]
    }
   ],
   "source": [
    "def lr(car_dummy):\n",
    "    car_drop = car_dummy.drop(car_dummy[['car', 'model', 'engV_cat','age_Group','price_cat','mpy_cat' ]], axis=1)\n",
    "    return car_drop\n",
    "car_dummy = lr(car_dummy)\n",
    "print (car_dummy)"
   ]
  },
  {
   "cell_type": "code",
   "execution_count": 45,
   "metadata": {},
   "outputs": [
    {
     "data": {
      "image/png": "[encoded data removed]",
      "text/plain": [
       "<Figure size 432x288 with 1 Axes>"
      ]
     },
     "metadata": {},
     "output_type": "display_data"
    }
   ],
   "source": [
    "def lr():\n",
    "    import seaborn as sns\n",
    "    import matplotlib.pyplot as plt\n",
    "    sns.boxplot(data=car_dummy, orient=\"h\", palette=\"Set2\")\n",
    "    plt.show()\n",
    "    return None \n",
    "lr()"
   ]
  },
  {
   "cell_type": "markdown",
   "metadata": {},
   "source": [
    "### Q 5. Calculate the Inter quantile range and then drop off outliers for quantile values outside 5 to 95 range."
   ]
  },
  {
   "cell_type": "code",
   "execution_count": 9,
   "metadata": {},
   "outputs": [
    {
     "name": "stdout",
     "output_type": "stream",
     "text": [
      "           price  mileage  engV  year  age     mpy  body_hatch  body_other  \\\n",
      "4      33000.000     91.0  1.90  2013    3   30.33           0           0   \n",
      "16    129222.000      2.0  5.00  2016    0    0.00           0           0   \n",
      "19    167449.500      0.0  4.40  2016    0    0.00           0           0   \n",
      "29     13980.000     31.0  1.00  2013    3   10.33           1           0   \n",
      "30     17300.000     24.0  1.00  2013    3    8.00           1           0   \n",
      "36      2850.000    260.0  2.50  1999   17   15.29           0           0   \n",
      "38    200000.000     19.0  3.50  2013    3    6.33           0           0   \n",
      "40     13275.000     12.0  1.00  2013    3    4.00           1           0   \n",
      "54     17000.000     38.0  1.00  2013    3   12.67           1           0   \n",
      "64    195000.000      0.0  4.50  2016    0    0.00           0           0   \n",
      "73    114900.000     25.0  4.80  2013    3    8.33           0           0   \n",
      "114   107999.000      0.0  2.98  2016    0    0.00           0           0   \n",
      "128    93555.000      0.0  3.00  2016    0    0.00           0           0   \n",
      "132   107777.000      0.0  3.00  2016    0    0.00           0           0   \n",
      "135   109999.000      0.0  2.98  2016    0    0.00           0           0   \n",
      "151   109999.000      0.0  3.00  2016    0    0.00           0           0   \n",
      "176   114999.000      0.0  2.99  2016    0    0.00           0           0   \n",
      "190   134749.500     11.0  5.70  2016    0    0.00           0           0   \n",
      "193   125000.000     22.0  3.00  2015    1   22.00           0           1   \n",
      "199    10500.000    120.0  2.00  2007    9   13.33           0           0   \n",
      "201   125000.000     18.0  3.00  2015    1   18.00           0           0   \n",
      "208    13900.000    139.0  2.40  2008    8   17.38           0           0   \n",
      "216    39000.000     18.0  1.80  2015    1   18.00           0           0   \n",
      "228    17500.000     62.0  1.00  2013    3   20.67           1           0   \n",
      "235     1950.000    320.0  1.85  1996   20   16.00           0           0   \n",
      "238   110000.000      0.0  3.00  2016    0    0.00           0           0   \n",
      "239    16500.000     32.0  1.00  2013    3   10.67           1           0   \n",
      "246   147000.000     15.0  5.00  2015    1   15.00           0           0   \n",
      "260   117777.000      9.0  4.80  2014    2    4.50           1           0   \n",
      "267   111999.000      0.0  3.00  2016    0    0.00           0           0   \n",
      "...          ...      ...   ...   ...  ...     ...         ...         ...   \n",
      "8485   11000.000     74.0  1.40  2010    6   12.33           1           0   \n",
      "8486   11000.000     74.0  1.40  2010    6   12.33           1           0   \n",
      "8487   13300.000     53.0  1.40  2012    4   13.25           1           0   \n",
      "8488   19200.000     54.0  1.40  2012    4   13.50           1           0   \n",
      "8489   11000.000     74.0  1.40  2010    6   12.33           1           0   \n",
      "8490   19200.000     54.0  1.40  2012    4   13.50           1           0   \n",
      "8491   19200.000     54.0  1.40  2012    4   13.50           1           0   \n",
      "8493   12400.000     52.0  1.40  2012    4   13.00           1           0   \n",
      "8532   20500.000    193.0  3.50  2006   10   19.30           0           0   \n",
      "8535    1300.000    120.0  2.50  1978   38    3.16           0           0   \n",
      "8600   15700.000     42.0  1.60  2012    4   10.50           0           1   \n",
      "8616   10500.000     78.0  1.40  2012    4   19.50           0           1   \n",
      "8644    6950.000    132.0  1.60  2004   12   11.00           0           0   \n",
      "8683    3500.000    105.0  1.40  2008    8   13.12           1           0   \n",
      "8722    5600.000    115.0  1.60  2008    8   14.38           0           0   \n",
      "8776   28950.000     24.0  1.40  2013    3    8.00           0           0   \n",
      "8777   24300.000     25.0  1.00  2013    3    8.33           1           0   \n",
      "8780   15700.000     42.0  1.00  2013    3   14.00           1           0   \n",
      "8781   54000.000     49.0  1.00  2013    3   16.33           0           0   \n",
      "8783   29700.000     52.0  1.40  2013    3   17.33           1           0   \n",
      "8787   29700.000     52.0  1.40  2014    2   26.00           1           0   \n",
      "8836    3300.000    150.0  1.30  1998   18    8.33           1           0   \n",
      "8867    9000.000    158.0  1.60  2007    9   17.56           0           0   \n",
      "8918    7999.000    112.0  1.60  2008    8   14.00           1           0   \n",
      "8942    6800.000    325.0  2.50  2005   11   29.55           0           0   \n",
      "8948   14999.000     21.0  1.00  2013    3    7.00           1           0   \n",
      "8986   34900.000    200.0  2.40  2014    2  100.00           0           0   \n",
      "8992    5650.000    175.0  2.00  2002   14   12.50           1           0   \n",
      "9035    5000.000    150.0  1.50  2006   10   15.00           0           0   \n",
      "9066     907.725      1.0  1.30  1986   30    0.03           0           0   \n",
      "\n",
      "      body_sedan  body_vagon  body_van  drive_full  drive_rear  engType_Gas  \\\n",
      "4              0           1         0           0           1            0   \n",
      "16             1           0         0           1           0            0   \n",
      "19             0           0         0           1           0            0   \n",
      "29             0           0         0           0           0            0   \n",
      "30             0           0         0           0           0            0   \n",
      "36             1           0         0           0           0            0   \n",
      "38             0           0         1           0           1            0   \n",
      "40             0           0         0           0           0            0   \n",
      "54             0           0         0           0           0            0   \n",
      "64             0           0         0           1           0            0   \n",
      "73             0           0         0           1           0            0   \n",
      "114            0           0         0           1           0            0   \n",
      "128            0           0         0           1           0            0   \n",
      "132            0           0         0           1           0            0   \n",
      "135            0           0         0           1           0            0   \n",
      "151            0           0         0           1           0            0   \n",
      "176            0           0         0           1           0            0   \n",
      "190            0           0         0           1           0            0   \n",
      "193            0           0         0           1           0            0   \n",
      "199            0           0         0           1           0            0   \n",
      "201            1           0         0           1           0            0   \n",
      "208            1           0         0           0           0            0   \n",
      "216            1           0         0           0           0            0   \n",
      "228            0           0         0           0           0            0   \n",
      "235            1           0         0           0           0            0   \n",
      "238            0           0         0           1           0            0   \n",
      "239            0           0         0           0           0            0   \n",
      "246            0           0         0           1           0            0   \n",
      "260            0           0         0           1           0            0   \n",
      "267            0           0         0           1           0            0   \n",
      "...          ...         ...       ...         ...         ...          ...   \n",
      "8485           0           0         0           0           0            0   \n",
      "8486           0           0         0           0           0            0   \n",
      "8487           0           0         0           0           0            0   \n",
      "8488           0           0         0           0           0            0   \n",
      "8489           0           0         0           0           0            0   \n",
      "8490           0           0         0           0           0            0   \n",
      "8491           0           0         0           0           0            0   \n",
      "8493           0           0         0           0           0            0   \n",
      "8532           1           0         0           0           1            0   \n",
      "8535           1           0         0           1           0            0   \n",
      "8600           0           0         0           0           0            0   \n",
      "8616           0           0         0           0           0            0   \n",
      "8644           1           0         0           0           0            0   \n",
      "8683           0           0         0           0           0            0   \n",
      "8722           1           0         0           0           0            0   \n",
      "8776           1           0         0           0           0            0   \n",
      "8777           0           0         0           0           0            0   \n",
      "8780           0           0         0           0           0            0   \n",
      "8781           1           0         0           0           1            0   \n",
      "8783           0           0         0           0           0            0   \n",
      "8787           0           0         0           0           0            0   \n",
      "8836           0           0         0           0           0            0   \n",
      "8867           1           0         0           0           0            0   \n",
      "8918           0           0         0           0           0            0   \n",
      "8942           1           0         0           1           0            0   \n",
      "8948           0           0         0           0           0            0   \n",
      "8986           0           0         0           1           0            0   \n",
      "8992           0           0         0           0           0            0   \n",
      "9035           0           1         0           0           0            0   \n",
      "9066           1           0         0           0           1            0   \n",
      "\n",
      "      engType_Other  engType_Petrol  registration_yes  \n",
      "4                 1               0                 1  \n",
      "16                0               1                 1  \n",
      "19                0               0                 1  \n",
      "29                1               0                 1  \n",
      "30                1               0                 1  \n",
      "36                1               0                 0  \n",
      "38                0               1                 1  \n",
      "40                1               0                 1  \n",
      "54                1               0                 1  \n",
      "64                0               0                 1  \n",
      "73                0               1                 1  \n",
      "114               0               0                 1  \n",
      "128               1               0                 1  \n",
      "132               0               0                 1  \n",
      "135               0               0                 1  \n",
      "151               0               0                 1  \n",
      "176               0               0                 1  \n",
      "190               0               1                 1  \n",
      "193               0               0                 1  \n",
      "199               1               0                 1  \n",
      "201               0               0                 1  \n",
      "208               1               0                 1  \n",
      "216               1               0                 1  \n",
      "228               1               0                 1  \n",
      "235               1               0                 0  \n",
      "238               0               0                 1  \n",
      "239               1               0                 1  \n",
      "246               0               1                 1  \n",
      "260               0               1                 1  \n",
      "267               0               0                 1  \n",
      "...             ...             ...               ...  \n",
      "8485              1               0                 1  \n",
      "8486              1               0                 1  \n",
      "8487              1               0                 1  \n",
      "8488              1               0                 1  \n",
      "8489              1               0                 1  \n",
      "8490              1               0                 1  \n",
      "8491              1               0                 1  \n",
      "8493              1               0                 1  \n",
      "8532              1               0                 1  \n",
      "8535              1               0                 1  \n",
      "8600              1               0                 1  \n",
      "8616              1               0                 1  \n",
      "8644              1               0                 1  \n",
      "8683              1               0                 1  \n",
      "8722              1               0                 1  \n",
      "8776              1               0                 1  \n",
      "8777              1               0                 1  \n",
      "8780              1               0                 1  \n",
      "8781              1               0                 1  \n",
      "8783              1               0                 1  \n",
      "8787              1               0                 1  \n",
      "8836              1               0                 1  \n",
      "8867              1               0                 1  \n",
      "8918              1               0                 1  \n",
      "8942              1               0                 0  \n",
      "8948              1               0                 1  \n",
      "8986              0               0                 1  \n",
      "8992              1               0                 1  \n",
      "9035              1               0                 1  \n",
      "9066              1               0                 1  \n",
      "\n",
      "[529 rows x 17 columns]\n",
      "Index(['price', 'mileage', 'engV', 'year', 'age', 'mpy', 'body_hatch',\n",
      "       'body_other', 'body_sedan', 'body_vagon', 'body_van', 'drive_full',\n",
      "       'drive_rear', 'engType_Gas', 'engType_Other', 'engType_Petrol',\n",
      "       'registration_yes'],\n",
      "      dtype='object')\n"
     ]
    },
    {
     "data": {
      "text/html": [
       "<div>\n",
       "<style scoped>\n",
       "    .dataframe tbody tr th:only-of-type {\n",
       "        vertical-align: middle;\n",
       "    }\n",
       "\n",
       "    .dataframe tbody tr th {\n",
       "        vertical-align: top;\n",
       "    }\n",
       "\n",
       "    .dataframe thead th {\n",
       "        text-align: right;\n",
       "    }\n",
       "</style>\n",
       "<table border=\"1\" class=\"dataframe\">\n",
       "  <thead>\n",
       "    <tr style=\"text-align: right;\">\n",
       "      <th></th>\n",
       "      <th>price</th>\n",
       "      <th>mileage</th>\n",
       "      <th>engV</th>\n",
       "      <th>year</th>\n",
       "      <th>age</th>\n",
       "      <th>mpy</th>\n",
       "      <th>body_hatch</th>\n",
       "      <th>body_other</th>\n",
       "      <th>body_sedan</th>\n",
       "      <th>body_vagon</th>\n",
       "      <th>body_van</th>\n",
       "      <th>drive_full</th>\n",
       "      <th>drive_rear</th>\n",
       "      <th>engType_Gas</th>\n",
       "      <th>engType_Other</th>\n",
       "      <th>engType_Petrol</th>\n",
       "      <th>registration_yes</th>\n",
       "    </tr>\n",
       "  </thead>\n",
       "  <tbody>\n",
       "    <tr>\n",
       "      <th>count</th>\n",
       "      <td>8566.000000</td>\n",
       "      <td>8566.000000</td>\n",
       "      <td>8566.000000</td>\n",
       "      <td>8566.000000</td>\n",
       "      <td>8566.000000</td>\n",
       "      <td>8566.000000</td>\n",
       "      <td>8566.000000</td>\n",
       "      <td>8566.000000</td>\n",
       "      <td>8566.000000</td>\n",
       "      <td>8566.000000</td>\n",
       "      <td>8566.000000</td>\n",
       "      <td>8566.000000</td>\n",
       "      <td>8566.000000</td>\n",
       "      <td>8566.000000</td>\n",
       "      <td>8566.0</td>\n",
       "      <td>8566.000000</td>\n",
       "      <td>8566.000000</td>\n",
       "    </tr>\n",
       "    <tr>\n",
       "      <th>mean</th>\n",
       "      <td>14172.837028</td>\n",
       "      <td>142.834170</td>\n",
       "      <td>2.206610</td>\n",
       "      <td>2006.437777</td>\n",
       "      <td>9.562223</td>\n",
       "      <td>16.865761</td>\n",
       "      <td>0.123512</td>\n",
       "      <td>0.081135</td>\n",
       "      <td>0.388629</td>\n",
       "      <td>0.078450</td>\n",
       "      <td>0.113472</td>\n",
       "      <td>0.261616</td>\n",
       "      <td>0.149078</td>\n",
       "      <td>0.194607</td>\n",
       "      <td>0.0</td>\n",
       "      <td>0.477352</td>\n",
       "      <td>0.939879</td>\n",
       "    </tr>\n",
       "    <tr>\n",
       "      <th>std</th>\n",
       "      <td>15223.426976</td>\n",
       "      <td>91.935885</td>\n",
       "      <td>0.909738</td>\n",
       "      <td>6.758034</td>\n",
       "      <td>6.758034</td>\n",
       "      <td>9.901893</td>\n",
       "      <td>0.329043</td>\n",
       "      <td>0.273058</td>\n",
       "      <td>0.487467</td>\n",
       "      <td>0.268894</td>\n",
       "      <td>0.317187</td>\n",
       "      <td>0.439540</td>\n",
       "      <td>0.356186</td>\n",
       "      <td>0.395921</td>\n",
       "      <td>0.0</td>\n",
       "      <td>0.499516</td>\n",
       "      <td>0.237726</td>\n",
       "    </tr>\n",
       "    <tr>\n",
       "      <th>min</th>\n",
       "      <td>280.000000</td>\n",
       "      <td>0.000000</td>\n",
       "      <td>0.900000</td>\n",
       "      <td>1969.000000</td>\n",
       "      <td>0.000000</td>\n",
       "      <td>0.000000</td>\n",
       "      <td>0.000000</td>\n",
       "      <td>0.000000</td>\n",
       "      <td>0.000000</td>\n",
       "      <td>0.000000</td>\n",
       "      <td>0.000000</td>\n",
       "      <td>0.000000</td>\n",
       "      <td>0.000000</td>\n",
       "      <td>0.000000</td>\n",
       "      <td>0.0</td>\n",
       "      <td>0.000000</td>\n",
       "      <td>0.000000</td>\n",
       "    </tr>\n",
       "    <tr>\n",
       "      <th>25%</th>\n",
       "      <td>5500.000000</td>\n",
       "      <td>77.000000</td>\n",
       "      <td>1.600000</td>\n",
       "      <td>2004.000000</td>\n",
       "      <td>5.000000</td>\n",
       "      <td>11.500000</td>\n",
       "      <td>0.000000</td>\n",
       "      <td>0.000000</td>\n",
       "      <td>0.000000</td>\n",
       "      <td>0.000000</td>\n",
       "      <td>0.000000</td>\n",
       "      <td>0.000000</td>\n",
       "      <td>0.000000</td>\n",
       "      <td>0.000000</td>\n",
       "      <td>0.0</td>\n",
       "      <td>0.000000</td>\n",
       "      <td>1.000000</td>\n",
       "    </tr>\n",
       "    <tr>\n",
       "      <th>50%</th>\n",
       "      <td>9499.000000</td>\n",
       "      <td>131.000000</td>\n",
       "      <td>2.000000</td>\n",
       "      <td>2008.000000</td>\n",
       "      <td>8.000000</td>\n",
       "      <td>15.855000</td>\n",
       "      <td>0.000000</td>\n",
       "      <td>0.000000</td>\n",
       "      <td>0.000000</td>\n",
       "      <td>0.000000</td>\n",
       "      <td>0.000000</td>\n",
       "      <td>0.000000</td>\n",
       "      <td>0.000000</td>\n",
       "      <td>0.000000</td>\n",
       "      <td>0.0</td>\n",
       "      <td>0.000000</td>\n",
       "      <td>1.000000</td>\n",
       "    </tr>\n",
       "    <tr>\n",
       "      <th>75%</th>\n",
       "      <td>16500.000000</td>\n",
       "      <td>198.000000</td>\n",
       "      <td>2.500000</td>\n",
       "      <td>2011.000000</td>\n",
       "      <td>12.000000</td>\n",
       "      <td>21.000000</td>\n",
       "      <td>0.000000</td>\n",
       "      <td>0.000000</td>\n",
       "      <td>1.000000</td>\n",
       "      <td>0.000000</td>\n",
       "      <td>0.000000</td>\n",
       "      <td>1.000000</td>\n",
       "      <td>0.000000</td>\n",
       "      <td>0.000000</td>\n",
       "      <td>0.0</td>\n",
       "      <td>1.000000</td>\n",
       "      <td>1.000000</td>\n",
       "    </tr>\n",
       "    <tr>\n",
       "      <th>max</th>\n",
       "      <td>106000.000000</td>\n",
       "      <td>600.000000</td>\n",
       "      <td>6.500000</td>\n",
       "      <td>2016.000000</td>\n",
       "      <td>47.000000</td>\n",
       "      <td>70.000000</td>\n",
       "      <td>1.000000</td>\n",
       "      <td>1.000000</td>\n",
       "      <td>1.000000</td>\n",
       "      <td>1.000000</td>\n",
       "      <td>1.000000</td>\n",
       "      <td>1.000000</td>\n",
       "      <td>1.000000</td>\n",
       "      <td>1.000000</td>\n",
       "      <td>0.0</td>\n",
       "      <td>1.000000</td>\n",
       "      <td>1.000000</td>\n",
       "    </tr>\n",
       "  </tbody>\n",
       "</table>\n",
       "</div>"
      ],
      "text/plain": [
       "               price      mileage         engV         year          age  \\\n",
       "count    8566.000000  8566.000000  8566.000000  8566.000000  8566.000000   \n",
       "mean    14172.837028   142.834170     2.206610  2006.437777     9.562223   \n",
       "std     15223.426976    91.935885     0.909738     6.758034     6.758034   \n",
       "min       280.000000     0.000000     0.900000  1969.000000     0.000000   \n",
       "25%      5500.000000    77.000000     1.600000  2004.000000     5.000000   \n",
       "50%      9499.000000   131.000000     2.000000  2008.000000     8.000000   \n",
       "75%     16500.000000   198.000000     2.500000  2011.000000    12.000000   \n",
       "max    106000.000000   600.000000     6.500000  2016.000000    47.000000   \n",
       "\n",
       "               mpy   body_hatch   body_other   body_sedan   body_vagon  \\\n",
       "count  8566.000000  8566.000000  8566.000000  8566.000000  8566.000000   \n",
       "mean     16.865761     0.123512     0.081135     0.388629     0.078450   \n",
       "std       9.901893     0.329043     0.273058     0.487467     0.268894   \n",
       "min       0.000000     0.000000     0.000000     0.000000     0.000000   \n",
       "25%      11.500000     0.000000     0.000000     0.000000     0.000000   \n",
       "50%      15.855000     0.000000     0.000000     0.000000     0.000000   \n",
       "75%      21.000000     0.000000     0.000000     1.000000     0.000000   \n",
       "max      70.000000     1.000000     1.000000     1.000000     1.000000   \n",
       "\n",
       "          body_van   drive_full   drive_rear  engType_Gas  engType_Other  \\\n",
       "count  8566.000000  8566.000000  8566.000000  8566.000000         8566.0   \n",
       "mean      0.113472     0.261616     0.149078     0.194607            0.0   \n",
       "std       0.317187     0.439540     0.356186     0.395921            0.0   \n",
       "min       0.000000     0.000000     0.000000     0.000000            0.0   \n",
       "25%       0.000000     0.000000     0.000000     0.000000            0.0   \n",
       "50%       0.000000     0.000000     0.000000     0.000000            0.0   \n",
       "75%       0.000000     1.000000     0.000000     0.000000            0.0   \n",
       "max       1.000000     1.000000     1.000000     1.000000            0.0   \n",
       "\n",
       "       engType_Petrol  registration_yes  \n",
       "count     8566.000000       8566.000000  \n",
       "mean         0.477352          0.939879  \n",
       "std          0.499516          0.237726  \n",
       "min          0.000000          0.000000  \n",
       "25%          0.000000          1.000000  \n",
       "50%          0.000000          1.000000  \n",
       "75%          1.000000          1.000000  \n",
       "max          1.000000          1.000000  "
      ]
     },
     "execution_count": 9,
     "metadata": {},
     "output_type": "execute_result"
    }
   ],
   "source": [
    "def lr(car_dummy):\n",
    "    import pandas as pd\n",
    "    Q1 = car_dummy.quantile(0.05)\n",
    "    Q3 = car_dummy.quantile(0.95)\n",
    "    Q_diff = Q3 - Q1\n",
    "    car_out = car_dummy[~((car_dummy < (Q1 - Q_diff))|(car_dummy > (Q3 + Q_diff))).any(axis=1)]\n",
    "    print(car_dummy[((car_dummy < (Q1 - Q_diff))|(car_dummy > (Q3 + Q_diff))).any(axis=1)])\n",
    "    return car_out\n",
    "car_dummy = lr(car_dummy)\n",
    "# print (car_dummy)\n",
    "print (car_dummy.columns)\n",
    "car_dummy.describe()"
   ]
  },
  {
   "cell_type": "markdown",
   "metadata": {},
   "source": [
    "### Q 6. Write code to standardize the variable for model building (return value will be numpy.ndarray)."
   ]
  },
  {
   "cell_type": "code",
   "execution_count": 10,
   "metadata": {},
   "outputs": [
    {
     "name": "stdout",
     "output_type": "stream",
     "text": [
      "(8566, 16)\n",
      "   mileage  engV  year  age    mpy  body_hatch  body_other  body_sedan  \\\n",
      "0     68.0   2.5  2010    6  11.33           0           0           0   \n",
      "1    173.0   1.8  2011    5  34.60           0           0           1   \n",
      "2    135.0   5.5  2008    8  16.88           0           1           0   \n",
      "3    162.0   1.8  2012    4  40.50           0           0           0   \n",
      "5     83.0   2.0  2013    3  27.67           0           0           0   \n",
      "\n",
      "   body_vagon  body_van  drive_full  drive_rear  engType_Gas  engType_Other  \\\n",
      "0           0         0           1           0            1              0   \n",
      "1           0         0           0           1            1              0   \n",
      "2           0         0           0           1            0              0   \n",
      "3           0         1           0           0            0              0   \n",
      "5           0         0           1           0            0              0   \n",
      "\n",
      "   engType_Petrol  registration_yes  \n",
      "0               0                 1  \n",
      "1               0                 1  \n",
      "2               1                 1  \n",
      "3               0                 1  \n",
      "5               1                 1  \n",
      "[ 0.32813728 -0.44697869  0.67512075 -0.67512075  1.79109936 -0.37538827\n",
      " -0.29715117  1.25425081 -0.29176694 -0.35776499 -0.59523802  2.38912309\n",
      "  2.03434812  0.         -0.95568552  0.2529174 ]\n"
     ]
    }
   ],
   "source": [
    "std = pd.DataFrame()\n",
    "car_modify = car_dummy.drop(car_dummy[['price']], axis=1)\n",
    "def lr(car_modify):\n",
    "    from sklearn.preprocessing import StandardScaler\n",
    "    scaler = StandardScaler().fit(car_modify)\n",
    "    st = scaler.transform(car_modify)\n",
    "    return st\n",
    "std = lr(car_modify)\n",
    "print(std.shape)\n",
    "print(car_modify.head())\n",
    "print(std[1])"
   ]
  },
  {
   "cell_type": "markdown",
   "metadata": {},
   "source": [
    "### Q 7. Write a code to create a DataFrame from the standardized value calculated above"
   ]
  },
  {
   "cell_type": "markdown",
   "metadata": {},
   "source": [
    "### Since the standardized value is a numpy array, add the data to a dataframe with column header as mentioned below in the same order\n",
    "\n",
    "```['mileage', 'engV', 'year', 'age', 'mpy', 'body_hatch',\n",
    "       'body_other', 'body_sedan', 'body_vagon', 'body_van', 'drive_full',\n",
    "       'drive_rear', 'engType_Gas', 'engType_Other', 'engType_Petrol',\n",
    "       'registration_yes'] ```"
   ]
  },
  {
   "cell_type": "code",
   "execution_count": 11,
   "metadata": {},
   "outputs": [
    {
     "name": "stdout",
     "output_type": "stream",
     "text": [
      "    mileage      engV      year       age       mpy  body_hatch  body_other  \\\n",
      "0 -0.814030  0.322518  0.527140 -0.527140 -0.559094   -0.375388   -0.297151   \n",
      "1  0.328137 -0.446979  0.675121 -0.675121  1.791099   -0.375388   -0.297151   \n",
      "2 -0.085218  3.620363  0.231179 -0.231179  0.001438   -0.375388    3.365290   \n",
      "3  0.208482 -0.446979  0.823101 -0.823101  2.386980   -0.375388   -0.297151   \n",
      "4 -0.650863 -0.227122  0.971082 -0.971082  1.091192   -0.375388   -0.297151   \n",
      "\n",
      "   body_sedan  body_vagon  body_van  drive_full  drive_rear  engType_Gas  \\\n",
      "0   -0.797289   -0.291767 -0.357765    1.680000   -0.418564     2.034348   \n",
      "1    1.254251   -0.291767 -0.357765   -0.595238    2.389123     2.034348   \n",
      "2   -0.797289   -0.291767 -0.357765   -0.595238    2.389123    -0.491558   \n",
      "3   -0.797289   -0.291767  2.795131   -0.595238   -0.418564    -0.491558   \n",
      "4   -0.797289   -0.291767 -0.357765    1.680000   -0.418564    -0.491558   \n",
      "\n",
      "   engType_Other  engType_Petrol  registration_yes  \n",
      "0            0.0       -0.955686          0.252917  \n",
      "1            0.0       -0.955686          0.252917  \n",
      "2            0.0        1.046369          0.252917  \n",
      "3            0.0       -0.955686          0.252917  \n",
      "4            0.0        1.046369          0.252917  \n",
      "(8566, 16)\n"
     ]
    }
   ],
   "source": [
    "columns = ['mileage', 'engV', 'year', 'age', 'mpy', \n",
    "           'body_hatch','body_other', 'body_sedan', \n",
    "           'body_vagon', 'body_van', 'drive_full','drive_rear', \n",
    "           'engType_Gas', 'engType_Other', 'engType_Petrol',\n",
    "           'registration_yes']\n",
    "def lr(std):\n",
    "    cars= pd.DataFrame(std)\n",
    "    cars.columns = columns\n",
    "    return cars\n",
    "cars = lr(std)\n",
    "print(cars.head())\n",
    "print(cars.shape)"
   ]
  },
  {
   "cell_type": "markdown",
   "metadata": {},
   "source": [
    "### Q 8: Now since all variable may not be of use, please extract only the following variables for training. Preparing X (independent features) for the model building.\n",
    "\n",
    "```['mileage', 'engV', 'year', 'age', 'mpy', \n",
    "           'body_hatch','body_other', 'body_sedan', \n",
    "           'body_vagon', 'body_van', 'drive_full','drive_rear', \n",
    "           'engType_Gas', 'engType_Other','engType_Petrol',\n",
    "           'registration_yes']```"
   ]
  },
  {
   "cell_type": "code",
   "execution_count": 12,
   "metadata": {},
   "outputs": [
    {
     "name": "stdout",
     "output_type": "stream",
     "text": [
      "       mileage      engV       age  drive_full  drive_rear  engType_Gas  \\\n",
      "0    -0.814030  0.322518 -0.527140    1.680000   -0.418564     2.034348   \n",
      "1     0.328137 -0.446979 -0.675121   -0.595238    2.389123     2.034348   \n",
      "2    -0.085218  3.620363 -0.231179   -0.595238    2.389123    -0.491558   \n",
      "3     0.208482 -0.446979 -0.823101   -0.595238   -0.418564    -0.491558   \n",
      "4    -0.650863 -0.227122 -0.971082    1.680000   -0.418564    -0.491558   \n",
      "5     0.610960 -0.227122  0.508725   -0.595238   -0.418564    -0.491558   \n",
      "6     0.458671 -0.776763 -0.675121   -0.595238   -0.418564    -0.491558   \n",
      "7     0.034437 -0.446979 -0.823101   -0.595238    2.389123     2.034348   \n",
      "8    -0.193996 -0.007266 -0.527140   -0.595238    2.389123    -0.491558   \n",
      "9    -1.553719 -1.106548 -1.415024   -0.595238   -0.418564    -0.491558   \n",
      "10    0.513060 -0.446979 -0.675121   -0.595238    2.389123     2.034348   \n",
      "11    0.230237 -0.446979 -0.823101   -0.595238    2.389123     2.034348   \n",
      "12    0.621837 -0.666835  1.544589   -0.595238    2.389123    -0.491558   \n",
      "13    0.175848 -0.446979 -0.823101   -0.595238    2.389123     2.034348   \n",
      "14    1.600838  2.850866  0.064783   -0.595238    2.389123    -0.491558   \n",
      "15   -1.553719  0.872159 -1.415024    1.680000   -0.418564    -0.491558   \n",
      "16   -0.933685  2.411153 -0.971082   -0.595238    2.389123    -0.491558   \n",
      "17   -1.553719 -0.666835 -1.415024    1.680000   -0.418564    -0.491558   \n",
      "18   -1.531963  0.872159 -1.415024    1.680000   -0.418564    -0.491558   \n",
      "19   -1.542841 -0.227122 -1.415024    1.680000   -0.418564    -0.491558   \n",
      "20   -1.553719 -0.227122 -1.415024    1.680000   -0.418564    -0.491558   \n",
      "21    1.002560  0.872159 -0.083198    1.680000   -0.418564    -0.491558   \n",
      "22   -1.553719 -0.007266 -1.415024    1.680000   -0.418564    -0.491558   \n",
      "23   -0.792274  0.872159 -1.119063    1.680000   -0.418564    -0.491558   \n",
      "24   -1.194752 -0.227122 -1.267043    1.680000   -0.418564    -0.491558   \n",
      "25   -1.553719  0.850173 -1.415024    1.680000   -0.418564    -0.491558   \n",
      "26    0.045315 -0.227122 -0.083198   -0.595238   -0.418564    -0.491558   \n",
      "27    1.415915  0.322518  1.100647   -0.595238   -0.418564    -0.491558   \n",
      "28   -0.792274  0.212590 -0.231179   -0.595238   -0.418564    -0.491558   \n",
      "29   -0.248385 -0.227122 -0.231179   -0.595238   -0.418564    -0.491558   \n",
      "...        ...       ...       ...         ...         ...          ...   \n",
      "8536 -1.085974 -0.666835 -0.971082   -0.595238   -0.418564    -0.491558   \n",
      "8537  1.078704  0.762231  4.504202   -0.595238    2.389123    -0.491558   \n",
      "8538 -1.118608 -0.227122 -0.971082    1.680000   -0.418564    -0.491558   \n",
      "8539 -1.216508  0.322518 -1.119063    1.680000   -0.418564    -0.491558   \n",
      "8540  0.339015 -0.666835 -0.823101   -0.595238   -0.418564    -0.491558   \n",
      "8541 -0.868419  2.411153 -0.823101   -0.595238    2.389123    -0.491558   \n",
      "8542 -0.487696 -0.227122 -0.971082   -0.595238   -0.418564    -0.491558   \n",
      "8543  0.513060 -0.337051  0.804686   -0.595238   -0.418564    -0.491558   \n",
      "8544 -0.139607 -0.776763 -0.083198   -0.595238   -0.418564     2.034348   \n",
      "8545 -0.814030 -1.106548  0.064783   -0.595238   -0.418564    -0.491558   \n",
      "8546  0.632715 -0.556907  0.804686   -0.595238   -0.418564    -0.491558   \n",
      "8547 -0.618230 -0.666835 -0.823101   -0.595238   -0.418564    -0.491558   \n",
      "8548  0.382526  0.322518 -0.083198   -0.595238   -0.418564    -0.491558   \n",
      "8549  0.175848 -0.666835 -0.231179   -0.595238   -0.418564    -0.491558   \n",
      "8550 -0.596474  0.322518 -0.823101   -0.595238   -0.418564    -0.491558   \n",
      "8551  0.273748 -0.337051  0.064783   -0.595238   -0.418564    -0.491558   \n",
      "8552  1.165726  0.322518  0.212763   -0.595238    2.389123    -0.491558   \n",
      "8553  0.621837 -0.666835 -0.083198   -0.595238   -0.418564    -0.491558   \n",
      "8554 -0.639985 -1.106548 -0.083198   -0.595238   -0.418564    -0.491558   \n",
      "8555  0.360771 -0.337051  0.212763   -0.595238   -0.418564    -0.491558   \n",
      "8556  0.132337 -0.776763  0.212763   -0.595238   -0.418564    -0.491558   \n",
      "8557  0.730615  0.872159  0.064783    1.680000   -0.418564    -0.491558   \n",
      "8558  1.143971 -0.227122  1.544589   -0.595238    2.389123     2.034348   \n",
      "8559  0.132337 -0.227122 -0.675121    1.680000   -0.418564    -0.491558   \n",
      "8560 -0.302774 -0.227122 -0.083198    1.680000   -0.418564    -0.491558   \n",
      "8561 -0.030829 -0.227122 -0.675121   -0.595238   -0.418564     2.034348   \n",
      "8562  0.077948 -0.666835  3.024396   -0.595238   -0.418564    -0.491558   \n",
      "8563  0.404282  1.421800 -0.231179    1.680000   -0.418564    -0.491558   \n",
      "8564  0.077948  1.421800 -0.231179   -0.595238   -0.418564     2.034348   \n",
      "8565 -0.781396  1.531728 -0.083198    1.680000   -0.418564    -0.491558   \n",
      "\n",
      "      engType_Petrol  registration_yes  \n",
      "0          -0.955686          0.252917  \n",
      "1          -0.955686          0.252917  \n",
      "2           1.046369          0.252917  \n",
      "3          -0.955686          0.252917  \n",
      "4           1.046369          0.252917  \n",
      "5           1.046369          0.252917  \n",
      "6          -0.955686          0.252917  \n",
      "7          -0.955686          0.252917  \n",
      "8          -0.955686          0.252917  \n",
      "9           1.046369          0.252917  \n",
      "10         -0.955686          0.252917  \n",
      "11         -0.955686          0.252917  \n",
      "12          1.046369          0.252917  \n",
      "13         -0.955686          0.252917  \n",
      "14          1.046369          0.252917  \n",
      "15          1.046369          0.252917  \n",
      "16          1.046369          0.252917  \n",
      "17         -0.955686          0.252917  \n",
      "18         -0.955686          0.252917  \n",
      "19         -0.955686          0.252917  \n",
      "20         -0.955686          0.252917  \n",
      "21         -0.955686          0.252917  \n",
      "22         -0.955686          0.252917  \n",
      "23         -0.955686          0.252917  \n",
      "24         -0.955686          0.252917  \n",
      "25         -0.955686          0.252917  \n",
      "26          1.046369          0.252917  \n",
      "27         -0.955686         -3.953860  \n",
      "28          1.046369          0.252917  \n",
      "29          1.046369          0.252917  \n",
      "...              ...               ...  \n",
      "8536        1.046369          0.252917  \n",
      "8537        1.046369          0.252917  \n",
      "8538        1.046369          0.252917  \n",
      "8539        1.046369          0.252917  \n",
      "8540       -0.955686         -3.953860  \n",
      "8541        1.046369          0.252917  \n",
      "8542       -0.955686          0.252917  \n",
      "8543       -0.955686          0.252917  \n",
      "8544       -0.955686          0.252917  \n",
      "8545        1.046369          0.252917  \n",
      "8546       -0.955686         -3.953860  \n",
      "8547        1.046369          0.252917  \n",
      "8548       -0.955686          0.252917  \n",
      "8549        1.046369          0.252917  \n",
      "8550        1.046369          0.252917  \n",
      "8551       -0.955686          0.252917  \n",
      "8552       -0.955686          0.252917  \n",
      "8553        1.046369          0.252917  \n",
      "8554        1.046369          0.252917  \n",
      "8555       -0.955686          0.252917  \n",
      "8556        1.046369          0.252917  \n",
      "8557       -0.955686          0.252917  \n",
      "8558       -0.955686          0.252917  \n",
      "8559       -0.955686          0.252917  \n",
      "8560        1.046369          0.252917  \n",
      "8561       -0.955686          0.252917  \n",
      "8562        1.046369          0.252917  \n",
      "8563        1.046369          0.252917  \n",
      "8564       -0.955686          0.252917  \n",
      "8565        1.046369          0.252917  \n",
      "\n",
      "[8566 rows x 8 columns]\n"
     ]
    }
   ],
   "source": [
    "X = pd.DataFrame()\n",
    "feature_cols = ['mileage', 'engV', 'age','drive_full','drive_rear',\n",
    "               'engType_Gas', 'engType_Petrol','registration_yes']                \n",
    "def lr(cars):\n",
    "    X = cars[feature_cols]\n",
    "    return X\n",
    "X = lr(cars)\n",
    "print(X)"
   ]
  },
  {
   "cell_type": "markdown",
   "metadata": {},
   "source": [
    "### Check for the type and shape of X."
   ]
  },
  {
   "cell_type": "code",
   "execution_count": 13,
   "metadata": {},
   "outputs": [
    {
     "name": "stdout",
     "output_type": "stream",
     "text": [
      "<class 'pandas.core.frame.DataFrame'>\n",
      "(8566, 8)\n"
     ]
    }
   ],
   "source": [
    "def lr():\n",
    "    print(type(X))\n",
    "    print(X.shape)\n",
    "lr()"
   ]
  },
  {
   "cell_type": "markdown",
   "metadata": {},
   "source": [
    "### Q 9. Extract y (dependent variable) for model building.\n",
    "```['Sales_in_thousands']```"
   ]
  },
  {
   "cell_type": "code",
   "execution_count": 14,
   "metadata": {},
   "outputs": [
    {
     "name": "stdout",
     "output_type": "stream",
     "text": [
      "0    15500.0\n",
      "1    20500.0\n",
      "2    35000.0\n",
      "3    17800.0\n",
      "5    16600.0\n",
      "Name: price, dtype: float64\n"
     ]
    }
   ],
   "source": [
    "y = pd.DataFrame()\n",
    "def lr(car_dummy):\n",
    "    y = car_dummy['price']\n",
    "    return y\n",
    "y = lr(car_dummy)\n",
    "print(y.head())"
   ]
  },
  {
   "cell_type": "markdown",
   "metadata": {},
   "source": [
    "### Check for the type and shape of y. "
   ]
  },
  {
   "cell_type": "code",
   "execution_count": 15,
   "metadata": {},
   "outputs": [
    {
     "name": "stdout",
     "output_type": "stream",
     "text": [
      "<class 'pandas.core.series.Series'>\n",
      "(8566,)\n"
     ]
    }
   ],
   "source": [
    "def lr():\n",
    "    print(type(y))\n",
    "    print(y.shape)\n",
    "lr()"
   ]
  },
  {
   "cell_type": "markdown",
   "metadata": {},
   "source": [
    "<a id=section403></a>"
   ]
  },
  {
   "cell_type": "markdown",
   "metadata": {},
   "source": [
    "### Q 10. Split the value of X and y into train and test datasets."
   ]
  },
  {
   "cell_type": "code",
   "execution_count": 16,
   "metadata": {},
   "outputs": [
    {
     "name": "stderr",
     "output_type": "stream",
     "text": [
      "C:\\anaconda3\\lib\\site-packages\\sklearn\\cross_validation.py:41: DeprecationWarning: This module was deprecated in version 0.18 in favor of the model_selection module into which all the refactored classes and functions are moved. Also note that the interface of the new CV iterators are different from that of this module. This module will be removed in 0.20.\n",
      "  \"This module will be removed in 0.20.\", DeprecationWarning)\n"
     ]
    }
   ],
   "source": [
    "from sklearn.cross_validation import train_test_split\n",
    "test_size=0.30\n",
    "def lr():\n",
    "    return train_test_split(X, y, test_size=test_size, random_state=1)\n",
    "X_train, X_test, y_train, y_test = lr()"
   ]
  },
  {
   "cell_type": "markdown",
   "metadata": {},
   "source": [
    "### Check the shape of  X and y of train dataset."
   ]
  },
  {
   "cell_type": "code",
   "execution_count": 17,
   "metadata": {},
   "outputs": [
    {
     "name": "stdout",
     "output_type": "stream",
     "text": [
      "(5996, 8)\n",
      "(5996,)\n"
     ]
    }
   ],
   "source": [
    "def lr():\n",
    "    print(X_train.shape)\n",
    "    print(y_train.shape)\n",
    "lr()"
   ]
  },
  {
   "cell_type": "markdown",
   "metadata": {},
   "source": [
    "### Check the shape of X and y of test dataset."
   ]
  },
  {
   "cell_type": "code",
   "execution_count": 18,
   "metadata": {},
   "outputs": [
    {
     "name": "stdout",
     "output_type": "stream",
     "text": [
      "(2570, 8)\n",
      "(2570,)\n"
     ]
    }
   ],
   "source": [
    "def lr():\n",
    "    print(X_test.shape)\n",
    "    print(y_test.shape)\n",
    "lr()"
   ]
  },
  {
   "cell_type": "markdown",
   "metadata": {},
   "source": [
    "<a id=section404></a>"
   ]
  },
  {
   "cell_type": "markdown",
   "metadata": {},
   "source": [
    "### Q 11. Instantiate Linear regression model using scikit-learn"
   ]
  },
  {
   "cell_type": "code",
   "execution_count": 19,
   "metadata": {},
   "outputs": [],
   "source": [
    "from sklearn.linear_model import LinearRegression\n",
    "def lr():\n",
    "    linreg = LinearRegression()\n",
    "    return linreg\n",
    "linreg = lr()"
   ]
  },
  {
   "cell_type": "markdown",
   "metadata": {},
   "source": [
    "### Q12. Fit the linear model on X_train and y_train."
   ]
  },
  {
   "cell_type": "code",
   "execution_count": 20,
   "metadata": {},
   "outputs": [],
   "source": [
    "def lr():\n",
    "    model_lin = linreg.fit(X_train, y_train)\n",
    "#     print(model_lin.summary)\n",
    "lr()"
   ]
  },
  {
   "cell_type": "markdown",
   "metadata": {},
   "source": [
    "<a id=section405></a>"
   ]
  },
  {
   "cell_type": "markdown",
   "metadata": {},
   "source": [
    "### Q 13. Interpret the Model Coefficients."
   ]
  },
  {
   "cell_type": "code",
   "execution_count": 21,
   "metadata": {},
   "outputs": [
    {
     "name": "stdout",
     "output_type": "stream",
     "text": [
      "Intercept: 14243.371001983995\n",
      "Coefficients: [-4084.59588558  6090.98867019 -4270.42756662  3326.33689799\n",
      "  1401.6407404  -2570.31116088 -2177.95578181  1222.38914846]\n"
     ]
    }
   ],
   "source": [
    "def lr():\n",
    "    print('Intercept:',linreg.intercept_)                                            \n",
    "    print('Coefficients:',linreg.coef_)\n",
    "lr()"
   ]
  },
  {
   "cell_type": "markdown",
   "metadata": {},
   "source": [
    "### Q.14 Zip the features to pair the feature names with the coefficients."
   ]
  },
  {
   "cell_type": "code",
   "execution_count": 22,
   "metadata": {},
   "outputs": [
    {
     "name": "stdout",
     "output_type": "stream",
     "text": [
      "Intercept 14243.371001983995\n",
      "mileage -4084.595885578194\n",
      "engV 6090.98867018796\n",
      "age -4270.427566620551\n",
      "drive_full 3326.3368979881\n",
      "drive_rear 1401.6407404048268\n",
      "engType_Gas -2570.311160875864\n",
      "engType_Petrol -2177.955781814203\n",
      "registration_yes 1222.3891484581711\n"
     ]
    }
   ],
   "source": [
    "def lr():\n",
    "    feature_cols.insert(0,'Intercept')\n",
    "#     print(feature_cols)\n",
    "    coef = linreg.coef_.tolist()\n",
    "#     print(coef)\n",
    "    coef.insert(0, linreg.intercept_)\n",
    "    eq1 = zip(feature_cols, coef)\n",
    "    for c1,c2 in eq1:\n",
    "        print(c1,c2)\n",
    "lr()"
   ]
  },
  {
   "cell_type": "markdown",
   "metadata": {},
   "source": [
    "###  Q 15. Predict the train value using the built model."
   ]
  },
  {
   "cell_type": "code",
   "execution_count": 23,
   "metadata": {},
   "outputs": [
    {
     "data": {
      "text/html": [
       "<div>\n",
       "<style scoped>\n",
       "    .dataframe tbody tr th:only-of-type {\n",
       "        vertical-align: middle;\n",
       "    }\n",
       "\n",
       "    .dataframe tbody tr th {\n",
       "        vertical-align: top;\n",
       "    }\n",
       "\n",
       "    .dataframe thead th {\n",
       "        text-align: right;\n",
       "    }\n",
       "</style>\n",
       "<table border=\"1\" class=\"dataframe\">\n",
       "  <thead>\n",
       "    <tr style=\"text-align: right;\">\n",
       "      <th></th>\n",
       "      <th>price</th>\n",
       "    </tr>\n",
       "  </thead>\n",
       "  <tbody>\n",
       "    <tr>\n",
       "      <th>0</th>\n",
       "      <td>40719.478588</td>\n",
       "    </tr>\n",
       "    <tr>\n",
       "      <th>1</th>\n",
       "      <td>12618.551199</td>\n",
       "    </tr>\n",
       "    <tr>\n",
       "      <th>2</th>\n",
       "      <td>11938.377274</td>\n",
       "    </tr>\n",
       "    <tr>\n",
       "      <th>3</th>\n",
       "      <td>17055.139154</td>\n",
       "    </tr>\n",
       "    <tr>\n",
       "      <th>4</th>\n",
       "      <td>12087.438929</td>\n",
       "    </tr>\n",
       "  </tbody>\n",
       "</table>\n",
       "</div>"
      ],
      "text/plain": [
       "          price\n",
       "0  40719.478588\n",
       "1  12618.551199\n",
       "2  11938.377274\n",
       "3  17055.139154\n",
       "4  12087.438929"
      ]
     },
     "execution_count": 23,
     "metadata": {},
     "output_type": "execute_result"
    }
   ],
   "source": [
    "y_pred_train = linreg.predict(X_train)\n",
    "pred= pd.DataFrame(y_pred_train)\n",
    "def lr():  \n",
    "    pred.columns = ['price']\n",
    "    head = pred.head()\n",
    "    return head\n",
    "lr()"
   ]
  },
  {
   "cell_type": "markdown",
   "metadata": {},
   "source": [
    "### Q 16. Predict the test value using the built model."
   ]
  },
  {
   "cell_type": "code",
   "execution_count": 24,
   "metadata": {},
   "outputs": [
    {
     "data": {
      "text/html": [
       "<div>\n",
       "<style scoped>\n",
       "    .dataframe tbody tr th:only-of-type {\n",
       "        vertical-align: middle;\n",
       "    }\n",
       "\n",
       "    .dataframe tbody tr th {\n",
       "        vertical-align: top;\n",
       "    }\n",
       "\n",
       "    .dataframe thead th {\n",
       "        text-align: right;\n",
       "    }\n",
       "</style>\n",
       "<table border=\"1\" class=\"dataframe\">\n",
       "  <thead>\n",
       "    <tr style=\"text-align: right;\">\n",
       "      <th></th>\n",
       "      <th>price</th>\n",
       "    </tr>\n",
       "  </thead>\n",
       "  <tbody>\n",
       "    <tr>\n",
       "      <th>0</th>\n",
       "      <td>37485.380402</td>\n",
       "    </tr>\n",
       "    <tr>\n",
       "      <th>1</th>\n",
       "      <td>-2815.466743</td>\n",
       "    </tr>\n",
       "    <tr>\n",
       "      <th>2</th>\n",
       "      <td>15233.979056</td>\n",
       "    </tr>\n",
       "    <tr>\n",
       "      <th>3</th>\n",
       "      <td>31791.786055</td>\n",
       "    </tr>\n",
       "    <tr>\n",
       "      <th>4</th>\n",
       "      <td>14838.395704</td>\n",
       "    </tr>\n",
       "  </tbody>\n",
       "</table>\n",
       "</div>"
      ],
      "text/plain": [
       "          price\n",
       "0  37485.380402\n",
       "1  -2815.466743\n",
       "2  15233.979056\n",
       "3  31791.786055\n",
       "4  14838.395704"
      ]
     },
     "execution_count": 24,
     "metadata": {},
     "output_type": "execute_result"
    }
   ],
   "source": [
    "y_pred_test = linreg.predict(X_test)    \n",
    "pred_test= pd.DataFrame(y_pred_test)\n",
    "def lr():\n",
    "    pred_test.columns=['price']\n",
    "    head = pred_test.head()\n",
    "    return head\n",
    "lr()"
   ]
  },
  {
   "cell_type": "markdown",
   "metadata": {},
   "source": [
    "<a id=section406></a>"
   ]
  },
  {
   "cell_type": "markdown",
   "metadata": {},
   "source": [
    "### Q 17 Evaluate the model using Mean Absolute Error metrics for both train and test."
   ]
  },
  {
   "cell_type": "code",
   "execution_count": 25,
   "metadata": {},
   "outputs": [
    {
     "name": "stdout",
     "output_type": "stream",
     "text": [
      "MAE for training set is 6279.408621202258\n",
      "MAE for test set is 6161.36238164711\n"
     ]
    }
   ],
   "source": [
    "from sklearn import metrics\n",
    "def lr():\n",
    "    MAE_train = metrics.mean_absolute_error(y_train, y_pred_train)\n",
    "    MAE_test = metrics.mean_absolute_error(y_test, y_pred_test)\n",
    "    print('MAE for training set is {}'.format(MAE_train))\n",
    "    print('MAE for test set is {}'.format(MAE_test))\n",
    "lr()"
   ]
  },
  {
   "cell_type": "markdown",
   "metadata": {},
   "source": [
    "### Q 18 Evaluate the model using Mean Squared Error for both train and test."
   ]
  },
  {
   "cell_type": "code",
   "execution_count": 26,
   "metadata": {},
   "outputs": [
    {
     "name": "stdout",
     "output_type": "stream",
     "text": [
      "MSE for training set is 93768225.04021226\n",
      "MSE for test set is 90962028.43094401\n"
     ]
    }
   ],
   "source": [
    "def lr():\n",
    "    MSE_train = metrics.mean_squared_error(y_train, y_pred_train)\n",
    "    MSE_test = metrics.mean_squared_error(y_test, y_pred_test)\n",
    "    print('MSE for training set is {}'.format(MSE_train))\n",
    "    print('MSE for test set is {}'.format(MSE_test))\n",
    "lr()"
   ]
  },
  {
   "cell_type": "markdown",
   "metadata": {},
   "source": [
    "### Q 19 Evaluate the model using Root Mean Squared Error for both train and test."
   ]
  },
  {
   "cell_type": "code",
   "execution_count": 27,
   "metadata": {},
   "outputs": [
    {
     "name": "stdout",
     "output_type": "stream",
     "text": [
      "RMSE for training set is 9683.399456813308\n",
      "RMSE for test set is 9537.401555504728\n"
     ]
    }
   ],
   "source": [
    "import numpy as np\n",
    "def lr():\n",
    "    RMSE_train = np.sqrt( metrics.mean_squared_error(y_train, y_pred_train))\n",
    "    RMSE_test = np.sqrt(metrics.mean_squared_error(y_test, y_pred_test))\n",
    "    print('RMSE for training set is {}'.format(RMSE_train))\n",
    "    print('RMSE for test set is {}'.format(RMSE_test))\n",
    "lr()"
   ]
  },
  {
   "cell_type": "markdown",
   "metadata": {},
   "source": [
    "### Q 20. Evaluate the model using R-square value for both train and test."
   ]
  },
  {
   "cell_type": "code",
   "execution_count": 28,
   "metadata": {},
   "outputs": [
    {
     "name": "stdout",
     "output_type": "stream",
     "text": [
      "R2 for training set is 0.6024171652768908\n",
      "R2 for test set is 0.5900967435678672\n"
     ]
    }
   ],
   "source": [
    "from sklearn.metrics import r2_score\n",
    "def lr():\n",
    "    R2_train = r2_score(y_train, y_pred_train) \n",
    "    R2_test = r2_score(y_test, y_pred_test) \n",
    "    print('R2 for training set is {}'.format(R2_train))\n",
    "    print('R2 for test set is {}'.format(R2_test))\n",
    "lr()"
   ]
  },
  {
   "cell_type": "code",
   "execution_count": 29,
   "metadata": {},
   "outputs": [
    {
     "name": "stdout",
     "output_type": "stream",
     "text": [
      "Adjusted R squared score for Training Set is 0.6018859037639821\n",
      "Adjusted R squared score for Test Set is 0.5888162960663221\n"
     ]
    }
   ],
   "source": [
    "def lr():\n",
    "    p = X.shape[1]\n",
    "    n_train = y_train.size\n",
    "    n_test = y_test.size\n",
    "    R2_train = metrics.r2_score(y_true=y_train, y_pred=y_pred_train)\n",
    "    R2_test = metrics.r2_score(y_true=y_test, y_pred=y_pred_test)\n",
    "    # Calculate Adjusted r2 for train\n",
    "    AR2_train = 1-((1-R2_train)*(n_train-1)/(n_train-p-1))\n",
    "    # Calculate Adjusted r2 for test \n",
    "    AR2_test = 1-((1-R2_test)*(n_test-1)/(n_test-p-1))\n",
    "    # print r2 for train\n",
    "    print(\"Adjusted R squared score for Training Set is {0}\".format(AR2_train))\n",
    "    # print r2 for test\n",
    "    print(\"Adjusted R squared score for Test Set is {0}\".format(AR2_test))\n",
    "lr()"
   ]
  },
  {
   "cell_type": "markdown",
   "metadata": {},
   "source": [
    "### Polynomial Regrassion"
   ]
  },
  {
   "cell_type": "code",
   "execution_count": 30,
   "metadata": {},
   "outputs": [],
   "source": [
    "from sklearn.preprocessing import PolynomialFeatures"
   ]
  },
  {
   "cell_type": "code",
   "execution_count": 31,
   "metadata": {},
   "outputs": [],
   "source": [
    "poly_reg = PolynomialFeatures(degree=3)\n",
    "X_poly = poly_reg.fit_transform(X)"
   ]
  },
  {
   "cell_type": "code",
   "execution_count": 32,
   "metadata": {},
   "outputs": [
    {
     "name": "stdout",
     "output_type": "stream",
     "text": [
      "<class 'numpy.ndarray'>\n",
      "(8566, 165)\n"
     ]
    }
   ],
   "source": [
    "def lr():\n",
    "    print(type(X_poly))\n",
    "    print(X_poly.shape)\n",
    "lr()"
   ]
  },
  {
   "cell_type": "code",
   "execution_count": 33,
   "metadata": {},
   "outputs": [],
   "source": [
    "from sklearn.cross_validation import train_test_split\n",
    "def lr():\n",
    "    return train_test_split(X_poly, y, test_size=test_size, random_state=1)\n",
    "X_poly_train, X_poly_test, y_train, y_test = lr()"
   ]
  },
  {
   "cell_type": "code",
   "execution_count": 34,
   "metadata": {},
   "outputs": [],
   "source": [
    "def lr():\n",
    "    model_poly = linreg.fit(X_poly_train, y_train)\n",
    "#     print(model_poly.summary)\n",
    "lr()"
   ]
  },
  {
   "cell_type": "code",
   "execution_count": 35,
   "metadata": {},
   "outputs": [
    {
     "data": {
      "text/html": [
       "<div>\n",
       "<style scoped>\n",
       "    .dataframe tbody tr th:only-of-type {\n",
       "        vertical-align: middle;\n",
       "    }\n",
       "\n",
       "    .dataframe tbody tr th {\n",
       "        vertical-align: top;\n",
       "    }\n",
       "\n",
       "    .dataframe thead th {\n",
       "        text-align: right;\n",
       "    }\n",
       "</style>\n",
       "<table border=\"1\" class=\"dataframe\">\n",
       "  <thead>\n",
       "    <tr style=\"text-align: right;\">\n",
       "      <th></th>\n",
       "      <th>price_pred</th>\n",
       "    </tr>\n",
       "  </thead>\n",
       "  <tbody>\n",
       "    <tr>\n",
       "      <th>0</th>\n",
       "      <td>62492.09375</td>\n",
       "    </tr>\n",
       "    <tr>\n",
       "      <th>1</th>\n",
       "      <td>6800.12500</td>\n",
       "    </tr>\n",
       "    <tr>\n",
       "      <th>2</th>\n",
       "      <td>8652.90625</td>\n",
       "    </tr>\n",
       "    <tr>\n",
       "      <th>3</th>\n",
       "      <td>14612.78125</td>\n",
       "    </tr>\n",
       "    <tr>\n",
       "      <th>4</th>\n",
       "      <td>10687.90625</td>\n",
       "    </tr>\n",
       "  </tbody>\n",
       "</table>\n",
       "</div>"
      ],
      "text/plain": [
       "    price_pred\n",
       "0  62492.09375\n",
       "1   6800.12500\n",
       "2   8652.90625\n",
       "3  14612.78125\n",
       "4  10687.90625"
      ]
     },
     "execution_count": 35,
     "metadata": {},
     "output_type": "execute_result"
    }
   ],
   "source": [
    "y_poly_pred_train = linreg.predict(X_poly_train)\n",
    "pred= pd.DataFrame(y_poly_pred_train)\n",
    "def lr():  \n",
    "    pred.columns = ['price_pred']\n",
    "    head = pred.head()\n",
    "    return head\n",
    "lr()\n",
    "\n"
   ]
  },
  {
   "cell_type": "code",
   "execution_count": 36,
   "metadata": {},
   "outputs": [],
   "source": [
    "def lr():\n",
    "    model = linreg.fit(X_poly_test, y_test)  \n",
    "lr()"
   ]
  },
  {
   "cell_type": "code",
   "execution_count": 37,
   "metadata": {},
   "outputs": [
    {
     "name": "stdout",
     "output_type": "stream",
     "text": [
      "Total : 2570\n",
      "Diff less than 10% : 629\n",
      "Diff between 10-20% : 571\n",
      "Diff between 20-30% : 429\n",
      "Diff between 30-40% : 270\n",
      "Diff between 40-50% : 187\n",
      "Diff more than 50% : 484\n"
     ]
    },
    {
     "data": {
      "text/html": [
       "<div>\n",
       "<style scoped>\n",
       "    .dataframe tbody tr th:only-of-type {\n",
       "        vertical-align: middle;\n",
       "    }\n",
       "\n",
       "    .dataframe tbody tr th {\n",
       "        vertical-align: top;\n",
       "    }\n",
       "\n",
       "    .dataframe thead th {\n",
       "        text-align: right;\n",
       "    }\n",
       "</style>\n",
       "<table border=\"1\" class=\"dataframe\">\n",
       "  <thead>\n",
       "    <tr style=\"text-align: right;\">\n",
       "      <th></th>\n",
       "      <th>price_pred</th>\n",
       "      <th>price</th>\n",
       "      <th>diff_per</th>\n",
       "    </tr>\n",
       "  </thead>\n",
       "  <tbody>\n",
       "    <tr>\n",
       "      <th>0</th>\n",
       "      <td>52362.294250</td>\n",
       "      <td>45000.0</td>\n",
       "      <td>16.360654</td>\n",
       "    </tr>\n",
       "    <tr>\n",
       "      <th>1</th>\n",
       "      <td>3495.528625</td>\n",
       "      <td>1300.0</td>\n",
       "      <td>168.886817</td>\n",
       "    </tr>\n",
       "    <tr>\n",
       "      <th>2</th>\n",
       "      <td>8512.368469</td>\n",
       "      <td>10500.0</td>\n",
       "      <td>-18.929824</td>\n",
       "    </tr>\n",
       "    <tr>\n",
       "      <th>3</th>\n",
       "      <td>36989.630188</td>\n",
       "      <td>42500.0</td>\n",
       "      <td>-12.965576</td>\n",
       "    </tr>\n",
       "    <tr>\n",
       "      <th>4</th>\n",
       "      <td>9447.649719</td>\n",
       "      <td>10950.0</td>\n",
       "      <td>-13.720094</td>\n",
       "    </tr>\n",
       "    <tr>\n",
       "      <th>5</th>\n",
       "      <td>7847.798157</td>\n",
       "      <td>11115.0</td>\n",
       "      <td>-29.394529</td>\n",
       "    </tr>\n",
       "    <tr>\n",
       "      <th>6</th>\n",
       "      <td>7950.124329</td>\n",
       "      <td>11000.0</td>\n",
       "      <td>-27.726142</td>\n",
       "    </tr>\n",
       "    <tr>\n",
       "      <th>7</th>\n",
       "      <td>-4800.725281</td>\n",
       "      <td>1899.0</td>\n",
       "      <td>-352.802806</td>\n",
       "    </tr>\n",
       "    <tr>\n",
       "      <th>8</th>\n",
       "      <td>5628.341125</td>\n",
       "      <td>3900.0</td>\n",
       "      <td>44.316439</td>\n",
       "    </tr>\n",
       "    <tr>\n",
       "      <th>9</th>\n",
       "      <td>5722.372375</td>\n",
       "      <td>9025.0</td>\n",
       "      <td>-36.594212</td>\n",
       "    </tr>\n",
       "    <tr>\n",
       "      <th>10</th>\n",
       "      <td>19178.278625</td>\n",
       "      <td>30900.0</td>\n",
       "      <td>-37.934373</td>\n",
       "    </tr>\n",
       "    <tr>\n",
       "      <th>11</th>\n",
       "      <td>11014.059875</td>\n",
       "      <td>11300.0</td>\n",
       "      <td>-2.530444</td>\n",
       "    </tr>\n",
       "    <tr>\n",
       "      <th>12</th>\n",
       "      <td>11154.145813</td>\n",
       "      <td>12000.0</td>\n",
       "      <td>-7.048785</td>\n",
       "    </tr>\n",
       "    <tr>\n",
       "      <th>13</th>\n",
       "      <td>7770.598938</td>\n",
       "      <td>9500.0</td>\n",
       "      <td>-18.204222</td>\n",
       "    </tr>\n",
       "    <tr>\n",
       "      <th>14</th>\n",
       "      <td>4288.957336</td>\n",
       "      <td>1700.0</td>\n",
       "      <td>152.291608</td>\n",
       "    </tr>\n",
       "    <tr>\n",
       "      <th>15</th>\n",
       "      <td>59933.684875</td>\n",
       "      <td>56000.0</td>\n",
       "      <td>7.024437</td>\n",
       "    </tr>\n",
       "    <tr>\n",
       "      <th>16</th>\n",
       "      <td>17554.356750</td>\n",
       "      <td>21000.0</td>\n",
       "      <td>-16.407825</td>\n",
       "    </tr>\n",
       "    <tr>\n",
       "      <th>17</th>\n",
       "      <td>6849.372375</td>\n",
       "      <td>8800.0</td>\n",
       "      <td>-22.166223</td>\n",
       "    </tr>\n",
       "    <tr>\n",
       "      <th>18</th>\n",
       "      <td>62906.138000</td>\n",
       "      <td>96500.0</td>\n",
       "      <td>-34.812292</td>\n",
       "    </tr>\n",
       "    <tr>\n",
       "      <th>19</th>\n",
       "      <td>5346.604797</td>\n",
       "      <td>4500.0</td>\n",
       "      <td>18.813440</td>\n",
       "    </tr>\n",
       "    <tr>\n",
       "      <th>20</th>\n",
       "      <td>8910.831360</td>\n",
       "      <td>7000.0</td>\n",
       "      <td>27.297591</td>\n",
       "    </tr>\n",
       "    <tr>\n",
       "      <th>21</th>\n",
       "      <td>36847.888000</td>\n",
       "      <td>39999.0</td>\n",
       "      <td>-7.877977</td>\n",
       "    </tr>\n",
       "    <tr>\n",
       "      <th>22</th>\n",
       "      <td>5074.784485</td>\n",
       "      <td>3200.0</td>\n",
       "      <td>58.587015</td>\n",
       "    </tr>\n",
       "    <tr>\n",
       "      <th>23</th>\n",
       "      <td>6347.888000</td>\n",
       "      <td>4999.0</td>\n",
       "      <td>26.983157</td>\n",
       "    </tr>\n",
       "    <tr>\n",
       "      <th>24</th>\n",
       "      <td>8337.930969</td>\n",
       "      <td>12999.0</td>\n",
       "      <td>-35.857135</td>\n",
       "    </tr>\n",
       "    <tr>\n",
       "      <th>25</th>\n",
       "      <td>4331.657532</td>\n",
       "      <td>2500.0</td>\n",
       "      <td>73.266301</td>\n",
       "    </tr>\n",
       "    <tr>\n",
       "      <th>26</th>\n",
       "      <td>8976.686829</td>\n",
       "      <td>13000.0</td>\n",
       "      <td>-30.948563</td>\n",
       "    </tr>\n",
       "    <tr>\n",
       "      <th>27</th>\n",
       "      <td>5385.684875</td>\n",
       "      <td>1600.0</td>\n",
       "      <td>236.605305</td>\n",
       "    </tr>\n",
       "    <tr>\n",
       "      <th>28</th>\n",
       "      <td>12245.843079</td>\n",
       "      <td>6500.0</td>\n",
       "      <td>88.397586</td>\n",
       "    </tr>\n",
       "    <tr>\n",
       "      <th>29</th>\n",
       "      <td>7727.350891</td>\n",
       "      <td>9700.0</td>\n",
       "      <td>-20.336589</td>\n",
       "    </tr>\n",
       "  </tbody>\n",
       "</table>\n",
       "</div>"
      ],
      "text/plain": [
       "      price_pred    price    diff_per\n",
       "0   52362.294250  45000.0   16.360654\n",
       "1    3495.528625   1300.0  168.886817\n",
       "2    8512.368469  10500.0  -18.929824\n",
       "3   36989.630188  42500.0  -12.965576\n",
       "4    9447.649719  10950.0  -13.720094\n",
       "5    7847.798157  11115.0  -29.394529\n",
       "6    7950.124329  11000.0  -27.726142\n",
       "7   -4800.725281   1899.0 -352.802806\n",
       "8    5628.341125   3900.0   44.316439\n",
       "9    5722.372375   9025.0  -36.594212\n",
       "10  19178.278625  30900.0  -37.934373\n",
       "11  11014.059875  11300.0   -2.530444\n",
       "12  11154.145813  12000.0   -7.048785\n",
       "13   7770.598938   9500.0  -18.204222\n",
       "14   4288.957336   1700.0  152.291608\n",
       "15  59933.684875  56000.0    7.024437\n",
       "16  17554.356750  21000.0  -16.407825\n",
       "17   6849.372375   8800.0  -22.166223\n",
       "18  62906.138000  96500.0  -34.812292\n",
       "19   5346.604797   4500.0   18.813440\n",
       "20   8910.831360   7000.0   27.297591\n",
       "21  36847.888000  39999.0   -7.877977\n",
       "22   5074.784485   3200.0   58.587015\n",
       "23   6347.888000   4999.0   26.983157\n",
       "24   8337.930969  12999.0  -35.857135\n",
       "25   4331.657532   2500.0   73.266301\n",
       "26   8976.686829  13000.0  -30.948563\n",
       "27   5385.684875   1600.0  236.605305\n",
       "28  12245.843079   6500.0   88.397586\n",
       "29   7727.350891   9700.0  -20.336589"
      ]
     },
     "execution_count": 37,
     "metadata": {},
     "output_type": "execute_result"
    }
   ],
   "source": [
    "y_poly_pred_test = linreg.predict(X_poly_test)\n",
    "pred= pd.DataFrame(y_poly_pred_test)\n",
    "def lr():  \n",
    "    pred.columns = ['price_pred']\n",
    "    head = pred.head()\n",
    "    return head\n",
    "lr()\n",
    "# print(pred.head())\n",
    "# print(y_test.reset_index().drop(\"index\",axis=1).head())\n",
    "diff_pred = pd.concat([pred, y_test.reset_index().drop(\"index\",axis=1)],axis=1)\n",
    "diff_pred[\"diff_per\"] = (diff_pred.price_pred - diff_pred.price)*100/diff_pred.price\n",
    "print(\"Total : {0}\".format(diff_pred.shape[0]))\n",
    "print(\"Diff less than 10% : {0}\".format(diff_pred[diff_pred.diff_per.abs() < 10].shape[0]))\n",
    "print(\"Diff between 10-20% : {0}\".format(diff_pred[(diff_pred.diff_per.abs() >= 10)&(diff_pred.diff_per.abs() < 20)].shape[0]))\n",
    "print(\"Diff between 20-30% : {0}\".format(diff_pred[(diff_pred.diff_per.abs() >= 20)&(diff_pred.diff_per.abs() < 30)].shape[0]))\n",
    "print(\"Diff between 30-40% : {0}\".format(diff_pred[(diff_pred.diff_per.abs() >= 30)&(diff_pred.diff_per.abs() < 40)].shape[0]))\n",
    "print(\"Diff between 40-50% : {0}\".format(diff_pred[(diff_pred.diff_per.abs() >= 40)&(diff_pred.diff_per.abs() < 50)].shape[0]))\n",
    "print(\"Diff more than 50% : {0}\".format(diff_pred[diff_pred.diff_per.abs() >= 50].shape[0]))\n",
    "\n",
    "diff_pred.head(30)\n"
   ]
  },
  {
   "cell_type": "code",
   "execution_count": 38,
   "metadata": {},
   "outputs": [
    {
     "name": "stdout",
     "output_type": "stream",
     "text": [
      "MAE for training set is 3612.225426484323\n",
      "MAE for test set is 3353.635266864056\n"
     ]
    }
   ],
   "source": [
    "from sklearn import metrics\n",
    "def lr():\n",
    "    MAE_train = metrics.mean_absolute_error(y_train, y_poly_pred_train)\n",
    "    MAE_test = metrics.mean_absolute_error(y_test, y_poly_pred_test)\n",
    "    print('MAE for training set is {}'.format(MAE_train))\n",
    "    print('MAE for test set is {}'.format(MAE_test))\n",
    "lr()"
   ]
  },
  {
   "cell_type": "code",
   "execution_count": 39,
   "metadata": {},
   "outputs": [
    {
     "name": "stdout",
     "output_type": "stream",
     "text": [
      "MSE for training set is 37217469.266851895\n",
      "MSE for test set is 30730582.52671173\n"
     ]
    }
   ],
   "source": [
    "def lr():\n",
    "    MSE_train = metrics.mean_squared_error(y_train, y_poly_pred_train)\n",
    "    MSE_test = metrics.mean_squared_error(y_test, y_poly_pred_test)\n",
    "    print('MSE for training set is {}'.format(MSE_train))\n",
    "    print('MSE for test set is {}'.format(MSE_test))\n",
    "lr()"
   ]
  },
  {
   "cell_type": "code",
   "execution_count": 40,
   "metadata": {},
   "outputs": [
    {
     "name": "stdout",
     "output_type": "stream",
     "text": [
      "RMSE for training set is 6100.612204267035\n",
      "RMSE for test set is 5543.517162119346\n"
     ]
    }
   ],
   "source": [
    "import numpy as np\n",
    "def lr():\n",
    "    RMSE_train = np.sqrt( metrics.mean_squared_error(y_train, y_poly_pred_train))\n",
    "    RMSE_test = np.sqrt(metrics.mean_squared_error(y_test, y_poly_pred_test))\n",
    "    print('RMSE for training set is {}'.format(RMSE_train))\n",
    "    print('RMSE for test set is {}'.format(RMSE_test))\n",
    "lr()"
   ]
  },
  {
   "cell_type": "code",
   "execution_count": 41,
   "metadata": {},
   "outputs": [
    {
     "name": "stdout",
     "output_type": "stream",
     "text": [
      "R2 for training set is 0.8421957232741741\n",
      "R2 for test set is 0.8615184152438012\n"
     ]
    }
   ],
   "source": [
    "from sklearn.metrics import r2_score\n",
    "def lr():\n",
    "    R2_train = r2_score(y_train, y_poly_pred_train) \n",
    "    R2_test = r2_score(y_test, y_poly_pred_test) \n",
    "    print('R2 for training set is {}'.format(R2_train))\n",
    "    print('R2 for test set is {}'.format(R2_test))\n",
    "lr()"
   ]
  },
  {
   "cell_type": "code",
   "execution_count": 42,
   "metadata": {},
   "outputs": [
    {
     "name": "stdout",
     "output_type": "stream",
     "text": [
      "(8566, 165)\n",
      "5830\n",
      "2404\n",
      "Adjusted R squared score for Training Set is 0.8377295644989149\n",
      "Adjusted R squared score for Test Set is 0.8520136475712667\n"
     ]
    }
   ],
   "source": [
    "def lr():\n",
    "    p = X_poly.shape[1]\n",
    "    print(X_poly.shape)\n",
    "    n_train = y_train.size\n",
    "    n_test = y_test.size\n",
    "    R2_train = metrics.r2_score(y_true=y_train, y_pred=y_poly_pred_train)\n",
    "    R2_test = metrics.r2_score(y_true=y_test, y_pred=y_poly_pred_test)\n",
    "    # Calculate Adjusted r2 for train\n",
    "    print(n_train-p-1)\n",
    "    AR2_train = 1-((1-R2_train)*(n_train-1)/(n_train-p-1))\n",
    "    # Calculate Adjusted r2 for test \n",
    "    print(n_test-p-1)\n",
    "    AR2_test = 1-((1-R2_test)*(n_test-1)/(n_test-p-1))\n",
    "    # print r2 for train\n",
    "    print(\"Adjusted R squared score for Training Set is {0}\".format(AR2_train))\n",
    "    # print r2 for test\n",
    "    print(\"Adjusted R squared score for Test Set is {0}\".format(AR2_test))\n",
    "lr()"
   ]
  },
  {
   "cell_type": "code",
   "execution_count": 43,
   "metadata": {},
   "outputs": [
    {
     "data": {
      "text/plain": [
       "Text(0,0.5,'Price')"
      ]
     },
     "execution_count": 43,
     "metadata": {},
     "output_type": "execute_result"
    },
    {
     "data": {
      "image/png": "[encoded data removed]",
      "text/plain": [
       "<Figure size 432x288 with 1 Axes>"
      ]
     },
     "metadata": {},
     "output_type": "display_data"
    }
   ],
   "source": [
    "import matplotlib.pyplot as plt\n",
    "\n",
    "plt.scatter(X_train.registration_yes, y_train, color='Green')\n",
    "plt.plot(X_train.registration_yes, y_poly_pred_train, color='black')\n",
    "plt.title('Polinomial Regression')\n",
    "plt.xlabel('Position')\n",
    "plt.ylabel('Price')"
   ]
  },
  {
   "cell_type": "code",
   "execution_count": 44,
   "metadata": {},
   "outputs": [
    {
     "data": {
      "text/plain": [
       "Text(0,0.5,'Price')"
      ]
     },
     "execution_count": 44,
     "metadata": {},
     "output_type": "execute_result"
    },
    {
     "data": {
      "image/png": "[encoded data removed]",
      "text/plain": [
       "<Figure size 432x288 with 1 Axes>"
      ]
     },
     "metadata": {},
     "output_type": "display_data"
    }
   ],
   "source": [
    "plt.scatter(X_test.registration_yes, y_test, color='Green')\n",
    "plt.plot(X_test.registration_yes, y_poly_pred_test, color='black')\n",
    "plt.title('Polinomial Regression')\n",
    "plt.xlabel('Position')\n",
    "plt.ylabel('Price')"
   ]
  },
  {
   "cell_type": "code",
   "execution_count": null,
   "metadata": {},
   "outputs": [],
   "source": []
  },
  {
   "cell_type": "code",
   "execution_count": null,
   "metadata": {},
   "outputs": [],
   "source": []
  }
 ],
 "metadata": {
  "kernelspec": {
   "display_name": "Python 3",
   "language": "python",
   "name": "python3"
  },
  "language_info": {
   "codemirror_mode": {
    "name": "ipython",
    "version": 3
   },
   "file_extension": ".py",
   "mimetype": "text/x-python",
   "name": "python",
   "nbconvert_exporter": "python",
   "pygments_lexer": "ipython3",
   "version": "3.6.5"
  }
 },
 "nbformat": 4,
 "nbformat_minor": 2
}
