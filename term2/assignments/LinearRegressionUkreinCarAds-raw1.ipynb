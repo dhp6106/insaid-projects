{
 "cells": [
  {
   "cell_type": "markdown",
   "metadata": {},
   "source": [
    "<img src=\"https://github.com/insaid2018/Term-1/blob/master/Images/INSAID_Full%20Logo.png?raw=true\" width=\"240\" height=\"360\" />\n",
    "\n",
    "# ASSIGNMENT\n",
    "\n",
    "###  This is a cars dataset having 156 observation and 16 different variables. You have to create a linear regression model using the provided predictor variables for the prediction of sales value of cars.\n",
    "\n",
    "#### Note: Please run your code step by step as provided in the sheet or else you may face challenges with the code."
   ]
  },
  {
   "cell_type": "markdown",
   "metadata": {},
   "source": [
    "### Import the dataset."
   ]
  },
  {
   "cell_type": "code",
   "execution_count": 1,
   "metadata": {
    "scrolled": true
   },
   "outputs": [
    {
     "data": {
      "text/html": [
       "<div>\n",
       "<style scoped>\n",
       "    .dataframe tbody tr th:only-of-type {\n",
       "        vertical-align: middle;\n",
       "    }\n",
       "\n",
       "    .dataframe tbody tr th {\n",
       "        vertical-align: top;\n",
       "    }\n",
       "\n",
       "    .dataframe thead th {\n",
       "        text-align: right;\n",
       "    }\n",
       "</style>\n",
       "<table border=\"1\" class=\"dataframe\">\n",
       "  <thead>\n",
       "    <tr style=\"text-align: right;\">\n",
       "      <th></th>\n",
       "      <th>car</th>\n",
       "      <th>price</th>\n",
       "      <th>body</th>\n",
       "      <th>mileage</th>\n",
       "      <th>engV</th>\n",
       "      <th>engType</th>\n",
       "      <th>registration</th>\n",
       "      <th>year</th>\n",
       "      <th>model</th>\n",
       "      <th>drive</th>\n",
       "    </tr>\n",
       "  </thead>\n",
       "  <tbody>\n",
       "    <tr>\n",
       "      <th>0</th>\n",
       "      <td>Ford</td>\n",
       "      <td>15500.0</td>\n",
       "      <td>crossover</td>\n",
       "      <td>68</td>\n",
       "      <td>2.5</td>\n",
       "      <td>Gas</td>\n",
       "      <td>yes</td>\n",
       "      <td>2010</td>\n",
       "      <td>Kuga</td>\n",
       "      <td>full</td>\n",
       "    </tr>\n",
       "    <tr>\n",
       "      <th>1</th>\n",
       "      <td>Mercedes-Benz</td>\n",
       "      <td>20500.0</td>\n",
       "      <td>sedan</td>\n",
       "      <td>173</td>\n",
       "      <td>1.8</td>\n",
       "      <td>Gas</td>\n",
       "      <td>yes</td>\n",
       "      <td>2011</td>\n",
       "      <td>E-Class</td>\n",
       "      <td>rear</td>\n",
       "    </tr>\n",
       "    <tr>\n",
       "      <th>2</th>\n",
       "      <td>Mercedes-Benz</td>\n",
       "      <td>35000.0</td>\n",
       "      <td>other</td>\n",
       "      <td>135</td>\n",
       "      <td>5.5</td>\n",
       "      <td>Petrol</td>\n",
       "      <td>yes</td>\n",
       "      <td>2008</td>\n",
       "      <td>CL 550</td>\n",
       "      <td>rear</td>\n",
       "    </tr>\n",
       "    <tr>\n",
       "      <th>3</th>\n",
       "      <td>Mercedes-Benz</td>\n",
       "      <td>17800.0</td>\n",
       "      <td>van</td>\n",
       "      <td>162</td>\n",
       "      <td>1.8</td>\n",
       "      <td>Diesel</td>\n",
       "      <td>yes</td>\n",
       "      <td>2012</td>\n",
       "      <td>B 180</td>\n",
       "      <td>front</td>\n",
       "    </tr>\n",
       "    <tr>\n",
       "      <th>4</th>\n",
       "      <td>Mercedes-Benz</td>\n",
       "      <td>33000.0</td>\n",
       "      <td>vagon</td>\n",
       "      <td>91</td>\n",
       "      <td>NaN</td>\n",
       "      <td>Other</td>\n",
       "      <td>yes</td>\n",
       "      <td>2013</td>\n",
       "      <td>E-Class</td>\n",
       "      <td>NaN</td>\n",
       "    </tr>\n",
       "  </tbody>\n",
       "</table>\n",
       "</div>"
      ],
      "text/plain": [
       "             car    price       body  mileage  engV engType registration  \\\n",
       "0           Ford  15500.0  crossover       68   2.5     Gas          yes   \n",
       "1  Mercedes-Benz  20500.0      sedan      173   1.8     Gas          yes   \n",
       "2  Mercedes-Benz  35000.0      other      135   5.5  Petrol          yes   \n",
       "3  Mercedes-Benz  17800.0        van      162   1.8  Diesel          yes   \n",
       "4  Mercedes-Benz  33000.0      vagon       91   NaN   Other          yes   \n",
       "\n",
       "   year    model  drive  \n",
       "0  2010     Kuga   full  \n",
       "1  2011  E-Class   rear  \n",
       "2  2008   CL 550   rear  \n",
       "3  2012    B 180  front  \n",
       "4  2013  E-Class    NaN  "
      ]
     },
     "execution_count": 1,
     "metadata": {},
     "output_type": "execute_result"
    }
   ],
   "source": [
    "import pandas as pd\n",
    "car = pd.read_csv(\"./car_sales.csv\",encoding=\"latin_1\")\n",
    "# car.drop('Unnamed: 0',axis=1,inplace=True)\n",
    "car.head()"
   ]
  },
  {
   "cell_type": "markdown",
   "metadata": {},
   "source": [
    "### Check the shape of the dataset."
   ]
  },
  {
   "cell_type": "code",
   "execution_count": 2,
   "metadata": {},
   "outputs": [
    {
     "data": {
      "text/plain": [
       "(9576, 10)"
      ]
     },
     "execution_count": 2,
     "metadata": {},
     "output_type": "execute_result"
    }
   ],
   "source": [
    "def lr():\n",
    "    return car.shape \n",
    "lr()"
   ]
  },
  {
   "cell_type": "markdown",
   "metadata": {},
   "source": [
    "### Check the descriptive stats of the dataset."
   ]
  },
  {
   "cell_type": "code",
   "execution_count": 3,
   "metadata": {},
   "outputs": [
    {
     "data": {
      "text/html": [
       "<div>\n",
       "<style scoped>\n",
       "    .dataframe tbody tr th:only-of-type {\n",
       "        vertical-align: middle;\n",
       "    }\n",
       "\n",
       "    .dataframe tbody tr th {\n",
       "        vertical-align: top;\n",
       "    }\n",
       "\n",
       "    .dataframe thead th {\n",
       "        text-align: right;\n",
       "    }\n",
       "</style>\n",
       "<table border=\"1\" class=\"dataframe\">\n",
       "  <thead>\n",
       "    <tr style=\"text-align: right;\">\n",
       "      <th></th>\n",
       "      <th>price</th>\n",
       "      <th>mileage</th>\n",
       "      <th>engV</th>\n",
       "      <th>year</th>\n",
       "    </tr>\n",
       "  </thead>\n",
       "  <tbody>\n",
       "    <tr>\n",
       "      <th>count</th>\n",
       "      <td>9576.000000</td>\n",
       "      <td>9576.000000</td>\n",
       "      <td>9142.000000</td>\n",
       "      <td>9576.000000</td>\n",
       "    </tr>\n",
       "    <tr>\n",
       "      <th>mean</th>\n",
       "      <td>15633.317316</td>\n",
       "      <td>138.862364</td>\n",
       "      <td>2.646344</td>\n",
       "      <td>2006.605994</td>\n",
       "    </tr>\n",
       "    <tr>\n",
       "      <th>std</th>\n",
       "      <td>24106.523436</td>\n",
       "      <td>98.629754</td>\n",
       "      <td>5.927699</td>\n",
       "      <td>7.067924</td>\n",
       "    </tr>\n",
       "    <tr>\n",
       "      <th>min</th>\n",
       "      <td>0.000000</td>\n",
       "      <td>0.000000</td>\n",
       "      <td>0.100000</td>\n",
       "      <td>1953.000000</td>\n",
       "    </tr>\n",
       "    <tr>\n",
       "      <th>25%</th>\n",
       "      <td>4999.000000</td>\n",
       "      <td>70.000000</td>\n",
       "      <td>1.600000</td>\n",
       "      <td>2004.000000</td>\n",
       "    </tr>\n",
       "    <tr>\n",
       "      <th>50%</th>\n",
       "      <td>9200.000000</td>\n",
       "      <td>128.000000</td>\n",
       "      <td>2.000000</td>\n",
       "      <td>2008.000000</td>\n",
       "    </tr>\n",
       "    <tr>\n",
       "      <th>75%</th>\n",
       "      <td>16700.000000</td>\n",
       "      <td>194.000000</td>\n",
       "      <td>2.500000</td>\n",
       "      <td>2012.000000</td>\n",
       "    </tr>\n",
       "    <tr>\n",
       "      <th>max</th>\n",
       "      <td>547800.000000</td>\n",
       "      <td>999.000000</td>\n",
       "      <td>99.990000</td>\n",
       "      <td>2016.000000</td>\n",
       "    </tr>\n",
       "  </tbody>\n",
       "</table>\n",
       "</div>"
      ],
      "text/plain": [
       "               price      mileage         engV         year\n",
       "count    9576.000000  9576.000000  9142.000000  9576.000000\n",
       "mean    15633.317316   138.862364     2.646344  2006.605994\n",
       "std     24106.523436    98.629754     5.927699     7.067924\n",
       "min         0.000000     0.000000     0.100000  1953.000000\n",
       "25%      4999.000000    70.000000     1.600000  2004.000000\n",
       "50%      9200.000000   128.000000     2.000000  2008.000000\n",
       "75%     16700.000000   194.000000     2.500000  2012.000000\n",
       "max    547800.000000   999.000000    99.990000  2016.000000"
      ]
     },
     "execution_count": 3,
     "metadata": {},
     "output_type": "execute_result"
    }
   ],
   "source": [
    "def lr():\n",
    "    return car.describe()\n",
    "lr()"
   ]
  },
  {
   "cell_type": "markdown",
   "metadata": {},
   "source": [
    "### Q 1. Write a code to understand the total count and percentage of missing values."
   ]
  },
  {
   "cell_type": "code",
   "execution_count": 4,
   "metadata": {
    "scrolled": true
   },
   "outputs": [
    {
     "name": "stdout",
     "output_type": "stream",
     "text": [
      "              Total   Percent\n",
      "drive           511  0.053363\n",
      "engV            434  0.045322\n",
      "model             0  0.000000\n",
      "year              0  0.000000\n",
      "registration      0  0.000000\n",
      "engType           0  0.000000\n",
      "mileage           0  0.000000\n",
      "body              0  0.000000\n",
      "price             0  0.000000\n",
      "car               0  0.000000\n"
     ]
    }
   ],
   "source": [
    "def lr():\n",
    "    total = car.isnull().sum().sort_values(ascending=False)\n",
    "    percent = (car.isnull().sum()/car.isnull().count()).sort_values(ascending=False)\n",
    "    missing_data = pd.concat([total, percent], axis=1, keys=['Total', 'Percent'])\n",
    "    missing_data.head(20)\n",
    "    miss = print(missing_data)\n",
    "    return miss\n",
    "lr()"
   ]
  },
  {
   "cell_type": "markdown",
   "metadata": {},
   "source": [
    "### Q 2. Impute the missing value using \"median\" groupby Manufacturer. "
   ]
  },
  {
   "cell_type": "code",
   "execution_count": 5,
   "metadata": {},
   "outputs": [],
   "source": [
    "# car[\"drive\"].fillna(car.groupby([\"car\",'model','body'])[\"drive\"].transform(\"count\"))\n",
    "\n",
    "# pd.DataFrame(data=car.groupby([\"car\",'model']).drive.value_counts())\n",
    "# (pd.DataFrame(data=car.groupby([\"car\",'model']).drive.value_counts(), columns = [\"counts\"]).reset_index(inplace=True))\n",
    "# df.columns = [\"counts\"]\n",
    "# df.reset_index(inplace=True)\n",
    "# df[(df.car == 'Acura')&(df.counts == df[(df.car == 'Acura')].counts.max())].drive[0]"
   ]
  },
  {
   "cell_type": "code",
   "execution_count": 6,
   "metadata": {},
   "outputs": [
    {
     "name": "stdout",
     "output_type": "stream",
     "text": [
      "car             0\n",
      "price           0\n",
      "body            0\n",
      "mileage         0\n",
      "engV            0\n",
      "engType         0\n",
      "registration    0\n",
      "year            0\n",
      "model           0\n",
      "drive           0\n",
      "dtype: int64\n",
      "(9423, 10)\n",
      "['full' 'rear' 'front']\n",
      "Series([], Name: price, dtype: float64)\n"
     ]
    }
   ],
   "source": [
    "import numpy as np\n",
    "from sklearn.preprocessing import Imputer\n",
    "def lr():\n",
    "#     imputer = Imputer(missing_values='NaN',strategy=\"most_frequent\",axis=0)\n",
    "#     imputer.fit_transform(car)\n",
    "    car.loc[car[(car.price <= 0)].index,'price'] = np.NaN\n",
    "    car[\"price\"].fillna(car.groupby([\"car\",'model'])[\"price\"].transform(\"mean\"), inplace=True)\n",
    "    car[\"engV\"].fillna(car.groupby([\"car\",'model'])[\"engV\"].transform(\"mean\"), inplace=True)\n",
    "    car[\"drive\"].fillna(car[\"drive\"].value_counts().index[0], inplace=True)\n",
    "    car.drop_duplicates(keep=\"first\",inplace=True)\n",
    "    car.dropna(axis=0, inplace=True)\n",
    "    return\n",
    "lr()\n",
    "print(car.isnull().sum())\n",
    "print(car.shape)\n",
    "print(car.drive.unique())\n",
    "print(car[(car.price == 0)].price)"
   ]
  },
  {
   "cell_type": "markdown",
   "metadata": {},
   "source": [
    "### Q 3. Create a dummy variable for \"body\",  \"drive\" & \"engType\" and  drop the original variable."
   ]
  },
  {
   "cell_type": "code",
   "execution_count": 7,
   "metadata": {},
   "outputs": [
    {
     "name": "stdout",
     "output_type": "stream",
     "text": [
      "             car    price  mileage      engV  year    model  body_hatch  \\\n",
      "0           Ford  15500.0       68  2.500000  2010     Kuga           0   \n",
      "1  Mercedes-Benz  20500.0      173  1.800000  2011  E-Class           0   \n",
      "2  Mercedes-Benz  35000.0      135  5.500000  2008   CL 550           0   \n",
      "3  Mercedes-Benz  17800.0      162  1.800000  2012    B 180           0   \n",
      "4  Mercedes-Benz  33000.0       91  2.557887  2013  E-Class           0   \n",
      "\n",
      "   body_other  body_sedan  body_vagon  body_van  drive_full  drive_rear  \\\n",
      "0           0           0           0         0           1           0   \n",
      "1           0           1           0         0           0           1   \n",
      "2           1           0           0         0           0           1   \n",
      "3           0           0           0         1           0           0   \n",
      "4           0           0           1         0           0           0   \n",
      "\n",
      "   engType_Gas  engType_Other  engType_Petrol  registration_yes  \n",
      "0            1              0               0                 1  \n",
      "1            1              0               0                 1  \n",
      "2            0              0               1                 1  \n",
      "3            0              0               0                 1  \n",
      "4            0              1               0                 1  \n",
      "Index(['car', 'price', 'mileage', 'engV', 'year', 'model', 'body_hatch',\n",
      "       'body_other', 'body_sedan', 'body_vagon', 'body_van', 'drive_full',\n",
      "       'drive_rear', 'engType_Gas', 'engType_Other', 'engType_Petrol',\n",
      "       'registration_yes'],\n",
      "      dtype='object')\n"
     ]
    }
   ],
   "source": [
    "car_dummy =pd.DataFrame()                                             # Creating an empty data frame\n",
    "def lr(car):\n",
    "    dummies = pd.get_dummies(car, columns=['body','drive','engType','registration'], drop_first=True)\n",
    "    return dummies\n",
    "car_dummy = lr(car)\n",
    "print(car_dummy.head())\n",
    "print(car_dummy.columns)"
   ]
  },
  {
   "cell_type": "markdown",
   "metadata": {},
   "source": [
    "### Q 4. Drop the below mentioned variables which will not help in prediction of sales.\n",
    "``` ['car', 'model'] ```"
   ]
  },
  {
   "cell_type": "code",
   "execution_count": 8,
   "metadata": {},
   "outputs": [
    {
     "name": "stdout",
     "output_type": "stream",
     "text": [
      "              price  mileage      engV  year  body_hatch  body_other  \\\n",
      "0      15500.000000       68  2.500000  2010           0           0   \n",
      "1      20500.000000      173  1.800000  2011           0           0   \n",
      "2      35000.000000      135  5.500000  2008           0           1   \n",
      "3      17800.000000      162  1.800000  2012           0           0   \n",
      "4      33000.000000       91  2.557887  2013           0           0   \n",
      "5      16600.000000       83  2.000000  2013           0           0   \n",
      "6       6500.000000      199  2.000000  2003           0           0   \n",
      "7      10500.000000      185  1.500000  2011           0           0   \n",
      "8      21500.000000      146  1.800000  2012           0           0   \n",
      "9      22700.000000      125  2.200000  2010           0           0   \n",
      "10     20447.154000        0  1.200000  2016           0           0   \n",
      "11     20400.000000      190  1.800000  2011           0           0   \n",
      "12     22500.000000      164  1.800000  2012           0           0   \n",
      "13      4700.000000      200  1.714286  1996           0           0   \n",
      "14     21500.000000      159  1.800000  2012           0           0   \n",
      "15     19999.000000      290  4.800000  2006           0           0   \n",
      "16    129222.000000        2  5.000000  2016           0           0   \n",
      "17     99999.000000        0  3.000000  2016           0           0   \n",
      "19     73900.000000       57  4.400000  2013           0           0   \n",
      "20     68022.067797        0  4.400000  2016           0           0   \n",
      "21     26033.553000        0  1.600000  2016           0           0   \n",
      "22    104999.000000        2  3.000000  2016           0           0   \n",
      "23     66500.000000        1  2.000000  2016           0           0   \n",
      "24     65099.000000        0  2.000000  2016           0           0   \n",
      "25     23900.000000      235  3.000000  2007           0           0   \n",
      "26     69999.000000        0  2.200000  2016           0           0   \n",
      "27     66200.000000       70  3.000000  2014           0           0   \n",
      "28     63000.000000        0  2.000000  2015           0           0   \n",
      "29    105999.000000        0  2.980000  2016           0           0   \n",
      "30     13980.000000       31  0.555000  2013           1           0   \n",
      "...             ...      ...       ...   ...         ...         ...   \n",
      "9545    1200.000000      242  2.900000  1976           0           0   \n",
      "9546     907.725000        1  1.425000  1986           0           0   \n",
      "9547   12900.000000       40  2.000000  2013           0           0   \n",
      "9548   34600.000000       31  2.500000  2014           0           0   \n",
      "9549    9899.000000      174  1.600000  2012           0           0   \n",
      "9550   44800.000000       63  4.400000  2012           0           0   \n",
      "9551   10450.000000       98  2.000000  2013           0           0   \n",
      "9552    4500.000000      190  1.900000  2001           0           0   \n",
      "9553    2750.000000      130  1.500000  2007           0           0   \n",
      "9554    2100.000000       68  1.200000  2006           0           0   \n",
      "9555    2499.000000      201  1.700000  2001           1           0   \n",
      "9556   12700.000000       86  1.600000  2012           0           1   \n",
      "9557    9900.000000      178  2.500000  2007           0           1   \n",
      "9558    5600.000000      159  1.600000  2008           1           0   \n",
      "9559   21900.000000       88  2.500000  2012           0           0   \n",
      "9560    7900.000000      168  1.900000  2006           0           1   \n",
      "9561    5200.000000      250  2.500000  2005           0           1   \n",
      "9562    3250.000000      200  1.600000  2007           0           0   \n",
      "9563    6100.000000       84  1.200000  2007           0           0   \n",
      "9564    9300.000000      176  1.900000  2005           0           0   \n",
      "9565    8900.000000      155  1.500000  2005           1           0   \n",
      "9567   13990.000000      210  3.000000  2006           0           0   \n",
      "9568    5000.000000      248  2.000000  1996           0           0   \n",
      "9569   18000.000000      155  2.000000  2011           0           0   \n",
      "9570   14474.000000      115  2.000000  2007           0           0   \n",
      "9571   14500.000000      140  2.000000  2011           0           0   \n",
      "9572    2200.000000      150  1.600000  1986           0           0   \n",
      "9573   18500.000000      180  3.500000  2008           0           0   \n",
      "9574   16999.000000      150  3.500000  2008           0           0   \n",
      "9575   22500.000000       71  3.600000  2007           0           1   \n",
      "\n",
      "      body_sedan  body_vagon  body_van  drive_full  drive_rear  engType_Gas  \\\n",
      "0              0           0         0           1           0            1   \n",
      "1              1           0         0           0           1            1   \n",
      "2              0           0         0           0           1            0   \n",
      "3              0           0         1           0           0            0   \n",
      "4              0           1         0           0           0            0   \n",
      "5              0           0         0           1           0            0   \n",
      "6              1           0         0           0           0            0   \n",
      "7              0           1         0           0           0            0   \n",
      "8              1           0         0           0           1            1   \n",
      "9              1           0         0           0           1            0   \n",
      "10             0           0         0           0           0            0   \n",
      "11             1           0         0           0           1            1   \n",
      "12             1           0         0           0           1            1   \n",
      "13             1           0         0           0           1            0   \n",
      "14             1           0         0           0           1            1   \n",
      "15             1           0         0           0           1            0   \n",
      "16             1           0         0           1           0            0   \n",
      "17             0           0         0           1           0            0   \n",
      "19             1           0         0           0           1            0   \n",
      "20             0           0         0           1           0            0   \n",
      "21             0           0         0           1           0            0   \n",
      "22             0           0         0           1           0            0   \n",
      "23             0           0         0           1           0            0   \n",
      "24             0           0         0           1           0            0   \n",
      "25             0           0         0           1           0            0   \n",
      "26             0           0         0           1           0            0   \n",
      "27             0           0         0           1           0            0   \n",
      "28             0           0         0           1           0            0   \n",
      "29             0           0         0           1           0            0   \n",
      "30             0           0         0           0           0            0   \n",
      "...          ...         ...       ...         ...         ...          ...   \n",
      "9545           0           1         0           0           1            0   \n",
      "9546           1           0         0           0           1            0   \n",
      "9547           1           0         0           1           0            0   \n",
      "9548           0           0         0           1           0            0   \n",
      "9549           0           1         0           0           0            0   \n",
      "9550           1           0         0           0           1            0   \n",
      "9551           0           0         1           0           0            0   \n",
      "9552           0           0         1           0           0            0   \n",
      "9553           1           0         0           0           0            1   \n",
      "9554           1           0         0           0           0            0   \n",
      "9555           0           0         0           0           0            0   \n",
      "9556           0           0         0           0           0            0   \n",
      "9557           0           0         0           0           0            0   \n",
      "9558           0           0         0           0           0            0   \n",
      "9559           1           0         0           0           0            0   \n",
      "9560           0           0         0           0           0            0   \n",
      "9561           0           0         0           0           1            0   \n",
      "9562           1           0         0           0           0            0   \n",
      "9563           0           1         0           0           0            0   \n",
      "9564           0           0         1           0           0            0   \n",
      "9565           0           0         0           0           0            0   \n",
      "9567           0           0         0           1           0            0   \n",
      "9568           0           1         0           0           1            1   \n",
      "9569           0           0         0           1           0            0   \n",
      "9570           0           0         0           1           0            0   \n",
      "9571           0           0         0           0           0            1   \n",
      "9572           0           1         0           0           0            0   \n",
      "9573           0           0         0           1           0            0   \n",
      "9574           1           0         0           0           0            1   \n",
      "9575           0           0         0           1           0            0   \n",
      "\n",
      "      engType_Other  engType_Petrol  registration_yes  \n",
      "0                 0               0                 1  \n",
      "1                 0               0                 1  \n",
      "2                 0               1                 1  \n",
      "3                 0               0                 1  \n",
      "4                 1               0                 1  \n",
      "5                 0               1                 1  \n",
      "6                 0               1                 1  \n",
      "7                 0               0                 1  \n",
      "8                 0               0                 1  \n",
      "9                 0               0                 1  \n",
      "10                0               1                 1  \n",
      "11                0               0                 1  \n",
      "12                0               0                 1  \n",
      "13                0               1                 1  \n",
      "14                0               0                 1  \n",
      "15                0               1                 1  \n",
      "16                0               1                 1  \n",
      "17                0               1                 1  \n",
      "19                0               1                 1  \n",
      "20                0               0                 1  \n",
      "21                0               0                 1  \n",
      "22                0               0                 1  \n",
      "23                0               0                 1  \n",
      "24                0               0                 1  \n",
      "25                0               0                 1  \n",
      "26                0               0                 1  \n",
      "27                0               0                 1  \n",
      "28                0               0                 1  \n",
      "29                0               0                 1  \n",
      "30                1               0                 1  \n",
      "...             ...             ...               ...  \n",
      "9545              0               1                 1  \n",
      "9546              1               0                 1  \n",
      "9547              0               1                 1  \n",
      "9548              0               1                 1  \n",
      "9549              0               0                 0  \n",
      "9550              0               1                 1  \n",
      "9551              0               0                 1  \n",
      "9552              0               0                 1  \n",
      "9553              0               0                 1  \n",
      "9554              0               1                 1  \n",
      "9555              0               0                 0  \n",
      "9556              0               1                 1  \n",
      "9557              0               0                 1  \n",
      "9558              0               1                 1  \n",
      "9559              0               1                 1  \n",
      "9560              0               0                 1  \n",
      "9561              0               0                 1  \n",
      "9562              0               1                 1  \n",
      "9563              0               1                 1  \n",
      "9564              0               0                 1  \n",
      "9565              0               1                 1  \n",
      "9567              0               0                 1  \n",
      "9568              0               0                 1  \n",
      "9569              0               0                 1  \n",
      "9570              0               1                 1  \n",
      "9571              0               0                 1  \n",
      "9572              0               1                 1  \n",
      "9573              0               1                 1  \n",
      "9574              0               0                 1  \n",
      "9575              0               1                 1  \n",
      "\n",
      "[9423 rows x 15 columns]\n"
     ]
    }
   ],
   "source": [
    "def lr(car_dummy):\n",
    "    car_drop = car_dummy.drop(car_dummy[['car', 'model']], axis=1)\n",
    "    return car_drop\n",
    "car_dummy = lr(car_dummy)\n",
    "print (car_dummy)"
   ]
  },
  {
   "cell_type": "code",
   "execution_count": 9,
   "metadata": {},
   "outputs": [
    {
     "data": {
      "text/plain": [
       "<Figure size 640x480 with 1 Axes>"
      ]
     },
     "metadata": {},
     "output_type": "display_data"
    }
   ],
   "source": [
    "def lr():\n",
    "    import seaborn as sns\n",
    "    import matplotlib.pyplot as plt\n",
    "    sns.boxplot(data=car_dummy, orient=\"h\", palette=\"Set2\")\n",
    "    plt.show()\n",
    "    return None \n",
    "lr()"
   ]
  },
  {
   "cell_type": "markdown",
   "metadata": {},
   "source": [
    "### Q 5. Calculate the Inter quantile range and then drop off outliers for quantile values outside 5 to 95 range."
   ]
  },
  {
   "cell_type": "code",
   "execution_count": 10,
   "metadata": {},
   "outputs": [
    {
     "name": "stdout",
     "output_type": "stream",
     "text": [
      "              price  mileage       engV  year  body_hatch  body_other  \\\n",
      "4      33000.000000       91   2.557887  2013           0           0   \n",
      "16    129222.000000        2   5.000000  2016           0           0   \n",
      "29    105999.000000        0   2.980000  2016           0           0   \n",
      "30     13980.000000       31   0.555000  2013           1           0   \n",
      "31     17300.000000       24   0.555000  2013           1           0   \n",
      "37      2850.000000      260   3.664691  1999           0           0   \n",
      "39    200000.000000       19   3.500000  2013           0           0   \n",
      "41     13275.000000       12   0.555000  2013           1           0   \n",
      "56     17000.000000       38   0.555000  2013           1           0   \n",
      "66    195000.000000        0   4.500000  2016           0           0   \n",
      "76    114900.000000       25   4.800000  2013           0           0   \n",
      "109    12400.000000       26   0.555000  2011           1           0   \n",
      "123   107999.000000        0   2.980000  2016           0           0   \n",
      "137    93555.000000        0   3.018261  2016           0           0   \n",
      "141   107777.000000        0   3.000000  2016           0           0   \n",
      "144   109999.000000        0   2.980000  2016           0           0   \n",
      "160   109073.388889        0   3.000000  2016           0           0   \n",
      "184     4600.000000      242  99.990000  2004           0           0   \n",
      "186   114999.000000        0   2.990000  2016           0           0   \n",
      "212    10500.000000      120   2.090625  2007           0           0   \n",
      "214   125000.000000       18   3.000000  2015           0           0   \n",
      "222    13900.000000      139   2.400000  2008           0           0   \n",
      "231    17000.000000       20   0.555000  2014           1           0   \n",
      "232    39000.000000       18   1.800000  2015           0           0   \n",
      "239    14200.000000       28   0.555000  2014           0           0   \n",
      "240   159600.000000        0   0.600000  2016           0           0   \n",
      "247    17500.000000       62   0.555000  2013           1           0   \n",
      "254     1950.000000      320  19.000000  1996           0           0   \n",
      "256    14000.000000      171  99.990000  2010           0           0   \n",
      "258   110000.000000        0   3.000000  2016           0           0   \n",
      "...             ...      ...        ...   ...         ...         ...   \n",
      "8980   20500.000000      193   3.500000  2006           0           0   \n",
      "8983    1300.000000      120   2.500000  1978           0           0   \n",
      "9018    4800.000000      170   2.000000  2003           0           0   \n",
      "9055   15700.000000        0   1.600000  2012           0           1   \n",
      "9071   10500.000000       78   1.400000  2012           0           1   \n",
      "9096   14200.000000       18   0.555000  2014           0           0   \n",
      "9097   14200.000000       35   0.555000  2014           0           0   \n",
      "9099    1600.000000      570  99.990000  1986           0           1   \n",
      "9102    6950.000000      132   1.600000  2004           0           0   \n",
      "9142    3500.000000      105   1.400000  2008           1           0   \n",
      "9187    5600.000000      115   1.600000  2008           0           0   \n",
      "9200    1500.000000       40  10.000000  1988           0           1   \n",
      "9246   28950.000000       24   1.400000  2013           0           0   \n",
      "9247   24300.000000       25   0.140000  2013           1           0   \n",
      "9250   15700.000000       42   0.555000  2013           1           0   \n",
      "9251   54000.000000       49   0.100000  2013           0           0   \n",
      "9253   29700.000000       52   1.400000  2013           1           0   \n",
      "9257   29700.000000       52   1.400000  2014           1           0   \n",
      "9303    7500.000000      240  74.000000  2005           0           0   \n",
      "9307    3300.000000      150   1.300000  1998           1           0   \n",
      "9338    9000.000000      158   1.650000  2007           0           0   \n",
      "9342    8100.000000      258  99.990000  2001           0           0   \n",
      "9383    5500.000000      249   2.997959  1995           0           0   \n",
      "9393    7999.000000      112   1.600000  2008           1           0   \n",
      "9419    6800.000000      325   2.492157  2005           0           0   \n",
      "9425   14999.000000       21   0.555000  2013           1           0   \n",
      "9469    5650.000000      175  99.990000  2002           1           0   \n",
      "9508    2900.000000      185  19.000000  2001           0           0   \n",
      "9515    5000.000000      150   3.921429  2006           0           0   \n",
      "9546     907.725000        1   1.425000  1986           0           0   \n",
      "\n",
      "      body_sedan  body_vagon  body_van  drive_full  drive_rear  engType_Gas  \\\n",
      "4              0           1         0           0           0            0   \n",
      "16             1           0         0           1           0            0   \n",
      "29             0           0         0           1           0            0   \n",
      "30             0           0         0           0           0            0   \n",
      "31             0           0         0           0           0            0   \n",
      "37             1           0         0           0           0            0   \n",
      "39             0           0         1           0           1            0   \n",
      "41             0           0         0           0           0            0   \n",
      "56             0           0         0           0           0            0   \n",
      "66             0           0         0           1           0            0   \n",
      "76             0           0         0           1           0            0   \n",
      "109            0           0         0           0           0            0   \n",
      "123            0           0         0           1           0            0   \n",
      "137            0           0         0           0           0            0   \n",
      "141            0           0         0           1           0            0   \n",
      "144            0           0         0           1           0            0   \n",
      "160            0           0         0           1           0            0   \n",
      "184            0           1         0           0           0            0   \n",
      "186            0           0         0           1           0            0   \n",
      "212            0           0         0           1           0            0   \n",
      "214            1           0         0           1           0            0   \n",
      "222            1           0         0           0           0            0   \n",
      "231            0           0         0           0           0            0   \n",
      "232            1           0         0           0           0            0   \n",
      "239            1           0         0           0           0            0   \n",
      "240            1           0         0           1           0            0   \n",
      "247            0           0         0           0           0            0   \n",
      "254            1           0         0           0           0            0   \n",
      "256            0           0         0           1           0            0   \n",
      "258            0           0         0           1           0            0   \n",
      "...          ...         ...       ...         ...         ...          ...   \n",
      "8980           1           0         0           0           1            0   \n",
      "8983           1           0         0           1           0            0   \n",
      "9018           1           0         0           0           0            0   \n",
      "9055           0           0         0           0           0            0   \n",
      "9071           0           0         0           0           0            0   \n",
      "9096           1           0         0           0           0            0   \n",
      "9097           1           0         0           0           0            0   \n",
      "9099           0           0         0           0           0            1   \n",
      "9102           1           0         0           0           0            0   \n",
      "9142           0           0         0           0           0            0   \n",
      "9187           1           0         0           0           0            0   \n",
      "9200           0           0         0           0           1            1   \n",
      "9246           1           0         0           0           0            0   \n",
      "9247           0           0         0           0           0            0   \n",
      "9250           0           0         0           0           0            0   \n",
      "9251           1           0         0           0           1            0   \n",
      "9253           0           0         0           0           0            0   \n",
      "9257           0           0         0           0           0            0   \n",
      "9303           0           0         1           0           0            0   \n",
      "9307           0           0         0           0           0            0   \n",
      "9338           1           0         0           0           0            0   \n",
      "9342           1           0         0           0           0            0   \n",
      "9383           1           0         0           0           1            0   \n",
      "9393           0           0         0           0           0            0   \n",
      "9419           1           0         0           0           0            0   \n",
      "9425           0           0         0           0           0            0   \n",
      "9469           0           0         0           0           0            0   \n",
      "9508           0           1         0           0           0            0   \n",
      "9515           0           1         0           0           0            0   \n",
      "9546           1           0         0           0           1            0   \n",
      "\n",
      "      engType_Other  engType_Petrol  registration_yes  \n",
      "4                 1               0                 1  \n",
      "16                0               1                 1  \n",
      "29                0               0                 1  \n",
      "30                1               0                 1  \n",
      "31                1               0                 1  \n",
      "37                1               0                 0  \n",
      "39                0               1                 1  \n",
      "41                1               0                 1  \n",
      "56                1               0                 1  \n",
      "66                0               0                 1  \n",
      "76                0               1                 1  \n",
      "109               1               0                 1  \n",
      "123               0               0                 1  \n",
      "137               1               0                 1  \n",
      "141               0               0                 1  \n",
      "144               0               0                 1  \n",
      "160               0               0                 1  \n",
      "184               0               0                 0  \n",
      "186               0               0                 1  \n",
      "212               1               0                 1  \n",
      "214               0               0                 1  \n",
      "222               1               0                 1  \n",
      "231               1               0                 1  \n",
      "232               1               0                 1  \n",
      "239               1               0                 1  \n",
      "240               1               0                 1  \n",
      "247               1               0                 1  \n",
      "254               1               0                 0  \n",
      "256               0               1                 1  \n",
      "258               0               0                 1  \n",
      "...             ...             ...               ...  \n",
      "8980              1               0                 1  \n",
      "8983              1               0                 1  \n",
      "9018              1               0                 1  \n",
      "9055              1               0                 1  \n",
      "9071              1               0                 1  \n",
      "9096              1               0                 1  \n",
      "9097              1               0                 1  \n",
      "9099              0               0                 1  \n",
      "9102              1               0                 1  \n",
      "9142              1               0                 1  \n",
      "9187              1               0                 1  \n",
      "9200              0               0                 1  \n",
      "9246              1               0                 1  \n",
      "9247              1               0                 1  \n",
      "9250              1               0                 1  \n",
      "9251              1               0                 1  \n",
      "9253              1               0                 1  \n",
      "9257              1               0                 1  \n",
      "9303              0               0                 1  \n",
      "9307              1               0                 1  \n",
      "9338              1               0                 1  \n",
      "9342              1               0                 1  \n",
      "9383              1               0                 1  \n",
      "9393              1               0                 1  \n",
      "9419              1               0                 0  \n",
      "9425              1               0                 1  \n",
      "9469              1               0                 1  \n",
      "9508              0               0                 1  \n",
      "9515              1               0                 1  \n",
      "9546              1               0                 1  \n",
      "\n",
      "[640 rows x 15 columns]\n",
      "Index(['price', 'mileage', 'engV', 'year', 'body_hatch', 'body_other',\n",
      "       'body_sedan', 'body_vagon', 'body_van', 'drive_full', 'drive_rear',\n",
      "       'engType_Gas', 'engType_Other', 'engType_Petrol', 'registration_yes'],\n",
      "      dtype='object')\n"
     ]
    },
    {
     "data": {
      "text/html": [
       "<div>\n",
       "<style scoped>\n",
       "    .dataframe tbody tr th:only-of-type {\n",
       "        vertical-align: middle;\n",
       "    }\n",
       "\n",
       "    .dataframe tbody tr th {\n",
       "        vertical-align: top;\n",
       "    }\n",
       "\n",
       "    .dataframe thead th {\n",
       "        text-align: right;\n",
       "    }\n",
       "</style>\n",
       "<table border=\"1\" class=\"dataframe\">\n",
       "  <thead>\n",
       "    <tr style=\"text-align: right;\">\n",
       "      <th></th>\n",
       "      <th>price</th>\n",
       "      <th>mileage</th>\n",
       "      <th>engV</th>\n",
       "      <th>year</th>\n",
       "      <th>body_hatch</th>\n",
       "      <th>body_other</th>\n",
       "      <th>body_sedan</th>\n",
       "      <th>body_vagon</th>\n",
       "      <th>body_van</th>\n",
       "      <th>drive_full</th>\n",
       "      <th>drive_rear</th>\n",
       "      <th>engType_Gas</th>\n",
       "      <th>engType_Other</th>\n",
       "      <th>engType_Petrol</th>\n",
       "      <th>registration_yes</th>\n",
       "    </tr>\n",
       "  </thead>\n",
       "  <tbody>\n",
       "    <tr>\n",
       "      <th>count</th>\n",
       "      <td>8783.000000</td>\n",
       "      <td>8783.000000</td>\n",
       "      <td>8783.000000</td>\n",
       "      <td>8783.000000</td>\n",
       "      <td>8783.000000</td>\n",
       "      <td>8783.000000</td>\n",
       "      <td>8783.000000</td>\n",
       "      <td>8783.000000</td>\n",
       "      <td>8783.000000</td>\n",
       "      <td>8783.000000</td>\n",
       "      <td>8783.000000</td>\n",
       "      <td>8783.000000</td>\n",
       "      <td>8783.0</td>\n",
       "      <td>8783.000000</td>\n",
       "      <td>8783.000000</td>\n",
       "    </tr>\n",
       "    <tr>\n",
       "      <th>mean</th>\n",
       "      <td>14243.072593</td>\n",
       "      <td>141.557441</td>\n",
       "      <td>2.211372</td>\n",
       "      <td>2006.468291</td>\n",
       "      <td>0.126153</td>\n",
       "      <td>0.084481</td>\n",
       "      <td>0.384493</td>\n",
       "      <td>0.078219</td>\n",
       "      <td>0.112718</td>\n",
       "      <td>0.255038</td>\n",
       "      <td>0.144484</td>\n",
       "      <td>0.191962</td>\n",
       "      <td>0.0</td>\n",
       "      <td>0.480929</td>\n",
       "      <td>0.940909</td>\n",
       "    </tr>\n",
       "    <tr>\n",
       "      <th>std</th>\n",
       "      <td>15191.622808</td>\n",
       "      <td>92.459946</td>\n",
       "      <td>0.930200</td>\n",
       "      <td>6.799408</td>\n",
       "      <td>0.332040</td>\n",
       "      <td>0.278124</td>\n",
       "      <td>0.486503</td>\n",
       "      <td>0.268532</td>\n",
       "      <td>0.316265</td>\n",
       "      <td>0.435907</td>\n",
       "      <td>0.351599</td>\n",
       "      <td>0.393866</td>\n",
       "      <td>0.0</td>\n",
       "      <td>0.499665</td>\n",
       "      <td>0.235809</td>\n",
       "    </tr>\n",
       "    <tr>\n",
       "      <th>min</th>\n",
       "      <td>280.000000</td>\n",
       "      <td>0.000000</td>\n",
       "      <td>0.600000</td>\n",
       "      <td>1969.000000</td>\n",
       "      <td>0.000000</td>\n",
       "      <td>0.000000</td>\n",
       "      <td>0.000000</td>\n",
       "      <td>0.000000</td>\n",
       "      <td>0.000000</td>\n",
       "      <td>0.000000</td>\n",
       "      <td>0.000000</td>\n",
       "      <td>0.000000</td>\n",
       "      <td>0.0</td>\n",
       "      <td>0.000000</td>\n",
       "      <td>0.000000</td>\n",
       "    </tr>\n",
       "    <tr>\n",
       "      <th>25%</th>\n",
       "      <td>5450.000000</td>\n",
       "      <td>75.000000</td>\n",
       "      <td>1.600000</td>\n",
       "      <td>2004.000000</td>\n",
       "      <td>0.000000</td>\n",
       "      <td>0.000000</td>\n",
       "      <td>0.000000</td>\n",
       "      <td>0.000000</td>\n",
       "      <td>0.000000</td>\n",
       "      <td>0.000000</td>\n",
       "      <td>0.000000</td>\n",
       "      <td>0.000000</td>\n",
       "      <td>0.0</td>\n",
       "      <td>0.000000</td>\n",
       "      <td>1.000000</td>\n",
       "    </tr>\n",
       "    <tr>\n",
       "      <th>50%</th>\n",
       "      <td>9500.000000</td>\n",
       "      <td>130.000000</td>\n",
       "      <td>2.000000</td>\n",
       "      <td>2008.000000</td>\n",
       "      <td>0.000000</td>\n",
       "      <td>0.000000</td>\n",
       "      <td>0.000000</td>\n",
       "      <td>0.000000</td>\n",
       "      <td>0.000000</td>\n",
       "      <td>0.000000</td>\n",
       "      <td>0.000000</td>\n",
       "      <td>0.000000</td>\n",
       "      <td>0.0</td>\n",
       "      <td>0.000000</td>\n",
       "      <td>1.000000</td>\n",
       "    </tr>\n",
       "    <tr>\n",
       "      <th>75%</th>\n",
       "      <td>16600.000000</td>\n",
       "      <td>197.000000</td>\n",
       "      <td>2.500000</td>\n",
       "      <td>2011.000000</td>\n",
       "      <td>0.000000</td>\n",
       "      <td>0.000000</td>\n",
       "      <td>1.000000</td>\n",
       "      <td>0.000000</td>\n",
       "      <td>0.000000</td>\n",
       "      <td>1.000000</td>\n",
       "      <td>0.000000</td>\n",
       "      <td>0.000000</td>\n",
       "      <td>0.0</td>\n",
       "      <td>1.000000</td>\n",
       "      <td>1.000000</td>\n",
       "    </tr>\n",
       "    <tr>\n",
       "      <th>max</th>\n",
       "      <td>105000.000000</td>\n",
       "      <td>600.000000</td>\n",
       "      <td>7.200000</td>\n",
       "      <td>2016.000000</td>\n",
       "      <td>1.000000</td>\n",
       "      <td>1.000000</td>\n",
       "      <td>1.000000</td>\n",
       "      <td>1.000000</td>\n",
       "      <td>1.000000</td>\n",
       "      <td>1.000000</td>\n",
       "      <td>1.000000</td>\n",
       "      <td>1.000000</td>\n",
       "      <td>0.0</td>\n",
       "      <td>1.000000</td>\n",
       "      <td>1.000000</td>\n",
       "    </tr>\n",
       "  </tbody>\n",
       "</table>\n",
       "</div>"
      ],
      "text/plain": [
       "               price      mileage         engV         year   body_hatch  \\\n",
       "count    8783.000000  8783.000000  8783.000000  8783.000000  8783.000000   \n",
       "mean    14243.072593   141.557441     2.211372  2006.468291     0.126153   \n",
       "std     15191.622808    92.459946     0.930200     6.799408     0.332040   \n",
       "min       280.000000     0.000000     0.600000  1969.000000     0.000000   \n",
       "25%      5450.000000    75.000000     1.600000  2004.000000     0.000000   \n",
       "50%      9500.000000   130.000000     2.000000  2008.000000     0.000000   \n",
       "75%     16600.000000   197.000000     2.500000  2011.000000     0.000000   \n",
       "max    105000.000000   600.000000     7.200000  2016.000000     1.000000   \n",
       "\n",
       "        body_other   body_sedan   body_vagon     body_van   drive_full  \\\n",
       "count  8783.000000  8783.000000  8783.000000  8783.000000  8783.000000   \n",
       "mean      0.084481     0.384493     0.078219     0.112718     0.255038   \n",
       "std       0.278124     0.486503     0.268532     0.316265     0.435907   \n",
       "min       0.000000     0.000000     0.000000     0.000000     0.000000   \n",
       "25%       0.000000     0.000000     0.000000     0.000000     0.000000   \n",
       "50%       0.000000     0.000000     0.000000     0.000000     0.000000   \n",
       "75%       0.000000     1.000000     0.000000     0.000000     1.000000   \n",
       "max       1.000000     1.000000     1.000000     1.000000     1.000000   \n",
       "\n",
       "        drive_rear  engType_Gas  engType_Other  engType_Petrol  \\\n",
       "count  8783.000000  8783.000000         8783.0     8783.000000   \n",
       "mean      0.144484     0.191962            0.0        0.480929   \n",
       "std       0.351599     0.393866            0.0        0.499665   \n",
       "min       0.000000     0.000000            0.0        0.000000   \n",
       "25%       0.000000     0.000000            0.0        0.000000   \n",
       "50%       0.000000     0.000000            0.0        0.000000   \n",
       "75%       0.000000     0.000000            0.0        1.000000   \n",
       "max       1.000000     1.000000            0.0        1.000000   \n",
       "\n",
       "       registration_yes  \n",
       "count       8783.000000  \n",
       "mean           0.940909  \n",
       "std            0.235809  \n",
       "min            0.000000  \n",
       "25%            1.000000  \n",
       "50%            1.000000  \n",
       "75%            1.000000  \n",
       "max            1.000000  "
      ]
     },
     "execution_count": 10,
     "metadata": {},
     "output_type": "execute_result"
    }
   ],
   "source": [
    "def lr(car_dummy):\n",
    "    import pandas as pd\n",
    "    Q1 = car_dummy.quantile(0.05)\n",
    "    Q3 = car_dummy.quantile(0.95)\n",
    "    Q_diff = Q3 - Q1\n",
    "    car_out = car_dummy[~((car_dummy < (Q1 - Q_diff))|(car_dummy > (Q3 + Q_diff))).any(axis=1)]\n",
    "    print(car_dummy[((car_dummy < (Q1 - Q_diff))|(car_dummy > (Q3 + Q_diff))).any(axis=1)])\n",
    "    return car_out\n",
    "car_dummy = lr(car_dummy)\n",
    "# print (car_dummy)\n",
    "print (car_dummy.columns)\n",
    "\n",
    "car_dummy.describe()\n"
   ]
  },
  {
   "cell_type": "markdown",
   "metadata": {},
   "source": [
    "### Q 6. Write code to standardize the variable for model building (return value will be numpy.ndarray)."
   ]
  },
  {
   "cell_type": "code",
   "execution_count": 11,
   "metadata": {},
   "outputs": [
    {
     "name": "stdout",
     "output_type": "stream",
     "text": [
      "(8783, 14)\n",
      "   mileage  engV  year  body_hatch  body_other  body_sedan  body_vagon  \\\n",
      "0       68   2.5  2010           0           0           0           0   \n",
      "\n",
      "   body_van  drive_full  drive_rear  engType_Gas  engType_Other  \\\n",
      "0         0           1           0            1              0   \n",
      "\n",
      "   engType_Petrol  registration_yes  \n",
      "0               0                 1  \n",
      "[ 0.34008618 -0.44226559  0.66652381 -0.37995371 -0.30377143  1.26523877\n",
      " -0.29130177 -0.35642262 -0.58510734  2.43335114  2.05167524  0.\n",
      " -0.96255856  0.2506043 ]\n"
     ]
    }
   ],
   "source": [
    "std = pd.DataFrame()\n",
    "car_modify = car_dummy.drop(car_dummy[['price']], axis=1)\n",
    "def lr(car_modify):\n",
    "    from sklearn.preprocessing import StandardScaler\n",
    "    scaler = StandardScaler().fit(car_modify)\n",
    "    st = scaler.transform(car_modify)\n",
    "    return st\n",
    "std = lr(car_modify)\n",
    "print(std.shape)\n",
    "print(car_modify.head(1))\n",
    "print(std[1])"
   ]
  },
  {
   "cell_type": "markdown",
   "metadata": {},
   "source": [
    "### Q 7. Write a code to create a DataFrame from the standardized value calculated above"
   ]
  },
  {
   "cell_type": "markdown",
   "metadata": {},
   "source": [
    "### Since the standardized value is a numpy array, add the data to a dataframe with column header as mentioned below in the same order\n",
    "\n",
    "```['mileage', 'engV', 'year', 'age', 'mpy', 'body_hatch',\n",
    "       'body_other', 'body_sedan', 'body_vagon', 'body_van', 'drive_full',\n",
    "       'drive_rear', 'engType_Gas', 'engType_Other', 'engType_Petrol',\n",
    "       'registration_yes'] ```"
   ]
  },
  {
   "cell_type": "code",
   "execution_count": 12,
   "metadata": {},
   "outputs": [
    {
     "name": "stdout",
     "output_type": "stream",
     "text": [
      "    mileage      engV      year  body_hatch  body_other  body_sedan  \\\n",
      "0 -0.795605  0.310303  0.519444   -0.379954   -0.303771   -0.790365   \n",
      "1  0.340086 -0.442266  0.666524   -0.379954   -0.303771    1.265239   \n",
      "2 -0.070926  3.535598  0.225284   -0.379954    3.291949   -0.790365   \n",
      "3  0.221109 -0.442266  0.813604   -0.379954   -0.303771   -0.790365   \n",
      "4 -0.633364 -0.227246  0.960684   -0.379954   -0.303771   -0.790365   \n",
      "\n",
      "   body_vagon  body_van  drive_full  drive_rear  engType_Gas  engType_Other  \\\n",
      "0   -0.291302 -0.356423    1.709088   -0.410956     2.051675            0.0   \n",
      "1   -0.291302 -0.356423   -0.585107    2.433351     2.051675            0.0   \n",
      "2   -0.291302 -0.356423   -0.585107    2.433351    -0.487407            0.0   \n",
      "3   -0.291302  2.805658   -0.585107   -0.410956    -0.487407            0.0   \n",
      "4   -0.291302 -0.356423    1.709088   -0.410956    -0.487407            0.0   \n",
      "\n",
      "   engType_Petrol  registration_yes  \n",
      "0       -0.962559          0.250604  \n",
      "1       -0.962559          0.250604  \n",
      "2        1.038898          0.250604  \n",
      "3       -0.962559          0.250604  \n",
      "4        1.038898          0.250604  \n",
      "(8783, 14)\n"
     ]
    }
   ],
   "source": [
    "columns = ['mileage', 'engV', 'year', 'body_hatch', 'body_other',\n",
    "       'body_sedan', 'body_vagon', 'body_van', 'drive_full', 'drive_rear',\n",
    "       'engType_Gas', 'engType_Other', 'engType_Petrol', 'registration_yes']\n",
    "def lr(std):\n",
    "    cars= pd.DataFrame(std)\n",
    "    cars.columns = columns\n",
    "    return cars\n",
    "cars = lr(std)\n",
    "print(cars.head())\n",
    "print(cars.shape)"
   ]
  },
  {
   "cell_type": "markdown",
   "metadata": {},
   "source": [
    "### Q 8: Now since all variable may not be of use, please extract only the following variables for training. Preparing X (independent features) for the model building.\n",
    "\n",
    "```['mileage', 'engV', 'year', 'body_hatch', 'body_other',\n",
    "       'body_sedan', 'body_vagon', 'body_van', 'drive_full', 'drive_rear',\n",
    "       'engType_Gas', 'engType_Other', 'engType_Petrol', 'registration_yes']```"
   ]
  },
  {
   "cell_type": "code",
   "execution_count": 13,
   "metadata": {},
   "outputs": [
    {
     "name": "stdout",
     "output_type": "stream",
     "text": [
      "       mileage      engV      year  body_van  drive_full  drive_rear  \\\n",
      "0    -0.795605  0.310303  0.519444 -0.356423    1.709088   -0.410956   \n",
      "1     0.340086 -0.442266  0.666524 -0.356423   -0.585107    2.433351   \n",
      "2    -0.070926  3.535598  0.225284 -0.356423   -0.585107    2.433351   \n",
      "3     0.221109 -0.442266  0.813604  2.805658   -0.585107   -0.410956   \n",
      "4    -0.633364 -0.227246  0.960684 -0.356423    1.709088   -0.410956   \n",
      "5     0.621305 -0.227246 -0.510116 -0.356423   -0.585107   -0.410956   \n",
      "6     0.469879 -0.764795  0.666524 -0.356423   -0.585107   -0.410956   \n",
      "7     0.048051 -0.442266  0.813604 -0.356423   -0.585107    2.433351   \n",
      "8    -0.179087 -0.012226  0.519444 -0.356423   -0.585107    2.433351   \n",
      "9    -1.531101 -1.087325  1.401924 -0.356423   -0.585107   -0.410956   \n",
      "10    0.523960 -0.442266  0.666524 -0.356423   -0.585107    2.433351   \n",
      "11    0.242741 -0.442266  0.813604 -0.356423   -0.585107    2.433351   \n",
      "12    0.632121 -0.534417 -1.539676 -0.356423   -0.585107    2.433351   \n",
      "13    0.188661 -0.442266  0.813604 -0.356423   -0.585107    2.433351   \n",
      "14    1.605571  2.783029 -0.068876 -0.356423   -0.585107    2.433351   \n",
      "15   -1.531101  0.847852  1.401924 -0.356423    1.709088   -0.410956   \n",
      "16   -0.914583  2.352990  0.960684 -0.356423   -0.585107    2.433351   \n",
      "17   -1.531101  2.352990  1.401924 -0.356423    1.709088   -0.410956   \n",
      "18   -1.531101 -0.657285  1.401924 -0.356423    1.709088   -0.410956   \n",
      "19   -1.509469  0.847852  1.401924 -0.356423    1.709088   -0.410956   \n",
      "20   -1.520285 -0.227246  1.401924 -0.356423    1.709088   -0.410956   \n",
      "21   -1.531101 -0.227246  1.401924 -0.356423    1.709088   -0.410956   \n",
      "22    1.010685  0.847852  0.078204 -0.356423    1.709088   -0.410956   \n",
      "23   -1.531101 -0.012226  1.401924 -0.356423    1.709088   -0.410956   \n",
      "24   -0.773973  0.847852  1.107764 -0.356423    1.709088   -0.410956   \n",
      "25   -1.531101 -0.227246  1.254844 -0.356423    1.709088   -0.410956   \n",
      "26    0.058867 -0.227246  0.078204 -0.356423   -0.585107   -0.410956   \n",
      "27    1.421697  0.310303 -1.098436 -0.356423   -0.585107   -0.410956   \n",
      "28   -0.773973  0.202793  0.225284 -0.356423   -0.585107   -0.410956   \n",
      "29   -0.233168 -0.227246  0.225284 -0.356423   -0.585107   -0.410956   \n",
      "...        ...       ...       ...       ...         ...         ...   \n",
      "8753 -1.066008 -0.657285  0.960684 -0.356423   -0.585107   -0.410956   \n",
      "8754  1.086398  0.740343 -4.481277 -0.356423   -0.585107    2.433351   \n",
      "8755 -1.098456 -0.227246  0.960684 -0.356423    1.709088   -0.410956   \n",
      "8756 -1.195801  0.310303  1.107764 -0.356423    1.709088   -0.410956   \n",
      "8757  0.350902 -0.657285  0.813604 -0.356423   -0.585107   -0.410956   \n",
      "8758 -0.849686  2.352990  0.813604 -0.356423   -0.585107    2.433351   \n",
      "8759 -0.471122 -0.227246  0.960684  2.805658   -0.585107   -0.410956   \n",
      "8760  0.523960 -0.334756 -0.804276  2.805658   -0.585107   -0.410956   \n",
      "8761 -0.125007 -0.764795  0.078204 -0.356423   -0.585107   -0.410956   \n",
      "8762 -0.795605 -1.087325 -0.068876 -0.356423   -0.585107   -0.410956   \n",
      "8763  0.642937 -0.549775 -0.804276 -0.356423   -0.585107   -0.410956   \n",
      "8764 -0.600915 -0.657285  0.813604 -0.356423   -0.585107   -0.410956   \n",
      "8765  0.394167  0.310303  0.078204 -0.356423   -0.585107   -0.410956   \n",
      "8766  0.188661 -0.657285  0.225284 -0.356423   -0.585107   -0.410956   \n",
      "8767 -0.579283  0.310303  0.813604 -0.356423   -0.585107   -0.410956   \n",
      "8768  0.286006 -0.334756 -0.068876 -0.356423   -0.585107   -0.410956   \n",
      "8769  1.172927  0.310303 -0.215956 -0.356423   -0.585107    2.433351   \n",
      "8770  0.632121 -0.657285  0.078204 -0.356423   -0.585107   -0.410956   \n",
      "8771 -0.622548 -1.087325  0.078204 -0.356423   -0.585107   -0.410956   \n",
      "8772  0.372535 -0.334756 -0.215956  2.805658   -0.585107   -0.410956   \n",
      "8773  0.145396 -0.764795 -0.215956 -0.356423   -0.585107   -0.410956   \n",
      "8774  0.740282  0.847852 -0.068876 -0.356423    1.709088   -0.410956   \n",
      "8775  1.151294 -0.227246 -1.539676 -0.356423   -0.585107    2.433351   \n",
      "8776  0.145396 -0.227246  0.666524 -0.356423    1.709088   -0.410956   \n",
      "8777 -0.287248 -0.227246  0.078204 -0.356423    1.709088   -0.410956   \n",
      "8778 -0.016845 -0.227246  0.666524 -0.356423   -0.585107   -0.410956   \n",
      "8779  0.091316 -0.657285 -3.010476 -0.356423   -0.585107   -0.410956   \n",
      "8780  0.415799  1.385402  0.225284 -0.356423    1.709088   -0.410956   \n",
      "8781  0.091316  1.385402  0.225284 -0.356423   -0.585107   -0.410956   \n",
      "8782 -0.763157  1.492911  0.078204 -0.356423    1.709088   -0.410956   \n",
      "\n",
      "      engType_Gas  engType_Petrol  registration_yes  \n",
      "0        2.051675       -0.962559          0.250604  \n",
      "1        2.051675       -0.962559          0.250604  \n",
      "2       -0.487407        1.038898          0.250604  \n",
      "3       -0.487407       -0.962559          0.250604  \n",
      "4       -0.487407        1.038898          0.250604  \n",
      "5       -0.487407        1.038898          0.250604  \n",
      "6       -0.487407       -0.962559          0.250604  \n",
      "7        2.051675       -0.962559          0.250604  \n",
      "8       -0.487407       -0.962559          0.250604  \n",
      "9       -0.487407        1.038898          0.250604  \n",
      "10       2.051675       -0.962559          0.250604  \n",
      "11       2.051675       -0.962559          0.250604  \n",
      "12      -0.487407        1.038898          0.250604  \n",
      "13       2.051675       -0.962559          0.250604  \n",
      "14      -0.487407        1.038898          0.250604  \n",
      "15      -0.487407        1.038898          0.250604  \n",
      "16      -0.487407        1.038898          0.250604  \n",
      "17      -0.487407       -0.962559          0.250604  \n",
      "18      -0.487407       -0.962559          0.250604  \n",
      "19      -0.487407       -0.962559          0.250604  \n",
      "20      -0.487407       -0.962559          0.250604  \n",
      "21      -0.487407       -0.962559          0.250604  \n",
      "22      -0.487407       -0.962559          0.250604  \n",
      "23      -0.487407       -0.962559          0.250604  \n",
      "24      -0.487407       -0.962559          0.250604  \n",
      "25      -0.487407       -0.962559          0.250604  \n",
      "26      -0.487407        1.038898          0.250604  \n",
      "27      -0.487407       -0.962559         -3.990354  \n",
      "28      -0.487407        1.038898          0.250604  \n",
      "29      -0.487407        1.038898          0.250604  \n",
      "...           ...             ...               ...  \n",
      "8753    -0.487407        1.038898          0.250604  \n",
      "8754    -0.487407        1.038898          0.250604  \n",
      "8755    -0.487407        1.038898          0.250604  \n",
      "8756    -0.487407        1.038898          0.250604  \n",
      "8757    -0.487407       -0.962559         -3.990354  \n",
      "8758    -0.487407        1.038898          0.250604  \n",
      "8759    -0.487407       -0.962559          0.250604  \n",
      "8760    -0.487407       -0.962559          0.250604  \n",
      "8761     2.051675       -0.962559          0.250604  \n",
      "8762    -0.487407        1.038898          0.250604  \n",
      "8763    -0.487407       -0.962559         -3.990354  \n",
      "8764    -0.487407        1.038898          0.250604  \n",
      "8765    -0.487407       -0.962559          0.250604  \n",
      "8766    -0.487407        1.038898          0.250604  \n",
      "8767    -0.487407        1.038898          0.250604  \n",
      "8768    -0.487407       -0.962559          0.250604  \n",
      "8769    -0.487407       -0.962559          0.250604  \n",
      "8770    -0.487407        1.038898          0.250604  \n",
      "8771    -0.487407        1.038898          0.250604  \n",
      "8772    -0.487407       -0.962559          0.250604  \n",
      "8773    -0.487407        1.038898          0.250604  \n",
      "8774    -0.487407       -0.962559          0.250604  \n",
      "8775     2.051675       -0.962559          0.250604  \n",
      "8776    -0.487407       -0.962559          0.250604  \n",
      "8777    -0.487407        1.038898          0.250604  \n",
      "8778     2.051675       -0.962559          0.250604  \n",
      "8779    -0.487407        1.038898          0.250604  \n",
      "8780    -0.487407        1.038898          0.250604  \n",
      "8781     2.051675       -0.962559          0.250604  \n",
      "8782    -0.487407        1.038898          0.250604  \n",
      "\n",
      "[8783 rows x 9 columns]\n"
     ]
    }
   ],
   "source": [
    "X = pd.DataFrame()\n",
    "feature_cols = ['mileage', 'engV', 'year', 'body_van', 'drive_full', 'drive_rear',\n",
    "       'engType_Gas', 'engType_Petrol', 'registration_yes']                \n",
    "def lr(cars):\n",
    "    X = cars[feature_cols]\n",
    "    return X\n",
    "X = lr(cars)\n",
    "print(X)"
   ]
  },
  {
   "cell_type": "markdown",
   "metadata": {},
   "source": [
    "### Check for the type and shape of X."
   ]
  },
  {
   "cell_type": "code",
   "execution_count": 14,
   "metadata": {},
   "outputs": [
    {
     "name": "stdout",
     "output_type": "stream",
     "text": [
      "<class 'pandas.core.frame.DataFrame'>\n",
      "(8783, 9)\n"
     ]
    }
   ],
   "source": [
    "def lr():\n",
    "    print(type(X))\n",
    "    print(X.shape)\n",
    "lr()"
   ]
  },
  {
   "cell_type": "markdown",
   "metadata": {},
   "source": [
    "### Q 9. Extract y (dependent variable) for model building.\n",
    "```['price']```"
   ]
  },
  {
   "cell_type": "code",
   "execution_count": 15,
   "metadata": {},
   "outputs": [
    {
     "name": "stdout",
     "output_type": "stream",
     "text": [
      "0    15500.0\n",
      "1    20500.0\n",
      "2    35000.0\n",
      "3    17800.0\n",
      "5    16600.0\n",
      "Name: price, dtype: float64\n"
     ]
    }
   ],
   "source": [
    "y = pd.DataFrame()\n",
    "def lr(car_dummy):\n",
    "    y = car_dummy['price']\n",
    "    return y\n",
    "y = lr(car_dummy)\n",
    "print(y.head())"
   ]
  },
  {
   "cell_type": "markdown",
   "metadata": {},
   "source": [
    "### Check for the type and shape of y. "
   ]
  },
  {
   "cell_type": "code",
   "execution_count": 16,
   "metadata": {},
   "outputs": [
    {
     "name": "stdout",
     "output_type": "stream",
     "text": [
      "<class 'pandas.core.series.Series'>\n",
      "(8783,)\n"
     ]
    }
   ],
   "source": [
    "def lr():\n",
    "    print(type(y))\n",
    "    print(y.shape)\n",
    "lr()"
   ]
  },
  {
   "cell_type": "markdown",
   "metadata": {},
   "source": [
    "<a id=section403></a>"
   ]
  },
  {
   "cell_type": "markdown",
   "metadata": {},
   "source": [
    "### Q 10. Split the value of X and y into train and test datasets."
   ]
  },
  {
   "cell_type": "code",
   "execution_count": 17,
   "metadata": {},
   "outputs": [
    {
     "name": "stderr",
     "output_type": "stream",
     "text": [
      "C:\\anaconda3\\lib\\site-packages\\sklearn\\cross_validation.py:41: DeprecationWarning: This module was deprecated in version 0.18 in favor of the model_selection module into which all the refactored classes and functions are moved. Also note that the interface of the new CV iterators are different from that of this module. This module will be removed in 0.20.\n",
      "  \"This module will be removed in 0.20.\", DeprecationWarning)\n"
     ]
    }
   ],
   "source": [
    "from sklearn.cross_validation import train_test_split\n",
    "##############################\n",
    "\n",
    "test_size=0.30\n",
    "random_state = 1\n",
    "poly_degree = 3\n",
    "\n",
    "##############################\n",
    "def lr():\n",
    "    return train_test_split(X, y, test_size=test_size, random_state=random_state)\n",
    "X_train, X_test, y_train, y_test = lr()"
   ]
  },
  {
   "cell_type": "markdown",
   "metadata": {},
   "source": [
    "### Check the shape of  X and y of train dataset."
   ]
  },
  {
   "cell_type": "code",
   "execution_count": 18,
   "metadata": {},
   "outputs": [
    {
     "name": "stdout",
     "output_type": "stream",
     "text": [
      "(6148, 9)\n",
      "(6148,)\n"
     ]
    }
   ],
   "source": [
    "def lr():\n",
    "    print(X_train.shape)\n",
    "    print(y_train.shape)\n",
    "lr()"
   ]
  },
  {
   "cell_type": "markdown",
   "metadata": {},
   "source": [
    "### Check the shape of X and y of test dataset."
   ]
  },
  {
   "cell_type": "code",
   "execution_count": 19,
   "metadata": {},
   "outputs": [
    {
     "name": "stdout",
     "output_type": "stream",
     "text": [
      "(2635, 9)\n",
      "(2635,)\n"
     ]
    }
   ],
   "source": [
    "def lr():\n",
    "    print(X_test.shape)\n",
    "    print(y_test.shape)\n",
    "lr()"
   ]
  },
  {
   "cell_type": "markdown",
   "metadata": {},
   "source": [
    "<a id=section404></a>"
   ]
  },
  {
   "cell_type": "markdown",
   "metadata": {},
   "source": [
    "### Q 11. Instantiate Linear regression model using scikit-learn"
   ]
  },
  {
   "cell_type": "code",
   "execution_count": 20,
   "metadata": {},
   "outputs": [],
   "source": [
    "from sklearn.linear_model import LinearRegression\n",
    "def lr():\n",
    "    linreg = LinearRegression()\n",
    "    return linreg\n",
    "linreg = lr()"
   ]
  },
  {
   "cell_type": "markdown",
   "metadata": {},
   "source": [
    "### Q12. Fit the linear model on X_train and y_train."
   ]
  },
  {
   "cell_type": "code",
   "execution_count": 21,
   "metadata": {},
   "outputs": [],
   "source": [
    "def lr():\n",
    "    model_lin = linreg.fit(X_train, y_train)\n",
    "#     print(model_lin.summary)\n",
    "lr()"
   ]
  },
  {
   "cell_type": "markdown",
   "metadata": {},
   "source": [
    "<a id=section405></a>"
   ]
  },
  {
   "cell_type": "markdown",
   "metadata": {},
   "source": [
    "### Q 13. Interpret the Model Coefficients."
   ]
  },
  {
   "cell_type": "code",
   "execution_count": 22,
   "metadata": {},
   "outputs": [
    {
     "name": "stdout",
     "output_type": "stream",
     "text": [
      "Intercept: 14379.224792429915\n",
      "Coefficients: [-3873.63109586  6091.55706451  4396.31589972  -851.15890158\n",
      "  3243.57052802  1260.06135233 -2934.10093331 -2552.87310484\n",
      "  1316.06550935]\n"
     ]
    }
   ],
   "source": [
    "def lr():\n",
    "    print('Intercept:',linreg.intercept_)                                            \n",
    "    print('Coefficients:',linreg.coef_)\n",
    "lr()"
   ]
  },
  {
   "cell_type": "markdown",
   "metadata": {},
   "source": [
    "### Q.14 Zip the features to pair the feature names with the coefficients."
   ]
  },
  {
   "cell_type": "code",
   "execution_count": 23,
   "metadata": {},
   "outputs": [
    {
     "name": "stdout",
     "output_type": "stream",
     "text": [
      "Intercept 14379.224792429915\n",
      "mileage -3873.6310958568624\n",
      "engV 6091.557064511045\n",
      "year 4396.31589971602\n",
      "body_van -851.1589015802435\n",
      "drive_full 3243.5705280190964\n",
      "drive_rear 1260.0613523331187\n",
      "engType_Gas -2934.1009333082898\n",
      "engType_Petrol -2552.8731048416294\n",
      "registration_yes 1316.0655093482776\n"
     ]
    }
   ],
   "source": [
    "def lr():\n",
    "    feature_cols.insert(0,'Intercept')\n",
    "#     print(feature_cols)\n",
    "    coef = linreg.coef_.tolist()\n",
    "#     print(coef)\n",
    "    coef.insert(0, linreg.intercept_)\n",
    "    eq1 = zip(feature_cols, coef)\n",
    "    for c1,c2 in eq1:\n",
    "        print(c1,c2)\n",
    "lr()"
   ]
  },
  {
   "cell_type": "markdown",
   "metadata": {},
   "source": [
    "###  Q 15. Predict the train value using the built model."
   ]
  },
  {
   "cell_type": "code",
   "execution_count": 24,
   "metadata": {},
   "outputs": [
    {
     "data": {
      "text/html": [
       "<div>\n",
       "<style scoped>\n",
       "    .dataframe tbody tr th:only-of-type {\n",
       "        vertical-align: middle;\n",
       "    }\n",
       "\n",
       "    .dataframe tbody tr th {\n",
       "        vertical-align: top;\n",
       "    }\n",
       "\n",
       "    .dataframe thead th {\n",
       "        text-align: right;\n",
       "    }\n",
       "</style>\n",
       "<table border=\"1\" class=\"dataframe\">\n",
       "  <thead>\n",
       "    <tr style=\"text-align: right;\">\n",
       "      <th></th>\n",
       "      <th>price</th>\n",
       "    </tr>\n",
       "  </thead>\n",
       "  <tbody>\n",
       "    <tr>\n",
       "      <th>0</th>\n",
       "      <td>2176.769378</td>\n",
       "    </tr>\n",
       "    <tr>\n",
       "      <th>1</th>\n",
       "      <td>6322.838724</td>\n",
       "    </tr>\n",
       "    <tr>\n",
       "      <th>2</th>\n",
       "      <td>24904.712868</td>\n",
       "    </tr>\n",
       "    <tr>\n",
       "      <th>3</th>\n",
       "      <td>36616.194639</td>\n",
       "    </tr>\n",
       "    <tr>\n",
       "      <th>4</th>\n",
       "      <td>14387.169569</td>\n",
       "    </tr>\n",
       "  </tbody>\n",
       "</table>\n",
       "</div>"
      ],
      "text/plain": [
       "          price\n",
       "0   2176.769378\n",
       "1   6322.838724\n",
       "2  24904.712868\n",
       "3  36616.194639\n",
       "4  14387.169569"
      ]
     },
     "execution_count": 24,
     "metadata": {},
     "output_type": "execute_result"
    }
   ],
   "source": [
    "y_pred_train = linreg.predict(X_train)\n",
    "pred= pd.DataFrame(y_pred_train)\n",
    "def lr():  \n",
    "    pred.columns = ['price']\n",
    "    head = pred.head()\n",
    "    return head\n",
    "lr()"
   ]
  },
  {
   "cell_type": "markdown",
   "metadata": {},
   "source": [
    "### Q 16. Predict the test value using the built model."
   ]
  },
  {
   "cell_type": "code",
   "execution_count": 25,
   "metadata": {},
   "outputs": [
    {
     "data": {
      "text/html": [
       "<div>\n",
       "<style scoped>\n",
       "    .dataframe tbody tr th:only-of-type {\n",
       "        vertical-align: middle;\n",
       "    }\n",
       "\n",
       "    .dataframe tbody tr th {\n",
       "        vertical-align: top;\n",
       "    }\n",
       "\n",
       "    .dataframe thead th {\n",
       "        text-align: right;\n",
       "    }\n",
       "</style>\n",
       "<table border=\"1\" class=\"dataframe\">\n",
       "  <thead>\n",
       "    <tr style=\"text-align: right;\">\n",
       "      <th></th>\n",
       "      <th>price</th>\n",
       "    </tr>\n",
       "  </thead>\n",
       "  <tbody>\n",
       "    <tr>\n",
       "      <th>0</th>\n",
       "      <td>24593.283633</td>\n",
       "    </tr>\n",
       "    <tr>\n",
       "      <th>1</th>\n",
       "      <td>21617.904627</td>\n",
       "    </tr>\n",
       "    <tr>\n",
       "      <th>2</th>\n",
       "      <td>12600.080843</td>\n",
       "    </tr>\n",
       "    <tr>\n",
       "      <th>3</th>\n",
       "      <td>3669.695130</td>\n",
       "    </tr>\n",
       "    <tr>\n",
       "      <th>4</th>\n",
       "      <td>5080.245203</td>\n",
       "    </tr>\n",
       "  </tbody>\n",
       "</table>\n",
       "</div>"
      ],
      "text/plain": [
       "          price\n",
       "0  24593.283633\n",
       "1  21617.904627\n",
       "2  12600.080843\n",
       "3   3669.695130\n",
       "4   5080.245203"
      ]
     },
     "execution_count": 25,
     "metadata": {},
     "output_type": "execute_result"
    }
   ],
   "source": [
    "y_pred_test = linreg.predict(X_test)    \n",
    "pred_test= pd.DataFrame(y_pred_test)\n",
    "def lr():\n",
    "    pred_test.columns=['price']\n",
    "    head = pred_test.head()\n",
    "    return head\n",
    "lr()"
   ]
  },
  {
   "cell_type": "markdown",
   "metadata": {},
   "source": [
    "<a id=section406></a>"
   ]
  },
  {
   "cell_type": "markdown",
   "metadata": {},
   "source": [
    "### Q 17 Evaluate the model using Mean Absolute Error metrics for both train and test."
   ]
  },
  {
   "cell_type": "code",
   "execution_count": 26,
   "metadata": {},
   "outputs": [
    {
     "name": "stdout",
     "output_type": "stream",
     "text": [
      "MAE for training set is 6269.856423225731\n",
      "MAE for test set is 6238.519039586535\n"
     ]
    }
   ],
   "source": [
    "from sklearn import metrics\n",
    "def lr():\n",
    "    MAE_train = metrics.mean_absolute_error(y_train, y_pred_train)\n",
    "    MAE_test = metrics.mean_absolute_error(y_test, y_pred_test)\n",
    "    print('MAE for training set is {}'.format(MAE_train))\n",
    "    print('MAE for test set is {}'.format(MAE_test))\n",
    "lr()"
   ]
  },
  {
   "cell_type": "markdown",
   "metadata": {},
   "source": [
    "### Q 18 Evaluate the model using Mean Squared Error for both train and test."
   ]
  },
  {
   "cell_type": "code",
   "execution_count": 27,
   "metadata": {},
   "outputs": [
    {
     "name": "stdout",
     "output_type": "stream",
     "text": [
      "MSE for training set is 94143717.42278874\n",
      "MSE for test set is 87233651.78341211\n"
     ]
    }
   ],
   "source": [
    "def lr():\n",
    "    MSE_train = metrics.mean_squared_error(y_train, y_pred_train)\n",
    "    MSE_test = metrics.mean_squared_error(y_test, y_pred_test)\n",
    "    print('MSE for training set is {}'.format(MSE_train))\n",
    "    print('MSE for test set is {}'.format(MSE_test))\n",
    "lr()"
   ]
  },
  {
   "cell_type": "markdown",
   "metadata": {},
   "source": [
    "### Q 19 Evaluate the model using Root Mean Squared Error for both train and test."
   ]
  },
  {
   "cell_type": "code",
   "execution_count": 28,
   "metadata": {},
   "outputs": [
    {
     "name": "stdout",
     "output_type": "stream",
     "text": [
      "RMSE for training set is 9702.768544224311\n",
      "RMSE for test set is 9339.89570516781\n"
     ]
    }
   ],
   "source": [
    "import numpy as np\n",
    "def lr():\n",
    "    RMSE_train = np.sqrt( metrics.mean_squared_error(y_train, y_pred_train))\n",
    "    RMSE_test = np.sqrt(metrics.mean_squared_error(y_test, y_pred_test))\n",
    "    print('RMSE for training set is {}'.format(RMSE_train))\n",
    "    print('RMSE for test set is {}'.format(RMSE_test))\n",
    "lr()"
   ]
  },
  {
   "cell_type": "markdown",
   "metadata": {},
   "source": [
    "### Q 20. Evaluate the model using R-square value for both train and test."
   ]
  },
  {
   "cell_type": "code",
   "execution_count": 29,
   "metadata": {},
   "outputs": [
    {
     "name": "stdout",
     "output_type": "stream",
     "text": [
      "R2 for training set is 0.6052198894893046\n",
      "R2 for test set is 0.5892821683518032\n"
     ]
    }
   ],
   "source": [
    "from sklearn.metrics import r2_score\n",
    "def lr():\n",
    "    R2_train = r2_score(y_train, y_pred_train) \n",
    "    R2_test = r2_score(y_test, y_pred_test) \n",
    "    print('R2 for training set is {}'.format(R2_train))\n",
    "    print('R2 for test set is {}'.format(R2_test))\n",
    "lr()"
   ]
  },
  {
   "cell_type": "code",
   "execution_count": 30,
   "metadata": {},
   "outputs": [
    {
     "name": "stdout",
     "output_type": "stream",
     "text": [
      "Adjusted R squared score for Training Set is 0.6046410330222801\n",
      "Adjusted R squared score for Test Set is 0.5878739929290094\n"
     ]
    }
   ],
   "source": [
    "def lr():\n",
    "    p = X.shape[1]\n",
    "    n_train = y_train.size\n",
    "    n_test = y_test.size\n",
    "    R2_train = metrics.r2_score(y_true=y_train, y_pred=y_pred_train)\n",
    "    R2_test = metrics.r2_score(y_true=y_test, y_pred=y_pred_test)\n",
    "    # Calculate Adjusted r2 for train\n",
    "    AR2_train = 1-((1-R2_train)*(n_train-1)/(n_train-p-1))\n",
    "    # Calculate Adjusted r2 for test \n",
    "    AR2_test = 1-((1-R2_test)*(n_test-1)/(n_test-p-1))\n",
    "    # print r2 for train\n",
    "    print(\"Adjusted R squared score for Training Set is {0}\".format(AR2_train))\n",
    "    # print r2 for test\n",
    "    print(\"Adjusted R squared score for Test Set is {0}\".format(AR2_test))\n",
    "lr()"
   ]
  },
  {
   "cell_type": "markdown",
   "metadata": {},
   "source": [
    "### Polynomial Regrassion"
   ]
  },
  {
   "cell_type": "code",
   "execution_count": 31,
   "metadata": {},
   "outputs": [],
   "source": [
    "from sklearn.preprocessing import PolynomialFeatures"
   ]
  },
  {
   "cell_type": "code",
   "execution_count": 32,
   "metadata": {},
   "outputs": [],
   "source": [
    "poly_reg = PolynomialFeatures(degree=poly_degree)\n",
    "X_poly = poly_reg.fit_transform(X)"
   ]
  },
  {
   "cell_type": "code",
   "execution_count": 33,
   "metadata": {},
   "outputs": [
    {
     "name": "stdout",
     "output_type": "stream",
     "text": [
      "<class 'numpy.ndarray'>\n",
      "(8783, 220)\n"
     ]
    }
   ],
   "source": [
    "def lr():\n",
    "    print(type(X_poly))\n",
    "    print(X_poly.shape)\n",
    "lr()"
   ]
  },
  {
   "cell_type": "code",
   "execution_count": 34,
   "metadata": {},
   "outputs": [],
   "source": [
    "from sklearn.cross_validation import train_test_split\n",
    "def lr():\n",
    "    return train_test_split(X_poly, y, test_size=test_size, random_state=random_state)\n",
    "X_poly_train, X_poly_test, y_train, y_test = lr()"
   ]
  },
  {
   "cell_type": "code",
   "execution_count": 35,
   "metadata": {},
   "outputs": [],
   "source": [
    "def lr():\n",
    "    model_poly = linreg.fit(X_poly_train, y_train)\n",
    "#     print(model_poly.summary)\n",
    "lr()"
   ]
  },
  {
   "cell_type": "code",
   "execution_count": 36,
   "metadata": {},
   "outputs": [
    {
     "data": {
      "text/html": [
       "<div>\n",
       "<style scoped>\n",
       "    .dataframe tbody tr th:only-of-type {\n",
       "        vertical-align: middle;\n",
       "    }\n",
       "\n",
       "    .dataframe tbody tr th {\n",
       "        vertical-align: top;\n",
       "    }\n",
       "\n",
       "    .dataframe thead th {\n",
       "        text-align: right;\n",
       "    }\n",
       "</style>\n",
       "<table border=\"1\" class=\"dataframe\">\n",
       "  <thead>\n",
       "    <tr style=\"text-align: right;\">\n",
       "      <th></th>\n",
       "      <th>price_pred</th>\n",
       "    </tr>\n",
       "  </thead>\n",
       "  <tbody>\n",
       "    <tr>\n",
       "      <th>0</th>\n",
       "      <td>5729.543945</td>\n",
       "    </tr>\n",
       "    <tr>\n",
       "      <th>1</th>\n",
       "      <td>6387.934570</td>\n",
       "    </tr>\n",
       "    <tr>\n",
       "      <th>2</th>\n",
       "      <td>23353.262695</td>\n",
       "    </tr>\n",
       "    <tr>\n",
       "      <th>3</th>\n",
       "      <td>82230.293945</td>\n",
       "    </tr>\n",
       "    <tr>\n",
       "      <th>4</th>\n",
       "      <td>10125.403320</td>\n",
       "    </tr>\n",
       "  </tbody>\n",
       "</table>\n",
       "</div>"
      ],
      "text/plain": [
       "     price_pred\n",
       "0   5729.543945\n",
       "1   6387.934570\n",
       "2  23353.262695\n",
       "3  82230.293945\n",
       "4  10125.403320"
      ]
     },
     "execution_count": 36,
     "metadata": {},
     "output_type": "execute_result"
    }
   ],
   "source": [
    "y_poly_pred_train = linreg.predict(X_poly_train)\n",
    "pred= pd.DataFrame(y_poly_pred_train)\n",
    "def lr():  \n",
    "    pred.columns = ['price_pred']\n",
    "    head = pred.head()\n",
    "    return head\n",
    "lr()\n",
    "\n"
   ]
  },
  {
   "cell_type": "code",
   "execution_count": 37,
   "metadata": {},
   "outputs": [],
   "source": [
    "def lr():\n",
    "    model = linreg.fit(X_poly_test, y_test)  \n",
    "lr()"
   ]
  },
  {
   "cell_type": "code",
   "execution_count": 38,
   "metadata": {},
   "outputs": [
    {
     "name": "stdout",
     "output_type": "stream",
     "text": [
      "Total : 2635\n",
      "Diff less than 10% : 652\n",
      "Diff between 10-20% : 571\n",
      "Diff between 20-30% : 463\n",
      "Diff between 30-40% : 268\n",
      "Diff between 40-50% : 178\n",
      "Diff more than 50% : 503\n"
     ]
    },
    {
     "data": {
      "text/html": [
       "<div>\n",
       "<style scoped>\n",
       "    .dataframe tbody tr th:only-of-type {\n",
       "        vertical-align: middle;\n",
       "    }\n",
       "\n",
       "    .dataframe tbody tr th {\n",
       "        vertical-align: top;\n",
       "    }\n",
       "\n",
       "    .dataframe thead th {\n",
       "        text-align: right;\n",
       "    }\n",
       "</style>\n",
       "<table border=\"1\" class=\"dataframe\">\n",
       "  <thead>\n",
       "    <tr style=\"text-align: right;\">\n",
       "      <th></th>\n",
       "      <th>price_pred</th>\n",
       "      <th>price</th>\n",
       "      <th>diff_per</th>\n",
       "    </tr>\n",
       "  </thead>\n",
       "  <tbody>\n",
       "    <tr>\n",
       "      <th>0</th>\n",
       "      <td>21639.25</td>\n",
       "      <td>21000.000000</td>\n",
       "      <td>3.044048</td>\n",
       "    </tr>\n",
       "    <tr>\n",
       "      <th>1</th>\n",
       "      <td>21663.75</td>\n",
       "      <td>12900.000000</td>\n",
       "      <td>67.936047</td>\n",
       "    </tr>\n",
       "    <tr>\n",
       "      <th>2</th>\n",
       "      <td>10366.00</td>\n",
       "      <td>12500.000000</td>\n",
       "      <td>-17.072000</td>\n",
       "    </tr>\n",
       "    <tr>\n",
       "      <th>3</th>\n",
       "      <td>7424.25</td>\n",
       "      <td>7000.000000</td>\n",
       "      <td>6.060714</td>\n",
       "    </tr>\n",
       "    <tr>\n",
       "      <th>4</th>\n",
       "      <td>6557.75</td>\n",
       "      <td>6000.000000</td>\n",
       "      <td>9.295833</td>\n",
       "    </tr>\n",
       "    <tr>\n",
       "      <th>5</th>\n",
       "      <td>3260.75</td>\n",
       "      <td>2900.000000</td>\n",
       "      <td>12.439655</td>\n",
       "    </tr>\n",
       "    <tr>\n",
       "      <th>6</th>\n",
       "      <td>14596.75</td>\n",
       "      <td>11000.000000</td>\n",
       "      <td>32.697727</td>\n",
       "    </tr>\n",
       "    <tr>\n",
       "      <th>7</th>\n",
       "      <td>18609.50</td>\n",
       "      <td>50000.000000</td>\n",
       "      <td>-62.781000</td>\n",
       "    </tr>\n",
       "    <tr>\n",
       "      <th>8</th>\n",
       "      <td>802.75</td>\n",
       "      <td>3667.950000</td>\n",
       "      <td>-78.114478</td>\n",
       "    </tr>\n",
       "    <tr>\n",
       "      <th>9</th>\n",
       "      <td>6100.25</td>\n",
       "      <td>4900.000000</td>\n",
       "      <td>24.494898</td>\n",
       "    </tr>\n",
       "    <tr>\n",
       "      <th>10</th>\n",
       "      <td>17146.75</td>\n",
       "      <td>14500.000000</td>\n",
       "      <td>18.253448</td>\n",
       "    </tr>\n",
       "    <tr>\n",
       "      <th>11</th>\n",
       "      <td>7417.75</td>\n",
       "      <td>4600.000000</td>\n",
       "      <td>61.255435</td>\n",
       "    </tr>\n",
       "    <tr>\n",
       "      <th>12</th>\n",
       "      <td>9871.25</td>\n",
       "      <td>10500.000000</td>\n",
       "      <td>-5.988095</td>\n",
       "    </tr>\n",
       "    <tr>\n",
       "      <th>13</th>\n",
       "      <td>-1915.25</td>\n",
       "      <td>6800.000000</td>\n",
       "      <td>-128.165441</td>\n",
       "    </tr>\n",
       "    <tr>\n",
       "      <th>14</th>\n",
       "      <td>6707.75</td>\n",
       "      <td>3600.000000</td>\n",
       "      <td>86.326389</td>\n",
       "    </tr>\n",
       "    <tr>\n",
       "      <th>15</th>\n",
       "      <td>5640.75</td>\n",
       "      <td>7800.000000</td>\n",
       "      <td>-27.682692</td>\n",
       "    </tr>\n",
       "    <tr>\n",
       "      <th>16</th>\n",
       "      <td>4939.75</td>\n",
       "      <td>4700.000000</td>\n",
       "      <td>5.101064</td>\n",
       "    </tr>\n",
       "    <tr>\n",
       "      <th>17</th>\n",
       "      <td>28532.75</td>\n",
       "      <td>17000.000000</td>\n",
       "      <td>67.839706</td>\n",
       "    </tr>\n",
       "    <tr>\n",
       "      <th>18</th>\n",
       "      <td>2144.75</td>\n",
       "      <td>2100.000000</td>\n",
       "      <td>2.130952</td>\n",
       "    </tr>\n",
       "    <tr>\n",
       "      <th>19</th>\n",
       "      <td>44775.75</td>\n",
       "      <td>14820.476838</td>\n",
       "      <td>202.120846</td>\n",
       "    </tr>\n",
       "    <tr>\n",
       "      <th>20</th>\n",
       "      <td>36571.50</td>\n",
       "      <td>35500.000000</td>\n",
       "      <td>3.018310</td>\n",
       "    </tr>\n",
       "    <tr>\n",
       "      <th>21</th>\n",
       "      <td>1809.75</td>\n",
       "      <td>3100.000000</td>\n",
       "      <td>-41.620968</td>\n",
       "    </tr>\n",
       "    <tr>\n",
       "      <th>22</th>\n",
       "      <td>292.75</td>\n",
       "      <td>1750.000000</td>\n",
       "      <td>-83.271429</td>\n",
       "    </tr>\n",
       "    <tr>\n",
       "      <th>23</th>\n",
       "      <td>7728.25</td>\n",
       "      <td>13950.000000</td>\n",
       "      <td>-44.600358</td>\n",
       "    </tr>\n",
       "    <tr>\n",
       "      <th>24</th>\n",
       "      <td>7057.75</td>\n",
       "      <td>9300.000000</td>\n",
       "      <td>-24.110215</td>\n",
       "    </tr>\n",
       "    <tr>\n",
       "      <th>25</th>\n",
       "      <td>6790.75</td>\n",
       "      <td>9000.000000</td>\n",
       "      <td>-24.547222</td>\n",
       "    </tr>\n",
       "    <tr>\n",
       "      <th>26</th>\n",
       "      <td>9114.75</td>\n",
       "      <td>9500.000000</td>\n",
       "      <td>-4.055263</td>\n",
       "    </tr>\n",
       "    <tr>\n",
       "      <th>27</th>\n",
       "      <td>24055.75</td>\n",
       "      <td>13000.000000</td>\n",
       "      <td>85.044231</td>\n",
       "    </tr>\n",
       "    <tr>\n",
       "      <th>28</th>\n",
       "      <td>10039.00</td>\n",
       "      <td>10900.000000</td>\n",
       "      <td>-7.899083</td>\n",
       "    </tr>\n",
       "    <tr>\n",
       "      <th>29</th>\n",
       "      <td>7826.75</td>\n",
       "      <td>5300.000000</td>\n",
       "      <td>47.674528</td>\n",
       "    </tr>\n",
       "  </tbody>\n",
       "</table>\n",
       "</div>"
      ],
      "text/plain": [
       "    price_pred         price    diff_per\n",
       "0     21639.25  21000.000000    3.044048\n",
       "1     21663.75  12900.000000   67.936047\n",
       "2     10366.00  12500.000000  -17.072000\n",
       "3      7424.25   7000.000000    6.060714\n",
       "4      6557.75   6000.000000    9.295833\n",
       "5      3260.75   2900.000000   12.439655\n",
       "6     14596.75  11000.000000   32.697727\n",
       "7     18609.50  50000.000000  -62.781000\n",
       "8       802.75   3667.950000  -78.114478\n",
       "9      6100.25   4900.000000   24.494898\n",
       "10    17146.75  14500.000000   18.253448\n",
       "11     7417.75   4600.000000   61.255435\n",
       "12     9871.25  10500.000000   -5.988095\n",
       "13    -1915.25   6800.000000 -128.165441\n",
       "14     6707.75   3600.000000   86.326389\n",
       "15     5640.75   7800.000000  -27.682692\n",
       "16     4939.75   4700.000000    5.101064\n",
       "17    28532.75  17000.000000   67.839706\n",
       "18     2144.75   2100.000000    2.130952\n",
       "19    44775.75  14820.476838  202.120846\n",
       "20    36571.50  35500.000000    3.018310\n",
       "21     1809.75   3100.000000  -41.620968\n",
       "22      292.75   1750.000000  -83.271429\n",
       "23     7728.25  13950.000000  -44.600358\n",
       "24     7057.75   9300.000000  -24.110215\n",
       "25     6790.75   9000.000000  -24.547222\n",
       "26     9114.75   9500.000000   -4.055263\n",
       "27    24055.75  13000.000000   85.044231\n",
       "28    10039.00  10900.000000   -7.899083\n",
       "29     7826.75   5300.000000   47.674528"
      ]
     },
     "execution_count": 38,
     "metadata": {},
     "output_type": "execute_result"
    }
   ],
   "source": [
    "y_poly_pred_test = linreg.predict(X_poly_test)\n",
    "pred= pd.DataFrame(y_poly_pred_test)\n",
    "def lr():  \n",
    "    pred.columns = ['price_pred']\n",
    "    head = pred.head()\n",
    "    return head\n",
    "lr()\n",
    "# print(pred.head())\n",
    "# print(y_test.reset_index().drop(\"index\",axis=1).head())\n",
    "diff_pred = pd.concat([pred, y_test.reset_index().drop(\"index\",axis=1)],axis=1)\n",
    "diff_pred[\"diff_per\"] = (diff_pred.price_pred - diff_pred.price)*100/diff_pred.price\n",
    "print(\"Total : {0}\".format(diff_pred.shape[0]))\n",
    "print(\"Diff less than 10% : {0}\".format(diff_pred[diff_pred.diff_per.abs() < 10].shape[0]))\n",
    "print(\"Diff between 10-20% : {0}\".format(diff_pred[(diff_pred.diff_per.abs() >= 10)&(diff_pred.diff_per.abs() < 20)].shape[0]))\n",
    "print(\"Diff between 20-30% : {0}\".format(diff_pred[(diff_pred.diff_per.abs() >= 20)&(diff_pred.diff_per.abs() < 30)].shape[0]))\n",
    "print(\"Diff between 30-40% : {0}\".format(diff_pred[(diff_pred.diff_per.abs() >= 30)&(diff_pred.diff_per.abs() < 40)].shape[0]))\n",
    "print(\"Diff between 40-50% : {0}\".format(diff_pred[(diff_pred.diff_per.abs() >= 40)&(diff_pred.diff_per.abs() < 50)].shape[0]))\n",
    "print(\"Diff more than 50% : {0}\".format(diff_pred[diff_pred.diff_per.abs() >= 50].shape[0]))\n",
    "\n",
    "# diff_pred.diff_per.abs()\n",
    "diff_pred.head(30)"
   ]
  },
  {
   "cell_type": "code",
   "execution_count": 39,
   "metadata": {},
   "outputs": [
    {
     "name": "stdout",
     "output_type": "stream",
     "text": [
      "MAE for training set is 3688.6595883739583\n",
      "MAE for test set is 3497.274261782314\n"
     ]
    }
   ],
   "source": [
    "from sklearn import metrics\n",
    "def lr():\n",
    "    MAE_train = metrics.mean_absolute_error(y_train, y_poly_pred_train)\n",
    "    MAE_test = metrics.mean_absolute_error(y_test, y_poly_pred_test)\n",
    "    print('MAE for training set is {}'.format(MAE_train))\n",
    "    print('MAE for test set is {}'.format(MAE_test))\n",
    "lr()"
   ]
  },
  {
   "cell_type": "code",
   "execution_count": 40,
   "metadata": {},
   "outputs": [
    {
     "name": "stdout",
     "output_type": "stream",
     "text": [
      "MSE for training set is 40346161.36404635\n",
      "MSE for test set is 36167590.16313126\n"
     ]
    }
   ],
   "source": [
    "def lr():\n",
    "    MSE_train = metrics.mean_squared_error(y_train, y_poly_pred_train)\n",
    "    MSE_test = metrics.mean_squared_error(y_test, y_poly_pred_test)\n",
    "    print('MSE for training set is {}'.format(MSE_train))\n",
    "    print('MSE for test set is {}'.format(MSE_test))\n",
    "lr()"
   ]
  },
  {
   "cell_type": "code",
   "execution_count": 41,
   "metadata": {},
   "outputs": [
    {
     "name": "stdout",
     "output_type": "stream",
     "text": [
      "RMSE for training set is 6351.862826293272\n",
      "RMSE for test set is 6013.949630910726\n"
     ]
    }
   ],
   "source": [
    "import numpy as np\n",
    "def lr():\n",
    "    RMSE_train = np.sqrt( metrics.mean_squared_error(y_train, y_poly_pred_train))\n",
    "    RMSE_test = np.sqrt(metrics.mean_squared_error(y_test, y_poly_pred_test))\n",
    "    print('RMSE for training set is {}'.format(RMSE_train))\n",
    "    print('RMSE for test set is {}'.format(RMSE_test))\n",
    "lr()"
   ]
  },
  {
   "cell_type": "code",
   "execution_count": 42,
   "metadata": {},
   "outputs": [
    {
     "name": "stdout",
     "output_type": "stream",
     "text": [
      "R2 for training set is 0.8308133301083667\n",
      "R2 for test set is 0.8297139474955856\n"
     ]
    }
   ],
   "source": [
    "from sklearn.metrics import r2_score\n",
    "def lr():\n",
    "    R2_train = r2_score(y_train, y_poly_pred_train) \n",
    "    R2_test = r2_score(y_test, y_poly_pred_test) \n",
    "    print('R2 for training set is {}'.format(R2_train))\n",
    "    print('R2 for test set is {}'.format(R2_test))\n",
    "lr()"
   ]
  },
  {
   "cell_type": "code",
   "execution_count": 43,
   "metadata": {},
   "outputs": [
    {
     "name": "stdout",
     "output_type": "stream",
     "text": [
      "(8783, 220)\n",
      "5927\n",
      "2414\n",
      "Adjusted R squared score for Training Set is 0.8245334132235751\n",
      "Adjusted R squared score for Test Set is 0.8141949203410822\n"
     ]
    }
   ],
   "source": [
    "def lr():\n",
    "    p = X_poly.shape[1]\n",
    "    print(X_poly.shape)\n",
    "    n_train = y_train.size\n",
    "    n_test = y_test.size\n",
    "    R2_train = metrics.r2_score(y_true=y_train, y_pred=y_poly_pred_train)\n",
    "    R2_test = metrics.r2_score(y_true=y_test, y_pred=y_poly_pred_test)\n",
    "    # Calculate Adjusted r2 for train\n",
    "    print(n_train-p-1)\n",
    "    AR2_train = 1-((1-R2_train)*(n_train-1)/(n_train-p-1))\n",
    "    # Calculate Adjusted r2 for test \n",
    "    print(n_test-p-1)\n",
    "    AR2_test = 1-((1-R2_test)*(n_test-1)/(n_test-p-1))\n",
    "    # print r2 for train\n",
    "    print(\"Adjusted R squared score for Training Set is {0}\".format(AR2_train))\n",
    "    # print r2 for test\n",
    "    print(\"Adjusted R squared score for Test Set is {0}\".format(AR2_test))\n",
    "lr()"
   ]
  },
  {
   "cell_type": "code",
   "execution_count": 44,
   "metadata": {},
   "outputs": [
    {
     "data": {
      "text/plain": [
       "Text(0,0.5,'Price')"
      ]
     },
     "execution_count": 44,
     "metadata": {},
     "output_type": "execute_result"
    },
    {
     "data": {
      "image/png": "[encoded data removed]",
      "text/plain": [
       "<Figure size 432x288 with 1 Axes>"
      ]
     },
     "metadata": {},
     "output_type": "display_data"
    }
   ],
   "source": [
    "import matplotlib.pyplot as plt\n",
    "\n",
    "plt.scatter(X_train.registration_yes, y_train, color='Green')\n",
    "plt.plot(X_train.registration_yes, y_poly_pred_train, color='black')\n",
    "plt.title('Polinomial Regression')\n",
    "plt.xlabel('Position')\n",
    "plt.ylabel('Price')"
   ]
  },
  {
   "cell_type": "code",
   "execution_count": 45,
   "metadata": {},
   "outputs": [
    {
     "data": {
      "text/plain": [
       "Text(0,0.5,'Price')"
      ]
     },
     "execution_count": 45,
     "metadata": {},
     "output_type": "execute_result"
    },
    {
     "data": {
      "image/png": "[encoded data removed]",
      "text/plain": [
       "<Figure size 432x288 with 1 Axes>"
      ]
     },
     "metadata": {},
     "output_type": "display_data"
    }
   ],
   "source": [
    "plt.scatter(X_test.registration_yes, y_test, color='Green')\n",
    "plt.plot(X_test.registration_yes, y_poly_pred_test, color='black')\n",
    "plt.title('Polinomial Regression')\n",
    "plt.xlabel('Position')\n",
    "plt.ylabel('Price')"
   ]
  },
  {
   "cell_type": "code",
   "execution_count": null,
   "metadata": {},
   "outputs": [],
   "source": []
  },
  {
   "cell_type": "code",
   "execution_count": null,
   "metadata": {},
   "outputs": [],
   "source": []
  }
 ],
 "metadata": {
  "kernelspec": {
   "display_name": "Python 3",
   "language": "python",
   "name": "python3"
  },
  "language_info": {
   "codemirror_mode": {
    "name": "ipython",
    "version": 3
   },
   "file_extension": ".py",
   "mimetype": "text/x-python",
   "name": "python",
   "nbconvert_exporter": "python",
   "pygments_lexer": "ipython3",
   "version": "3.6.5"
  }
 },
 "nbformat": 4,
 "nbformat_minor": 2
}
